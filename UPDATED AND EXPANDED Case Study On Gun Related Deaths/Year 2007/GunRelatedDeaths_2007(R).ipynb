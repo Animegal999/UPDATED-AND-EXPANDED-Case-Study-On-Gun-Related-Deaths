{
  "cells": [
    {
      "cell_type": "code",
      "execution_count": 1,
      "metadata": {
        "colab": {
          "base_uri": "https://localhost:8080/"
        },
        "id": "8erXwBuPbX4I",
        "outputId": "0887002d-6253-4b5d-b3ee-7d5067118a4d",
        "vscode": {
          "languageId": "r"
        }
      },
      "outputs": [
        {
          "name": "stderr",
          "output_type": "stream",
          "text": [
            "Installing package into ‘/usr/local/lib/R/site-library’\n",
            "(as ‘lib’ is unspecified)\n",
            "\n",
            "Installing package into ‘/usr/local/lib/R/site-library’\n",
            "(as ‘lib’ is unspecified)\n",
            "\n",
            "Installing package into ‘/usr/local/lib/R/site-library’\n",
            "(as ‘lib’ is unspecified)\n",
            "\n",
            "also installing the dependencies ‘zoo’, ‘xts’, ‘PKI’, ‘packrat’, ‘renv’, ‘V8’, ‘dygraphs’, ‘rsconnect’, ‘katex’, ‘cleanrmd’\n",
            "\n",
            "\n",
            "Installing package into ‘/usr/local/lib/R/site-library’\n",
            "(as ‘lib’ is unspecified)\n",
            "\n",
            "also installing the dependencies ‘lazyeval’, ‘crosstalk’\n",
            "\n",
            "\n",
            "Installing package into ‘/usr/local/lib/R/site-library’\n",
            "(as ‘lib’ is unspecified)\n",
            "\n",
            "also installing the dependencies ‘proxy’, ‘rootSolve’, ‘e1071’, ‘lmom’, ‘mvtnorm’, ‘expm’, ‘Exact’, ‘gld’\n",
            "\n",
            "\n",
            "Installing package into ‘/usr/local/lib/R/site-library’\n",
            "(as ‘lib’ is unspecified)\n",
            "\n",
            "\n",
            "Attaching package: ‘plotly’\n",
            "\n",
            "\n",
            "The following object is masked from ‘package:ggplot2’:\n",
            "\n",
            "    last_plot\n",
            "\n",
            "\n",
            "The following object is masked from ‘package:stats’:\n",
            "\n",
            "    filter\n",
            "\n",
            "\n",
            "The following object is masked from ‘package:graphics’:\n",
            "\n",
            "    layout\n",
            "\n",
            "\n",
            "\n",
            "Attaching package: ‘dplyr’\n",
            "\n",
            "\n",
            "The following objects are masked from ‘package:stats’:\n",
            "\n",
            "    filter, lag\n",
            "\n",
            "\n",
            "The following objects are masked from ‘package:base’:\n",
            "\n",
            "    intersect, setdiff, setequal, union\n",
            "\n",
            "\n"
          ]
        }
      ],
      "source": [
        "install.packages(\"ggplot2\")\n",
        "install.packages(\"tinytex\")\n",
        "install.packages(\"rmarkdown\", dep = TRUE)\n",
        "install.packages(\"plotly\")\n",
        "install.packages(\"DescTools\")\n",
        "install.packages(\"dplyr\")\n",
        "\n",
        "library(ggplot2)\n",
        "library(tinytex)\n",
        "library(rmarkdown)\n",
        "library(plotly)\n",
        "library(DescTools)\n",
        "library(dplyr)"
      ]
    },
    {
      "cell_type": "code",
      "execution_count": 21,
      "metadata": {
        "colab": {
          "base_uri": "https://localhost:8080/",
          "height": 1000
        },
        "id": "_OCCxzoxb6SI",
        "outputId": "fb496f87-66bc-46b8-99ee-76df3cab438d",
        "vscode": {
          "languageId": "r"
        }
      },
      "outputs": [
        {
          "data": {
            "text/html": [
              "<table class=\"dataframe\">\n",
              "<caption>A data.frame: 31224 × 10</caption>\n",
              "<thead>\n",
              "\t<tr><th scope=col>year</th><th scope=col>month</th><th scope=col>intent</th><th scope=col>police</th><th scope=col>sex</th><th scope=col>age</th><th scope=col>race</th><th scope=col>hispanic</th><th scope=col>place</th><th scope=col>education</th></tr>\n",
              "\t<tr><th scope=col>&lt;int&gt;</th><th scope=col>&lt;int&gt;</th><th scope=col>&lt;chr&gt;</th><th scope=col>&lt;int&gt;</th><th scope=col>&lt;chr&gt;</th><th scope=col>&lt;dbl&gt;</th><th scope=col>&lt;chr&gt;</th><th scope=col>&lt;chr&gt;</th><th scope=col>&lt;chr&gt;</th><th scope=col>&lt;chr&gt;</th></tr>\n",
              "</thead>\n",
              "<tbody>\n",
              "\t<tr><td>2007</td><td>1</td><td>Suicide </td><td>0</td><td>M</td><td>35</td><td>White</td><td>No</td><td>Other unspecified </td><td>HS/GED      </td></tr>\n",
              "\t<tr><td>2007</td><td>1</td><td>Suicide </td><td>0</td><td>M</td><td>51</td><td>White</td><td>No</td><td>Other unspecified </td><td>Less than HS</td></tr>\n",
              "\t<tr><td>2007</td><td>1</td><td>Homicide</td><td>0</td><td>M</td><td>34</td><td>Black</td><td>No</td><td>Other specified   </td><td>HS/GED      </td></tr>\n",
              "\t<tr><td>2007</td><td>1</td><td>Suicide </td><td>0</td><td>M</td><td>43</td><td>White</td><td>No</td><td>Other unspecified </td><td>HS/GED      </td></tr>\n",
              "\t<tr><td>2007</td><td>1</td><td>Homicide</td><td>0</td><td>F</td><td>20</td><td>Black</td><td>No</td><td>Home              </td><td>HS/GED      </td></tr>\n",
              "\t<tr><td>2007</td><td>1</td><td>Homicide</td><td>0</td><td>F</td><td>35</td><td>White</td><td>No</td><td>Home              </td><td>HS/GED      </td></tr>\n",
              "\t<tr><td>2007</td><td>1</td><td>Suicide </td><td>0</td><td>M</td><td>68</td><td>White</td><td>No</td><td>Home              </td><td>HS/GED      </td></tr>\n",
              "\t<tr><td>2007</td><td>1</td><td>Suicide </td><td>0</td><td>M</td><td>62</td><td>White</td><td>No</td><td>Sports            </td><td>BA+         </td></tr>\n",
              "\t<tr><td>2007</td><td>1</td><td>Suicide </td><td>0</td><td>M</td><td>97</td><td>White</td><td>No</td><td>Other unspecified </td><td>Less than HS</td></tr>\n",
              "\t<tr><td>2007</td><td>1</td><td>Suicide </td><td>0</td><td>M</td><td>41</td><td>White</td><td>No</td><td>Home              </td><td>Some college</td></tr>\n",
              "\t<tr><td>2007</td><td>1</td><td>Suicide </td><td>0</td><td>M</td><td>30</td><td>White</td><td>No</td><td>Other unspecified </td><td>BA+         </td></tr>\n",
              "\t<tr><td>2007</td><td>1</td><td>Homicide</td><td>0</td><td>F</td><td>30</td><td>White</td><td>No</td><td>Other unspecified </td><td>HS/GED      </td></tr>\n",
              "\t<tr><td>2007</td><td>1</td><td>Suicide </td><td>0</td><td>M</td><td>32</td><td>White</td><td>No</td><td>School/instiution </td><td>Less than HS</td></tr>\n",
              "\t<tr><td>2007</td><td>1</td><td>Homicide</td><td>0</td><td>M</td><td>20</td><td>Black</td><td>No</td><td>Street            </td><td>HS/GED      </td></tr>\n",
              "\t<tr><td>2007</td><td>1</td><td>Suicide </td><td>0</td><td>M</td><td>45</td><td>White</td><td>No</td><td>Street            </td><td>HS/GED      </td></tr>\n",
              "\t<tr><td>2007</td><td>1</td><td>Suicide </td><td>0</td><td>F</td><td>49</td><td>White</td><td>No</td><td>Other unspecified </td><td>HS/GED      </td></tr>\n",
              "\t<tr><td>2007</td><td>1</td><td>Suicide </td><td>0</td><td>M</td><td>61</td><td>White</td><td>No</td><td>Other unspecified </td><td>HS/GED      </td></tr>\n",
              "\t<tr><td>2007</td><td>1</td><td>Suicide </td><td>0</td><td>M</td><td>23</td><td>Black</td><td>No</td><td>Other unspecified </td><td>HS/GED      </td></tr>\n",
              "\t<tr><td>2007</td><td>1</td><td>Homicide</td><td>0</td><td>M</td><td>32</td><td>Black</td><td>No</td><td>Other specified   </td><td>Some college</td></tr>\n",
              "\t<tr><td>2007</td><td>1</td><td>Suicide </td><td>0</td><td>M</td><td>63</td><td>White</td><td>No</td><td>Trade/service area</td><td>Some college</td></tr>\n",
              "\t<tr><td>2007</td><td>1</td><td>Suicide </td><td>0</td><td>M</td><td>59</td><td>Black</td><td>No</td><td>Other unspecified </td><td>Less than HS</td></tr>\n",
              "\t<tr><td>2007</td><td>1</td><td>Suicide </td><td>0</td><td>M</td><td>52</td><td>White</td><td>No</td><td>Other unspecified </td><td>HS/GED      </td></tr>\n",
              "\t<tr><td>2007</td><td>1</td><td>Suicide </td><td>0</td><td>M</td><td>38</td><td>White</td><td>No</td><td>Home              </td><td>HS/GED      </td></tr>\n",
              "\t<tr><td>2007</td><td>1</td><td>Suicide </td><td>0</td><td>M</td><td>28</td><td>White</td><td>No</td><td>Home              </td><td>HS/GED      </td></tr>\n",
              "\t<tr><td>2007</td><td>1</td><td>Suicide </td><td>0</td><td>M</td><td>45</td><td>White</td><td>No</td><td>Other unspecified </td><td>HS/GED      </td></tr>\n",
              "\t<tr><td>2007</td><td>1</td><td>Suicide </td><td>0</td><td>M</td><td>60</td><td>White</td><td>No</td><td>Other unspecified </td><td>Some college</td></tr>\n",
              "\t<tr><td>2007</td><td>1</td><td>Homicide</td><td>0</td><td>M</td><td>61</td><td>White</td><td>No</td><td>Other unspecified </td><td>Some college</td></tr>\n",
              "\t<tr><td>2007</td><td>1</td><td>Homicide</td><td>0</td><td>M</td><td>31</td><td>Black</td><td>No</td><td>Other unspecified </td><td>HS/GED      </td></tr>\n",
              "\t<tr><td>2007</td><td>1</td><td>Suicide </td><td>0</td><td>M</td><td>20</td><td>White</td><td>No</td><td>Home              </td><td>Less than HS</td></tr>\n",
              "\t<tr><td>2007</td><td>1</td><td>Suicide </td><td>0</td><td>F</td><td>70</td><td>White</td><td>No</td><td>Home              </td><td>HS/GED      </td></tr>\n",
              "\t<tr><td>⋮</td><td>⋮</td><td>⋮</td><td>⋮</td><td>⋮</td><td>⋮</td><td>⋮</td><td>⋮</td><td>⋮</td><td>⋮</td></tr>\n",
              "\t<tr><td>2007</td><td>12</td><td>Homicide</td><td>0</td><td>M</td><td>41</td><td>Black   </td><td>No </td><td>Other specified   </td><td>HS/GED      </td></tr>\n",
              "\t<tr><td>2007</td><td>12</td><td>Homicide</td><td>0</td><td>M</td><td>24</td><td>Black   </td><td>No </td><td>Other unspecified </td><td>HS/GED      </td></tr>\n",
              "\t<tr><td>2007</td><td>12</td><td>Homicide</td><td>0</td><td>F</td><td>23</td><td>Hispanic</td><td>Yes</td><td>Street            </td><td>HS/GED      </td></tr>\n",
              "\t<tr><td>2007</td><td>12</td><td>Homicide</td><td>0</td><td>M</td><td>33</td><td>Hispanic</td><td>Yes</td><td>Street            </td><td>Less than HS</td></tr>\n",
              "\t<tr><td>2007</td><td>12</td><td>Homicide</td><td>0</td><td>M</td><td>33</td><td>Black   </td><td>No </td><td>Street            </td><td>Less than HS</td></tr>\n",
              "\t<tr><td>2007</td><td>12</td><td>Homicide</td><td>0</td><td>F</td><td>45</td><td>Black   </td><td>No </td><td>Other unspecified </td><td>Unknown     </td></tr>\n",
              "\t<tr><td>2007</td><td>12</td><td>Homicide</td><td>0</td><td>M</td><td>21</td><td>Black   </td><td>No </td><td>Street            </td><td>HS/GED      </td></tr>\n",
              "\t<tr><td>2007</td><td>12</td><td>Suicide </td><td>0</td><td>M</td><td>32</td><td>White   </td><td>No </td><td>Home              </td><td>Some college</td></tr>\n",
              "\t<tr><td>2007</td><td>12</td><td>Homicide</td><td>0</td><td>F</td><td>35</td><td>Black   </td><td>No </td><td>Street            </td><td>BA+         </td></tr>\n",
              "\t<tr><td>2007</td><td>12</td><td>Suicide </td><td>0</td><td>M</td><td>89</td><td>White   </td><td>No </td><td>Home              </td><td>BA+         </td></tr>\n",
              "\t<tr><td>2007</td><td>12</td><td>Homicide</td><td>0</td><td>M</td><td>29</td><td>Hispanic</td><td>Yes</td><td>Street            </td><td>Some college</td></tr>\n",
              "\t<tr><td>2007</td><td>12</td><td>Homicide</td><td>0</td><td>M</td><td>19</td><td>Black   </td><td>No </td><td>Street            </td><td>HS/GED      </td></tr>\n",
              "\t<tr><td>2007</td><td>12</td><td>Homicide</td><td>0</td><td>M</td><td>25</td><td>Black   </td><td>No </td><td>Other specified   </td><td>HS/GED      </td></tr>\n",
              "\t<tr><td>2007</td><td>12</td><td>Homicide</td><td>0</td><td>M</td><td>23</td><td>Black   </td><td>No </td><td>Other unspecified </td><td>HS/GED      </td></tr>\n",
              "\t<tr><td>2007</td><td>12</td><td>Homicide</td><td>0</td><td>M</td><td>20</td><td>Black   </td><td>No </td><td>Street            </td><td>HS/GED      </td></tr>\n",
              "\t<tr><td>2007</td><td>12</td><td>Homicide</td><td>0</td><td>M</td><td>19</td><td>Black   </td><td>No </td><td>Street            </td><td>HS/GED      </td></tr>\n",
              "\t<tr><td>2007</td><td>12</td><td>Homicide</td><td>0</td><td>M</td><td>16</td><td>Black   </td><td>No </td><td>Street            </td><td>Less than HS</td></tr>\n",
              "\t<tr><td>2007</td><td>12</td><td>Homicide</td><td>0</td><td>M</td><td>19</td><td>Black   </td><td>No </td><td>Street            </td><td>Less than HS</td></tr>\n",
              "\t<tr><td>2007</td><td>12</td><td>Suicide </td><td>0</td><td>M</td><td>29</td><td>Black   </td><td>No </td><td>Home              </td><td>HS/GED      </td></tr>\n",
              "\t<tr><td>2007</td><td>12</td><td>Homicide</td><td>0</td><td>M</td><td>22</td><td>Hispanic</td><td>Yes</td><td>Trade/service area</td><td>HS/GED      </td></tr>\n",
              "\t<tr><td>2007</td><td>12</td><td>Homicide</td><td>0</td><td>M</td><td>19</td><td>White   </td><td>No </td><td>Street            </td><td>Some college</td></tr>\n",
              "\t<tr><td>2007</td><td>12</td><td>Homicide</td><td>0</td><td>M</td><td>37</td><td>Hispanic</td><td>Yes</td><td>Street            </td><td>HS/GED      </td></tr>\n",
              "\t<tr><td>2007</td><td>12</td><td>Homicide</td><td>0</td><td>M</td><td>26</td><td>Black   </td><td>No </td><td>Street            </td><td>HS/GED      </td></tr>\n",
              "\t<tr><td>2007</td><td>12</td><td>Homicide</td><td>0</td><td>M</td><td>42</td><td>Black   </td><td>No </td><td>Home              </td><td>HS/GED      </td></tr>\n",
              "\t<tr><td>2007</td><td>12</td><td>Homicide</td><td>0</td><td>M</td><td>35</td><td>Hispanic</td><td>Yes</td><td>Other specified   </td><td>HS/GED      </td></tr>\n",
              "\t<tr><td>2007</td><td>12</td><td>Homicide</td><td>0</td><td>M</td><td>44</td><td>Black   </td><td>No </td><td>Home              </td><td>HS/GED      </td></tr>\n",
              "\t<tr><td>2007</td><td>12</td><td>Homicide</td><td>0</td><td>M</td><td>26</td><td>Black   </td><td>No </td><td>Other unspecified </td><td>HS/GED      </td></tr>\n",
              "\t<tr><td>2007</td><td>12</td><td>Homicide</td><td>0</td><td>M</td><td>42</td><td>Black   </td><td>No </td><td>Street            </td><td>Less than HS</td></tr>\n",
              "\t<tr><td>2007</td><td>12</td><td>Suicide </td><td>0</td><td>M</td><td>79</td><td>White   </td><td>No </td><td>Other unspecified </td><td>Unknown     </td></tr>\n",
              "\t<tr><td>2007</td><td>12</td><td>Homicide</td><td>0</td><td>F</td><td>50</td><td>White   </td><td>No </td><td>Home              </td><td>HS/GED      </td></tr>\n",
              "</tbody>\n",
              "</table>\n"
            ],
            "text/latex": [
              "A data.frame: 31224 × 10\n",
              "\\begin{tabular}{llllllllll}\n",
              " year & month & intent & police & sex & age & race & hispanic & place & education\\\\\n",
              " <int> & <int> & <chr> & <int> & <chr> & <dbl> & <chr> & <chr> & <chr> & <chr>\\\\\n",
              "\\hline\n",
              "\t 2007 & 1 & Suicide  & 0 & M & 35 & White & No & Other unspecified  & HS/GED      \\\\\n",
              "\t 2007 & 1 & Suicide  & 0 & M & 51 & White & No & Other unspecified  & Less than HS\\\\\n",
              "\t 2007 & 1 & Homicide & 0 & M & 34 & Black & No & Other specified    & HS/GED      \\\\\n",
              "\t 2007 & 1 & Suicide  & 0 & M & 43 & White & No & Other unspecified  & HS/GED      \\\\\n",
              "\t 2007 & 1 & Homicide & 0 & F & 20 & Black & No & Home               & HS/GED      \\\\\n",
              "\t 2007 & 1 & Homicide & 0 & F & 35 & White & No & Home               & HS/GED      \\\\\n",
              "\t 2007 & 1 & Suicide  & 0 & M & 68 & White & No & Home               & HS/GED      \\\\\n",
              "\t 2007 & 1 & Suicide  & 0 & M & 62 & White & No & Sports             & BA+         \\\\\n",
              "\t 2007 & 1 & Suicide  & 0 & M & 97 & White & No & Other unspecified  & Less than HS\\\\\n",
              "\t 2007 & 1 & Suicide  & 0 & M & 41 & White & No & Home               & Some college\\\\\n",
              "\t 2007 & 1 & Suicide  & 0 & M & 30 & White & No & Other unspecified  & BA+         \\\\\n",
              "\t 2007 & 1 & Homicide & 0 & F & 30 & White & No & Other unspecified  & HS/GED      \\\\\n",
              "\t 2007 & 1 & Suicide  & 0 & M & 32 & White & No & School/instiution  & Less than HS\\\\\n",
              "\t 2007 & 1 & Homicide & 0 & M & 20 & Black & No & Street             & HS/GED      \\\\\n",
              "\t 2007 & 1 & Suicide  & 0 & M & 45 & White & No & Street             & HS/GED      \\\\\n",
              "\t 2007 & 1 & Suicide  & 0 & F & 49 & White & No & Other unspecified  & HS/GED      \\\\\n",
              "\t 2007 & 1 & Suicide  & 0 & M & 61 & White & No & Other unspecified  & HS/GED      \\\\\n",
              "\t 2007 & 1 & Suicide  & 0 & M & 23 & Black & No & Other unspecified  & HS/GED      \\\\\n",
              "\t 2007 & 1 & Homicide & 0 & M & 32 & Black & No & Other specified    & Some college\\\\\n",
              "\t 2007 & 1 & Suicide  & 0 & M & 63 & White & No & Trade/service area & Some college\\\\\n",
              "\t 2007 & 1 & Suicide  & 0 & M & 59 & Black & No & Other unspecified  & Less than HS\\\\\n",
              "\t 2007 & 1 & Suicide  & 0 & M & 52 & White & No & Other unspecified  & HS/GED      \\\\\n",
              "\t 2007 & 1 & Suicide  & 0 & M & 38 & White & No & Home               & HS/GED      \\\\\n",
              "\t 2007 & 1 & Suicide  & 0 & M & 28 & White & No & Home               & HS/GED      \\\\\n",
              "\t 2007 & 1 & Suicide  & 0 & M & 45 & White & No & Other unspecified  & HS/GED      \\\\\n",
              "\t 2007 & 1 & Suicide  & 0 & M & 60 & White & No & Other unspecified  & Some college\\\\\n",
              "\t 2007 & 1 & Homicide & 0 & M & 61 & White & No & Other unspecified  & Some college\\\\\n",
              "\t 2007 & 1 & Homicide & 0 & M & 31 & Black & No & Other unspecified  & HS/GED      \\\\\n",
              "\t 2007 & 1 & Suicide  & 0 & M & 20 & White & No & Home               & Less than HS\\\\\n",
              "\t 2007 & 1 & Suicide  & 0 & F & 70 & White & No & Home               & HS/GED      \\\\\n",
              "\t ⋮ & ⋮ & ⋮ & ⋮ & ⋮ & ⋮ & ⋮ & ⋮ & ⋮ & ⋮\\\\\n",
              "\t 2007 & 12 & Homicide & 0 & M & 41 & Black    & No  & Other specified    & HS/GED      \\\\\n",
              "\t 2007 & 12 & Homicide & 0 & M & 24 & Black    & No  & Other unspecified  & HS/GED      \\\\\n",
              "\t 2007 & 12 & Homicide & 0 & F & 23 & Hispanic & Yes & Street             & HS/GED      \\\\\n",
              "\t 2007 & 12 & Homicide & 0 & M & 33 & Hispanic & Yes & Street             & Less than HS\\\\\n",
              "\t 2007 & 12 & Homicide & 0 & M & 33 & Black    & No  & Street             & Less than HS\\\\\n",
              "\t 2007 & 12 & Homicide & 0 & F & 45 & Black    & No  & Other unspecified  & Unknown     \\\\\n",
              "\t 2007 & 12 & Homicide & 0 & M & 21 & Black    & No  & Street             & HS/GED      \\\\\n",
              "\t 2007 & 12 & Suicide  & 0 & M & 32 & White    & No  & Home               & Some college\\\\\n",
              "\t 2007 & 12 & Homicide & 0 & F & 35 & Black    & No  & Street             & BA+         \\\\\n",
              "\t 2007 & 12 & Suicide  & 0 & M & 89 & White    & No  & Home               & BA+         \\\\\n",
              "\t 2007 & 12 & Homicide & 0 & M & 29 & Hispanic & Yes & Street             & Some college\\\\\n",
              "\t 2007 & 12 & Homicide & 0 & M & 19 & Black    & No  & Street             & HS/GED      \\\\\n",
              "\t 2007 & 12 & Homicide & 0 & M & 25 & Black    & No  & Other specified    & HS/GED      \\\\\n",
              "\t 2007 & 12 & Homicide & 0 & M & 23 & Black    & No  & Other unspecified  & HS/GED      \\\\\n",
              "\t 2007 & 12 & Homicide & 0 & M & 20 & Black    & No  & Street             & HS/GED      \\\\\n",
              "\t 2007 & 12 & Homicide & 0 & M & 19 & Black    & No  & Street             & HS/GED      \\\\\n",
              "\t 2007 & 12 & Homicide & 0 & M & 16 & Black    & No  & Street             & Less than HS\\\\\n",
              "\t 2007 & 12 & Homicide & 0 & M & 19 & Black    & No  & Street             & Less than HS\\\\\n",
              "\t 2007 & 12 & Suicide  & 0 & M & 29 & Black    & No  & Home               & HS/GED      \\\\\n",
              "\t 2007 & 12 & Homicide & 0 & M & 22 & Hispanic & Yes & Trade/service area & HS/GED      \\\\\n",
              "\t 2007 & 12 & Homicide & 0 & M & 19 & White    & No  & Street             & Some college\\\\\n",
              "\t 2007 & 12 & Homicide & 0 & M & 37 & Hispanic & Yes & Street             & HS/GED      \\\\\n",
              "\t 2007 & 12 & Homicide & 0 & M & 26 & Black    & No  & Street             & HS/GED      \\\\\n",
              "\t 2007 & 12 & Homicide & 0 & M & 42 & Black    & No  & Home               & HS/GED      \\\\\n",
              "\t 2007 & 12 & Homicide & 0 & M & 35 & Hispanic & Yes & Other specified    & HS/GED      \\\\\n",
              "\t 2007 & 12 & Homicide & 0 & M & 44 & Black    & No  & Home               & HS/GED      \\\\\n",
              "\t 2007 & 12 & Homicide & 0 & M & 26 & Black    & No  & Other unspecified  & HS/GED      \\\\\n",
              "\t 2007 & 12 & Homicide & 0 & M & 42 & Black    & No  & Street             & Less than HS\\\\\n",
              "\t 2007 & 12 & Suicide  & 0 & M & 79 & White    & No  & Other unspecified  & Unknown     \\\\\n",
              "\t 2007 & 12 & Homicide & 0 & F & 50 & White    & No  & Home               & HS/GED      \\\\\n",
              "\\end{tabular}\n"
            ],
            "text/markdown": [
              "\n",
              "A data.frame: 31224 × 10\n",
              "\n",
              "| year &lt;int&gt; | month &lt;int&gt; | intent &lt;chr&gt; | police &lt;int&gt; | sex &lt;chr&gt; | age &lt;dbl&gt; | race &lt;chr&gt; | hispanic &lt;chr&gt; | place &lt;chr&gt; | education &lt;chr&gt; |\n",
              "|---|---|---|---|---|---|---|---|---|---|\n",
              "| 2007 | 1 | Suicide  | 0 | M | 35 | White | No | Other unspecified  | HS/GED       |\n",
              "| 2007 | 1 | Suicide  | 0 | M | 51 | White | No | Other unspecified  | Less than HS |\n",
              "| 2007 | 1 | Homicide | 0 | M | 34 | Black | No | Other specified    | HS/GED       |\n",
              "| 2007 | 1 | Suicide  | 0 | M | 43 | White | No | Other unspecified  | HS/GED       |\n",
              "| 2007 | 1 | Homicide | 0 | F | 20 | Black | No | Home               | HS/GED       |\n",
              "| 2007 | 1 | Homicide | 0 | F | 35 | White | No | Home               | HS/GED       |\n",
              "| 2007 | 1 | Suicide  | 0 | M | 68 | White | No | Home               | HS/GED       |\n",
              "| 2007 | 1 | Suicide  | 0 | M | 62 | White | No | Sports             | BA+          |\n",
              "| 2007 | 1 | Suicide  | 0 | M | 97 | White | No | Other unspecified  | Less than HS |\n",
              "| 2007 | 1 | Suicide  | 0 | M | 41 | White | No | Home               | Some college |\n",
              "| 2007 | 1 | Suicide  | 0 | M | 30 | White | No | Other unspecified  | BA+          |\n",
              "| 2007 | 1 | Homicide | 0 | F | 30 | White | No | Other unspecified  | HS/GED       |\n",
              "| 2007 | 1 | Suicide  | 0 | M | 32 | White | No | School/instiution  | Less than HS |\n",
              "| 2007 | 1 | Homicide | 0 | M | 20 | Black | No | Street             | HS/GED       |\n",
              "| 2007 | 1 | Suicide  | 0 | M | 45 | White | No | Street             | HS/GED       |\n",
              "| 2007 | 1 | Suicide  | 0 | F | 49 | White | No | Other unspecified  | HS/GED       |\n",
              "| 2007 | 1 | Suicide  | 0 | M | 61 | White | No | Other unspecified  | HS/GED       |\n",
              "| 2007 | 1 | Suicide  | 0 | M | 23 | Black | No | Other unspecified  | HS/GED       |\n",
              "| 2007 | 1 | Homicide | 0 | M | 32 | Black | No | Other specified    | Some college |\n",
              "| 2007 | 1 | Suicide  | 0 | M | 63 | White | No | Trade/service area | Some college |\n",
              "| 2007 | 1 | Suicide  | 0 | M | 59 | Black | No | Other unspecified  | Less than HS |\n",
              "| 2007 | 1 | Suicide  | 0 | M | 52 | White | No | Other unspecified  | HS/GED       |\n",
              "| 2007 | 1 | Suicide  | 0 | M | 38 | White | No | Home               | HS/GED       |\n",
              "| 2007 | 1 | Suicide  | 0 | M | 28 | White | No | Home               | HS/GED       |\n",
              "| 2007 | 1 | Suicide  | 0 | M | 45 | White | No | Other unspecified  | HS/GED       |\n",
              "| 2007 | 1 | Suicide  | 0 | M | 60 | White | No | Other unspecified  | Some college |\n",
              "| 2007 | 1 | Homicide | 0 | M | 61 | White | No | Other unspecified  | Some college |\n",
              "| 2007 | 1 | Homicide | 0 | M | 31 | Black | No | Other unspecified  | HS/GED       |\n",
              "| 2007 | 1 | Suicide  | 0 | M | 20 | White | No | Home               | Less than HS |\n",
              "| 2007 | 1 | Suicide  | 0 | F | 70 | White | No | Home               | HS/GED       |\n",
              "| ⋮ | ⋮ | ⋮ | ⋮ | ⋮ | ⋮ | ⋮ | ⋮ | ⋮ | ⋮ |\n",
              "| 2007 | 12 | Homicide | 0 | M | 41 | Black    | No  | Other specified    | HS/GED       |\n",
              "| 2007 | 12 | Homicide | 0 | M | 24 | Black    | No  | Other unspecified  | HS/GED       |\n",
              "| 2007 | 12 | Homicide | 0 | F | 23 | Hispanic | Yes | Street             | HS/GED       |\n",
              "| 2007 | 12 | Homicide | 0 | M | 33 | Hispanic | Yes | Street             | Less than HS |\n",
              "| 2007 | 12 | Homicide | 0 | M | 33 | Black    | No  | Street             | Less than HS |\n",
              "| 2007 | 12 | Homicide | 0 | F | 45 | Black    | No  | Other unspecified  | Unknown      |\n",
              "| 2007 | 12 | Homicide | 0 | M | 21 | Black    | No  | Street             | HS/GED       |\n",
              "| 2007 | 12 | Suicide  | 0 | M | 32 | White    | No  | Home               | Some college |\n",
              "| 2007 | 12 | Homicide | 0 | F | 35 | Black    | No  | Street             | BA+          |\n",
              "| 2007 | 12 | Suicide  | 0 | M | 89 | White    | No  | Home               | BA+          |\n",
              "| 2007 | 12 | Homicide | 0 | M | 29 | Hispanic | Yes | Street             | Some college |\n",
              "| 2007 | 12 | Homicide | 0 | M | 19 | Black    | No  | Street             | HS/GED       |\n",
              "| 2007 | 12 | Homicide | 0 | M | 25 | Black    | No  | Other specified    | HS/GED       |\n",
              "| 2007 | 12 | Homicide | 0 | M | 23 | Black    | No  | Other unspecified  | HS/GED       |\n",
              "| 2007 | 12 | Homicide | 0 | M | 20 | Black    | No  | Street             | HS/GED       |\n",
              "| 2007 | 12 | Homicide | 0 | M | 19 | Black    | No  | Street             | HS/GED       |\n",
              "| 2007 | 12 | Homicide | 0 | M | 16 | Black    | No  | Street             | Less than HS |\n",
              "| 2007 | 12 | Homicide | 0 | M | 19 | Black    | No  | Street             | Less than HS |\n",
              "| 2007 | 12 | Suicide  | 0 | M | 29 | Black    | No  | Home               | HS/GED       |\n",
              "| 2007 | 12 | Homicide | 0 | M | 22 | Hispanic | Yes | Trade/service area | HS/GED       |\n",
              "| 2007 | 12 | Homicide | 0 | M | 19 | White    | No  | Street             | Some college |\n",
              "| 2007 | 12 | Homicide | 0 | M | 37 | Hispanic | Yes | Street             | HS/GED       |\n",
              "| 2007 | 12 | Homicide | 0 | M | 26 | Black    | No  | Street             | HS/GED       |\n",
              "| 2007 | 12 | Homicide | 0 | M | 42 | Black    | No  | Home               | HS/GED       |\n",
              "| 2007 | 12 | Homicide | 0 | M | 35 | Hispanic | Yes | Other specified    | HS/GED       |\n",
              "| 2007 | 12 | Homicide | 0 | M | 44 | Black    | No  | Home               | HS/GED       |\n",
              "| 2007 | 12 | Homicide | 0 | M | 26 | Black    | No  | Other unspecified  | HS/GED       |\n",
              "| 2007 | 12 | Homicide | 0 | M | 42 | Black    | No  | Street             | Less than HS |\n",
              "| 2007 | 12 | Suicide  | 0 | M | 79 | White    | No  | Other unspecified  | Unknown      |\n",
              "| 2007 | 12 | Homicide | 0 | F | 50 | White    | No  | Home               | HS/GED       |\n",
              "\n"
            ],
            "text/plain": [
              "      year month intent   police sex age race     hispanic place             \n",
              "1     2007 1     Suicide  0      M   35  White    No       Other unspecified \n",
              "2     2007 1     Suicide  0      M   51  White    No       Other unspecified \n",
              "3     2007 1     Homicide 0      M   34  Black    No       Other specified   \n",
              "4     2007 1     Suicide  0      M   43  White    No       Other unspecified \n",
              "5     2007 1     Homicide 0      F   20  Black    No       Home              \n",
              "6     2007 1     Homicide 0      F   35  White    No       Home              \n",
              "7     2007 1     Suicide  0      M   68  White    No       Home              \n",
              "8     2007 1     Suicide  0      M   62  White    No       Sports            \n",
              "9     2007 1     Suicide  0      M   97  White    No       Other unspecified \n",
              "10    2007 1     Suicide  0      M   41  White    No       Home              \n",
              "11    2007 1     Suicide  0      M   30  White    No       Other unspecified \n",
              "12    2007 1     Homicide 0      F   30  White    No       Other unspecified \n",
              "13    2007 1     Suicide  0      M   32  White    No       School/instiution \n",
              "14    2007 1     Homicide 0      M   20  Black    No       Street            \n",
              "15    2007 1     Suicide  0      M   45  White    No       Street            \n",
              "16    2007 1     Suicide  0      F   49  White    No       Other unspecified \n",
              "17    2007 1     Suicide  0      M   61  White    No       Other unspecified \n",
              "18    2007 1     Suicide  0      M   23  Black    No       Other unspecified \n",
              "19    2007 1     Homicide 0      M   32  Black    No       Other specified   \n",
              "20    2007 1     Suicide  0      M   63  White    No       Trade/service area\n",
              "21    2007 1     Suicide  0      M   59  Black    No       Other unspecified \n",
              "22    2007 1     Suicide  0      M   52  White    No       Other unspecified \n",
              "23    2007 1     Suicide  0      M   38  White    No       Home              \n",
              "24    2007 1     Suicide  0      M   28  White    No       Home              \n",
              "25    2007 1     Suicide  0      M   45  White    No       Other unspecified \n",
              "26    2007 1     Suicide  0      M   60  White    No       Other unspecified \n",
              "27    2007 1     Homicide 0      M   61  White    No       Other unspecified \n",
              "28    2007 1     Homicide 0      M   31  Black    No       Other unspecified \n",
              "29    2007 1     Suicide  0      M   20  White    No       Home              \n",
              "30    2007 1     Suicide  0      F   70  White    No       Home              \n",
              "⋮     ⋮    ⋮     ⋮        ⋮      ⋮   ⋮   ⋮        ⋮        ⋮                 \n",
              "31195 2007 12    Homicide 0      M   41  Black    No       Other specified   \n",
              "31196 2007 12    Homicide 0      M   24  Black    No       Other unspecified \n",
              "31197 2007 12    Homicide 0      F   23  Hispanic Yes      Street            \n",
              "31198 2007 12    Homicide 0      M   33  Hispanic Yes      Street            \n",
              "31199 2007 12    Homicide 0      M   33  Black    No       Street            \n",
              "31200 2007 12    Homicide 0      F   45  Black    No       Other unspecified \n",
              "31201 2007 12    Homicide 0      M   21  Black    No       Street            \n",
              "31202 2007 12    Suicide  0      M   32  White    No       Home              \n",
              "31203 2007 12    Homicide 0      F   35  Black    No       Street            \n",
              "31204 2007 12    Suicide  0      M   89  White    No       Home              \n",
              "31205 2007 12    Homicide 0      M   29  Hispanic Yes      Street            \n",
              "31206 2007 12    Homicide 0      M   19  Black    No       Street            \n",
              "31207 2007 12    Homicide 0      M   25  Black    No       Other specified   \n",
              "31208 2007 12    Homicide 0      M   23  Black    No       Other unspecified \n",
              "31209 2007 12    Homicide 0      M   20  Black    No       Street            \n",
              "31210 2007 12    Homicide 0      M   19  Black    No       Street            \n",
              "31211 2007 12    Homicide 0      M   16  Black    No       Street            \n",
              "31212 2007 12    Homicide 0      M   19  Black    No       Street            \n",
              "31213 2007 12    Suicide  0      M   29  Black    No       Home              \n",
              "31214 2007 12    Homicide 0      M   22  Hispanic Yes      Trade/service area\n",
              "31215 2007 12    Homicide 0      M   19  White    No       Street            \n",
              "31216 2007 12    Homicide 0      M   37  Hispanic Yes      Street            \n",
              "31217 2007 12    Homicide 0      M   26  Black    No       Street            \n",
              "31218 2007 12    Homicide 0      M   42  Black    No       Home              \n",
              "31219 2007 12    Homicide 0      M   35  Hispanic Yes      Other specified   \n",
              "31220 2007 12    Homicide 0      M   44  Black    No       Home              \n",
              "31221 2007 12    Homicide 0      M   26  Black    No       Other unspecified \n",
              "31222 2007 12    Homicide 0      M   42  Black    No       Street            \n",
              "31223 2007 12    Suicide  0      M   79  White    No       Other unspecified \n",
              "31224 2007 12    Homicide 0      F   50  White    No       Home              \n",
              "      education   \n",
              "1     HS/GED      \n",
              "2     Less than HS\n",
              "3     HS/GED      \n",
              "4     HS/GED      \n",
              "5     HS/GED      \n",
              "6     HS/GED      \n",
              "7     HS/GED      \n",
              "8     BA+         \n",
              "9     Less than HS\n",
              "10    Some college\n",
              "11    BA+         \n",
              "12    HS/GED      \n",
              "13    Less than HS\n",
              "14    HS/GED      \n",
              "15    HS/GED      \n",
              "16    HS/GED      \n",
              "17    HS/GED      \n",
              "18    HS/GED      \n",
              "19    Some college\n",
              "20    Some college\n",
              "21    Less than HS\n",
              "22    HS/GED      \n",
              "23    HS/GED      \n",
              "24    HS/GED      \n",
              "25    HS/GED      \n",
              "26    Some college\n",
              "27    Some college\n",
              "28    HS/GED      \n",
              "29    Less than HS\n",
              "30    HS/GED      \n",
              "⋮     ⋮           \n",
              "31195 HS/GED      \n",
              "31196 HS/GED      \n",
              "31197 HS/GED      \n",
              "31198 Less than HS\n",
              "31199 Less than HS\n",
              "31200 Unknown     \n",
              "31201 HS/GED      \n",
              "31202 Some college\n",
              "31203 BA+         \n",
              "31204 BA+         \n",
              "31205 Some college\n",
              "31206 HS/GED      \n",
              "31207 HS/GED      \n",
              "31208 HS/GED      \n",
              "31209 HS/GED      \n",
              "31210 HS/GED      \n",
              "31211 Less than HS\n",
              "31212 Less than HS\n",
              "31213 HS/GED      \n",
              "31214 HS/GED      \n",
              "31215 Some college\n",
              "31216 HS/GED      \n",
              "31217 HS/GED      \n",
              "31218 HS/GED      \n",
              "31219 HS/GED      \n",
              "31220 HS/GED      \n",
              "31221 HS/GED      \n",
              "31222 Less than HS\n",
              "31223 Unknown     \n",
              "31224 HS/GED      "
            ]
          },
          "metadata": {},
          "output_type": "display_data"
        }
      ],
      "source": [
        "gunDeathsData_2007 <- read.csv(\"/content/guns_2007.csv\", header = TRUE, sep = \",\")\n",
        "View(gunDeathsData_2007)"
      ]
    },
    {
      "cell_type": "code",
      "execution_count": 22,
      "metadata": {
        "colab": {
          "base_uri": "https://localhost:8080/",
          "height": 34
        },
        "id": "ehS1kJbVdfeG",
        "outputId": "e1c18f8a-5ba2-43cb-ce60-54ed90f25d92",
        "vscode": {
          "languageId": "r"
        }
      },
      "outputs": [
        {
          "data": {
            "text/html": [
              "0"
            ],
            "text/latex": [
              "0"
            ],
            "text/markdown": [
              "0"
            ],
            "text/plain": [
              "[1] 0"
            ]
          },
          "metadata": {},
          "output_type": "display_data"
        }
      ],
      "source": [
        "# Any null data?\n",
        "sum(is.na(gunDeathsData_2007))"
      ]
    },
    {
      "cell_type": "code",
      "execution_count": null,
      "metadata": {
        "colab": {
          "base_uri": "https://localhost:8080/",
          "height": 86
        },
        "id": "v410uFaddjAT",
        "outputId": "9a650ad5-1774-466e-aa1b-eb37797dcb96",
        "vscode": {
          "languageId": "r"
        }
      },
      "outputs": [
        {
          "name": "stdout",
          "output_type": "stream",
          "text": [
            "[1] \"Mean values for each numeric column:\"\n",
            "[1] \"Mean Age: \"\n"
          ]
        },
        {
          "data": {
            "text/html": [
              "41.4259763560069"
            ],
            "text/latex": [
              "41.4259763560069"
            ],
            "text/markdown": [
              "41.4259763560069"
            ],
            "text/plain": [
              "[1] 41.42598"
            ]
          },
          "metadata": {},
          "output_type": "display_data"
        },
        {
          "name": "stdout",
          "output_type": "stream",
          "text": [
            "[1] \"-----------------------------\"\n"
          ]
        }
      ],
      "source": [
        "# Gun related deaths from 2007\n",
        "# Statistical information\n",
        "\n",
        "# Mean for each numeric column:\n",
        "# Only one numeric column was found: Age\n",
        "print(\"Mean values for each numeric column:\")\n",
        "print(\"Mean Age: \") # 41.426\n",
        "mean(gunDeathsData_2007$age)\n",
        "print(\"-----------------------------\")"
      ]
    },
    {
      "cell_type": "code",
      "execution_count": 24,
      "metadata": {
        "colab": {
          "base_uri": "https://localhost:8080/",
          "height": 52
        },
        "id": "pnFQxD5wdsve",
        "outputId": "0efe31cb-9cab-4794-ac3a-2e3bae9d168d",
        "vscode": {
          "languageId": "r"
        }
      },
      "outputs": [
        {
          "name": "stdout",
          "output_type": "stream",
          "text": [
            "[1] \"Median value for the age column:\"\n"
          ]
        },
        {
          "data": {
            "text/html": [
              "38"
            ],
            "text/latex": [
              "38"
            ],
            "text/markdown": [
              "38"
            ],
            "text/plain": [
              "[1] 38"
            ]
          },
          "metadata": {},
          "output_type": "display_data"
        }
      ],
      "source": [
        "# Median Age:\n",
        "print(\"Median value for the age column:\") # 38\n",
        "median(gunDeathsData_2007$age)"
      ]
    },
    {
      "cell_type": "code",
      "execution_count": 25,
      "metadata": {
        "colab": {
          "base_uri": "https://localhost:8080/",
          "height": 52
        },
        "id": "l2Rzv5sydyT5",
        "outputId": "80795a40-e470-4244-b2c7-b37cfb1e4f65",
        "vscode": {
          "languageId": "r"
        }
      },
      "outputs": [
        {
          "name": "stdout",
          "output_type": "stream",
          "text": [
            "[1] \"Most occuring value for the age column:\"\n"
          ]
        },
        {
          "data": {
            "text/html": [
              "22"
            ],
            "text/latex": [
              "22"
            ],
            "text/markdown": [
              "22"
            ],
            "text/plain": [
              "[1] 22\n",
              "attr(,\"freq\")\n",
              "[1] 904"
            ]
          },
          "metadata": {},
          "output_type": "display_data"
        }
      ],
      "source": [
        "# Mode Age:\n",
        "print(\"Most occuring value for the age column:\") # 22\n",
        "Mode(gunDeathsData_2007$age)"
      ]
    },
    {
      "cell_type": "code",
      "execution_count": 26,
      "metadata": {
        "colab": {
          "base_uri": "https://localhost:8080/",
          "height": 52
        },
        "id": "hFeJ9l2_d311",
        "outputId": "bdb43880-48e7-4030-94ed-1ba2e397fcf7",
        "vscode": {
          "languageId": "r"
        }
      },
      "outputs": [
        {
          "name": "stdout",
          "output_type": "stream",
          "text": [
            "[1] \"Standard Deviation of the age:\"\n"
          ]
        },
        {
          "data": {
            "text/html": [
              "19.0703753982994"
            ],
            "text/latex": [
              "19.0703753982994"
            ],
            "text/markdown": [
              "19.0703753982994"
            ],
            "text/plain": [
              "[1] 19.07038"
            ]
          },
          "metadata": {},
          "output_type": "display_data"
        }
      ],
      "source": [
        "# Standard Deviation Age:\n",
        "print(\"Standard Deviation of the age:\") #19.070 years\n",
        "SD(gunDeathsData_2007$age)"
      ]
    },
    {
      "cell_type": "code",
      "execution_count": 27,
      "metadata": {
        "colab": {
          "base_uri": "https://localhost:8080/",
          "height": 437
        },
        "id": "54L3i-fNeCNy",
        "outputId": "3fcf55bc-f2ed-4d89-c36f-f8caff0e3056",
        "vscode": {
          "languageId": "r"
        }
      },
      "outputs": [
        {
          "data": {
            "image/png": "[encoded data removed]",
            "text/plain": [
              "Plot with title “Age of Victims of Gun-related Deaths by Race”"
            ]
          },
          "metadata": {
            "image/png": {
              "height": 420,
              "width": 420
            }
          },
          "output_type": "display_data"
        }
      ],
      "source": [
        "# creating boxplot on age and race:\n",
        "boxplot(gunDeathsData_2007$age ~ gunDeathsData_2007$race, data = gunDeathsData_2007,\n",
        "        main = \"Age of Victims of Gun-related Deaths by Race\",\n",
        "        xlab = \"Race\",\n",
        "        ylab = \"Age\")\n"
      ]
    },
    {
      "cell_type": "code",
      "execution_count": 28,
      "metadata": {
        "colab": {
          "base_uri": "https://localhost:8080/",
          "height": 437
        },
        "id": "MzZ4IT9qequa",
        "outputId": "0dc4e66f-b243-47bf-8c5e-bdfdbf56915e",
        "vscode": {
          "languageId": "r"
        }
      },
      "outputs": [
        {
          "data": {
            "image/png": "[encoded data removed]",
            "text/plain": [
              "Plot with title “Histogram of gunDeathsData_2007$age”"
            ]
          },
          "metadata": {
            "image/png": {
              "height": 420,
              "width": 420
            }
          },
          "output_type": "display_data"
        }
      ],
      "source": [
        "# Constructing the histogram:\n",
        "\n",
        "hist(gunDeathsData_2007$age, xlab=\"Victims of Gun Violence By Age\", col = \"red\", border = \"black\")"
      ]
    },
    {
      "cell_type": "code",
      "execution_count": 29,
      "metadata": {
        "colab": {
          "base_uri": "https://localhost:8080/",
          "height": 437
        },
        "id": "V4UYhcrUexIc",
        "outputId": "ce3be834-3eef-4d53-da7c-48fb4425e7cb",
        "vscode": {
          "languageId": "r"
        }
      },
      "outputs": [
        {
          "data": {
            "image/png": "[encoded data removed]",
            "text/plain": [
              "Plot with title “Age of Victims of Gun-related Deaths by Gender”"
            ]
          },
          "metadata": {
            "image/png": {
              "height": 420,
              "width": 420
            }
          },
          "output_type": "display_data"
        }
      ],
      "source": [
        "# Creating a boxplot on age and gender:\n",
        "boxplot(gunDeathsData_2007$age ~ gunDeathsData_2007$sex, data = gunDeathsData_2007,\n",
        "        main = \"Age of Victims of Gun-related Deaths by Gender\",\n",
        "        xlab = \"Gender\",\n",
        "        ylab = \"Age\")\n"
      ]
    },
    {
      "cell_type": "code",
      "execution_count": 30,
      "metadata": {
        "colab": {
          "base_uri": "https://localhost:8080/",
          "height": 437
        },
        "id": "8-e11k2gfEVJ",
        "outputId": "ae483416-4fb7-415c-d0e2-8d1f349b60c5",
        "vscode": {
          "languageId": "r"
        }
      },
      "outputs": [
        {
          "data": {
            "image/png": "[encoded data removed]",
            "text/plain": [
              "Plot with title “Histogram of gunDeathsData_2007$month”"
            ]
          },
          "metadata": {
            "image/png": {
              "height": 420,
              "width": 420
            }
          },
          "output_type": "display_data"
        }
      ],
      "source": [
        "# Constructing the histogram for number of deaths by month:\n",
        "\n",
        "hist(gunDeathsData_2007$month, xlab=\"Total Victims of Gun Violence By Month\", col = \"blue\", border = \"black\")"
      ]
    },
    {
      "cell_type": "code",
      "execution_count": 31,
      "metadata": {
        "colab": {
          "base_uri": "https://localhost:8080/",
          "height": 437
        },
        "id": "tzuIMbLMfRPP",
        "outputId": "d861fac6-530e-4dda-8abe-91f35c647c3b",
        "vscode": {
          "languageId": "r"
        }
      },
      "outputs": [
        {
          "data": {
            "image/png": "[encoded data removed]",
            "text/plain": [
              "Plot with title “Age of victims of Gun-related Deaths by Intent”"
            ]
          },
          "metadata": {
            "image/png": {
              "height": 420,
              "width": 420
            }
          },
          "output_type": "display_data"
        }
      ],
      "source": [
        "# Creating a boxplot on age and intentions behind the gun:\n",
        "boxplot(gunDeathsData_2007$age ~ gunDeathsData_2007$intent, data = gunDeathsData_2007,\n",
        "  main = \"Age of victims of Gun-related Deaths by Intent\",\n",
        "  xlab = \"Intentions With the Gun\",\n",
        "  ylab = \"Age\")\n",
        "\n",
        "# Homicides have the most outliers"
      ]
    },
    {
      "cell_type": "code",
      "execution_count": 32,
      "metadata": {
        "colab": {
          "base_uri": "https://localhost:8080/",
          "height": 255
        },
        "id": "6L3WaH2cgFI_",
        "outputId": "f45a3db1-991a-4520-b861-84b4f9b333f5",
        "vscode": {
          "languageId": "r"
        }
      },
      "outputs": [
        {
          "data": {
            "text/html": [
              "<table class=\"dataframe\">\n",
              "<caption>A data.frame: 5 × 2</caption>\n",
              "<thead>\n",
              "\t<tr><th scope=col>gunDeathsData_2007$race</th><th scope=col>n</th></tr>\n",
              "\t<tr><th scope=col>&lt;chr&gt;</th><th scope=col>&lt;int&gt;</th></tr>\n",
              "</thead>\n",
              "<tbody>\n",
              "\t<tr><td>Asian/Pacific Islander        </td><td>  419</td></tr>\n",
              "\t<tr><td>Black                         </td><td> 8166</td></tr>\n",
              "\t<tr><td>Hispanic                      </td><td> 3492</td></tr>\n",
              "\t<tr><td>Native American/Native Alaskan</td><td>  229</td></tr>\n",
              "\t<tr><td>White                         </td><td>18918</td></tr>\n",
              "</tbody>\n",
              "</table>\n"
            ],
            "text/latex": [
              "A data.frame: 5 × 2\n",
              "\\begin{tabular}{ll}\n",
              " gunDeathsData\\_2007\\$race & n\\\\\n",
              " <chr> & <int>\\\\\n",
              "\\hline\n",
              "\t Asian/Pacific Islander         &   419\\\\\n",
              "\t Black                          &  8166\\\\\n",
              "\t Hispanic                       &  3492\\\\\n",
              "\t Native American/Native Alaskan &   229\\\\\n",
              "\t White                          & 18918\\\\\n",
              "\\end{tabular}\n"
            ],
            "text/markdown": [
              "\n",
              "A data.frame: 5 × 2\n",
              "\n",
              "| gunDeathsData_2007$race &lt;chr&gt; | n &lt;int&gt; |\n",
              "|---|---|\n",
              "| Asian/Pacific Islander         |   419 |\n",
              "| Black                          |  8166 |\n",
              "| Hispanic                       |  3492 |\n",
              "| Native American/Native Alaskan |   229 |\n",
              "| White                          | 18918 |\n",
              "\n"
            ],
            "text/plain": [
              "  gunDeathsData_2007$race        n    \n",
              "1 Asian/Pacific Islander           419\n",
              "2 Black                           8166\n",
              "3 Hispanic                        3492\n",
              "4 Native American/Native Alaskan   229\n",
              "5 White                          18918"
            ]
          },
          "metadata": {},
          "output_type": "display_data"
        }
      ],
      "source": [
        "gunDeathsData_2007 %>%\n",
        "  count(gunDeathsData_2007$race)"
      ]
    },
    {
      "cell_type": "code",
      "execution_count": 33,
      "metadata": {
        "colab": {
          "base_uri": "https://localhost:8080/",
          "height": 161
        },
        "id": "oGuhoRt2gJt9",
        "outputId": "18d46358-4593-4e78-d831-de6d74b6ce00",
        "vscode": {
          "languageId": "r"
        }
      },
      "outputs": [
        {
          "data": {
            "text/html": [
              "<table class=\"dataframe\">\n",
              "<caption>A data.frame: 2 × 2</caption>\n",
              "<thead>\n",
              "\t<tr><th scope=col>gunDeathsData_2007$sex</th><th scope=col>n</th></tr>\n",
              "\t<tr><th scope=col>&lt;chr&gt;</th><th scope=col>&lt;int&gt;</th></tr>\n",
              "</thead>\n",
              "<tbody>\n",
              "\t<tr><td>F</td><td> 4177</td></tr>\n",
              "\t<tr><td>M</td><td>27047</td></tr>\n",
              "</tbody>\n",
              "</table>\n"
            ],
            "text/latex": [
              "A data.frame: 2 × 2\n",
              "\\begin{tabular}{ll}\n",
              " gunDeathsData\\_2007\\$sex & n\\\\\n",
              " <chr> & <int>\\\\\n",
              "\\hline\n",
              "\t F &  4177\\\\\n",
              "\t M & 27047\\\\\n",
              "\\end{tabular}\n"
            ],
            "text/markdown": [
              "\n",
              "A data.frame: 2 × 2\n",
              "\n",
              "| gunDeathsData_2007$sex &lt;chr&gt; | n &lt;int&gt; |\n",
              "|---|---|\n",
              "| F |  4177 |\n",
              "| M | 27047 |\n",
              "\n"
            ],
            "text/plain": [
              "  gunDeathsData_2007$sex n    \n",
              "1 F                       4177\n",
              "2 M                      27047"
            ]
          },
          "metadata": {},
          "output_type": "display_data"
        }
      ],
      "source": [
        "gunDeathsData_2007 %>%\n",
        "  count(gunDeathsData_2007$sex)"
      ]
    },
    {
      "cell_type": "code",
      "execution_count": 34,
      "metadata": {
        "colab": {
          "base_uri": "https://localhost:8080/",
          "height": 223
        },
        "id": "ecOXrRPegYUu",
        "outputId": "f2367970-f49f-4190-fb8d-d5d219fb61ed",
        "vscode": {
          "languageId": "r"
        }
      },
      "outputs": [
        {
          "data": {
            "text/html": [
              "<table class=\"dataframe\">\n",
              "<caption>A data.frame: 4 × 2</caption>\n",
              "<thead>\n",
              "\t<tr><th scope=col>gunDeathsData_2007$intent</th><th scope=col>n</th></tr>\n",
              "\t<tr><th scope=col>&lt;chr&gt;</th><th scope=col>&lt;int&gt;</th></tr>\n",
              "</thead>\n",
              "<tbody>\n",
              "\t<tr><td>Accidental  </td><td>  613</td></tr>\n",
              "\t<tr><td>Homicide    </td><td>12983</td></tr>\n",
              "\t<tr><td>Suicide     </td><td>17352</td></tr>\n",
              "\t<tr><td>Undetermined</td><td>  276</td></tr>\n",
              "</tbody>\n",
              "</table>\n"
            ],
            "text/latex": [
              "A data.frame: 4 × 2\n",
              "\\begin{tabular}{ll}\n",
              " gunDeathsData\\_2007\\$intent & n\\\\\n",
              " <chr> & <int>\\\\\n",
              "\\hline\n",
              "\t Accidental   &   613\\\\\n",
              "\t Homicide     & 12983\\\\\n",
              "\t Suicide      & 17352\\\\\n",
              "\t Undetermined &   276\\\\\n",
              "\\end{tabular}\n"
            ],
            "text/markdown": [
              "\n",
              "A data.frame: 4 × 2\n",
              "\n",
              "| gunDeathsData_2007$intent &lt;chr&gt; | n &lt;int&gt; |\n",
              "|---|---|\n",
              "| Accidental   |   613 |\n",
              "| Homicide     | 12983 |\n",
              "| Suicide      | 17352 |\n",
              "| Undetermined |   276 |\n",
              "\n"
            ],
            "text/plain": [
              "  gunDeathsData_2007$intent n    \n",
              "1 Accidental                  613\n",
              "2 Homicide                  12983\n",
              "3 Suicide                   17352\n",
              "4 Undetermined                276"
            ]
          },
          "metadata": {},
          "output_type": "display_data"
        }
      ],
      "source": [
        "gunDeathsData_2007 %>%\n",
        "  count(gunDeathsData_2007$intent)"
      ]
    },
    {
      "cell_type": "code",
      "execution_count": 35,
      "metadata": {
        "colab": {
          "base_uri": "https://localhost:8080/",
          "height": 474
        },
        "id": "TN8De8Pngd-_",
        "outputId": "af3f4bba-3764-4865-f9e7-32a826816ee4",
        "vscode": {
          "languageId": "r"
        }
      },
      "outputs": [
        {
          "data": {
            "text/html": [
              "<table class=\"dataframe\">\n",
              "<caption>A data.frame: 12 × 2</caption>\n",
              "<thead>\n",
              "\t<tr><th scope=col>gunDeathsData_2007$month</th><th scope=col>n</th></tr>\n",
              "\t<tr><th scope=col>&lt;int&gt;</th><th scope=col>&lt;int&gt;</th></tr>\n",
              "</thead>\n",
              "<tbody>\n",
              "\t<tr><td> 1</td><td>2590</td></tr>\n",
              "\t<tr><td> 2</td><td>2176</td></tr>\n",
              "\t<tr><td> 3</td><td>2543</td></tr>\n",
              "\t<tr><td> 4</td><td>2561</td></tr>\n",
              "\t<tr><td> 5</td><td>2708</td></tr>\n",
              "\t<tr><td> 6</td><td>2745</td></tr>\n",
              "\t<tr><td> 7</td><td>2852</td></tr>\n",
              "\t<tr><td> 8</td><td>2733</td></tr>\n",
              "\t<tr><td> 9</td><td>2601</td></tr>\n",
              "\t<tr><td>10</td><td>2643</td></tr>\n",
              "\t<tr><td>11</td><td>2541</td></tr>\n",
              "\t<tr><td>12</td><td>2531</td></tr>\n",
              "</tbody>\n",
              "</table>\n"
            ],
            "text/latex": [
              "A data.frame: 12 × 2\n",
              "\\begin{tabular}{ll}\n",
              " gunDeathsData\\_2007\\$month & n\\\\\n",
              " <int> & <int>\\\\\n",
              "\\hline\n",
              "\t  1 & 2590\\\\\n",
              "\t  2 & 2176\\\\\n",
              "\t  3 & 2543\\\\\n",
              "\t  4 & 2561\\\\\n",
              "\t  5 & 2708\\\\\n",
              "\t  6 & 2745\\\\\n",
              "\t  7 & 2852\\\\\n",
              "\t  8 & 2733\\\\\n",
              "\t  9 & 2601\\\\\n",
              "\t 10 & 2643\\\\\n",
              "\t 11 & 2541\\\\\n",
              "\t 12 & 2531\\\\\n",
              "\\end{tabular}\n"
            ],
            "text/markdown": [
              "\n",
              "A data.frame: 12 × 2\n",
              "\n",
              "| gunDeathsData_2007$month &lt;int&gt; | n &lt;int&gt; |\n",
              "|---|---|\n",
              "|  1 | 2590 |\n",
              "|  2 | 2176 |\n",
              "|  3 | 2543 |\n",
              "|  4 | 2561 |\n",
              "|  5 | 2708 |\n",
              "|  6 | 2745 |\n",
              "|  7 | 2852 |\n",
              "|  8 | 2733 |\n",
              "|  9 | 2601 |\n",
              "| 10 | 2643 |\n",
              "| 11 | 2541 |\n",
              "| 12 | 2531 |\n",
              "\n"
            ],
            "text/plain": [
              "   gunDeathsData_2007$month n   \n",
              "1   1                       2590\n",
              "2   2                       2176\n",
              "3   3                       2543\n",
              "4   4                       2561\n",
              "5   5                       2708\n",
              "6   6                       2745\n",
              "7   7                       2852\n",
              "8   8                       2733\n",
              "9   9                       2601\n",
              "10 10                       2643\n",
              "11 11                       2541\n",
              "12 12                       2531"
            ]
          },
          "metadata": {},
          "output_type": "display_data"
        }
      ],
      "source": [
        "gunDeathsData_2007 %>%\n",
        "  count(gunDeathsData_2007$month)"
      ]
    },
    {
      "cell_type": "code",
      "execution_count": 20,
      "metadata": {
        "colab": {
          "base_uri": "https://localhost:8080/",
          "height": 34
        },
        "id": "hrt7TawcglXT",
        "outputId": "1aec7dc2-f65b-4a60-aa45-1b105df848d4",
        "vscode": {
          "languageId": "r"
        }
      },
      "outputs": [
        {
          "data": {
            "text/html": [
              "TRUE"
            ],
            "text/latex": [
              "TRUE"
            ],
            "text/markdown": [
              "TRUE"
            ],
            "text/plain": [
              "[1] TRUE"
            ]
          },
          "metadata": {},
          "output_type": "display_data"
        }
      ],
      "source": [
        "# Making the markdown file:\n",
        "file.create(\"CaseStudy_GunDeaths_2007.Rmd\")"
      ]
    }
  ],
  "metadata": {
    "colab": {
      "provenance": []
    },
    "kernelspec": {
      "display_name": "R",
      "name": "ir"
    },
    "language_info": {
      "name": "R"
    }
  },
  "nbformat": 4,
  "nbformat_minor": 0
}
