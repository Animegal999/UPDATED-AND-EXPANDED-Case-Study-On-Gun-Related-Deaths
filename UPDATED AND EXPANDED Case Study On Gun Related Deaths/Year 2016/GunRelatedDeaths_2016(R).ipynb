{
  "cells": [
    {
      "cell_type": "code",
      "execution_count": 1,
      "metadata": {
        "colab": {
          "base_uri": "https://localhost:8080/"
        },
        "id": "8erXwBuPbX4I",
        "outputId": "dae96247-43c3-49ec-cb99-464be0350d7f",
        "vscode": {
          "languageId": "r"
        }
      },
      "outputs": [
        {
          "name": "stderr",
          "output_type": "stream",
          "text": [
            "Installing package into ‘/usr/local/lib/R/site-library’\n",
            "(as ‘lib’ is unspecified)\n",
            "\n",
            "Installing package into ‘/usr/local/lib/R/site-library’\n",
            "(as ‘lib’ is unspecified)\n",
            "\n",
            "Installing package into ‘/usr/local/lib/R/site-library’\n",
            "(as ‘lib’ is unspecified)\n",
            "\n",
            "also installing the dependencies ‘zoo’, ‘xts’, ‘PKI’, ‘packrat’, ‘renv’, ‘V8’, ‘dygraphs’, ‘rsconnect’, ‘katex’, ‘cleanrmd’\n",
            "\n",
            "\n",
            "Installing package into ‘/usr/local/lib/R/site-library’\n",
            "(as ‘lib’ is unspecified)\n",
            "\n",
            "also installing the dependencies ‘lazyeval’, ‘crosstalk’\n",
            "\n",
            "\n",
            "Installing package into ‘/usr/local/lib/R/site-library’\n",
            "(as ‘lib’ is unspecified)\n",
            "\n",
            "also installing the dependencies ‘proxy’, ‘rootSolve’, ‘e1071’, ‘lmom’, ‘mvtnorm’, ‘expm’, ‘Exact’, ‘gld’\n",
            "\n",
            "\n",
            "Installing package into ‘/usr/local/lib/R/site-library’\n",
            "(as ‘lib’ is unspecified)\n",
            "\n",
            "\n",
            "Attaching package: ‘plotly’\n",
            "\n",
            "\n",
            "The following object is masked from ‘package:ggplot2’:\n",
            "\n",
            "    last_plot\n",
            "\n",
            "\n",
            "The following object is masked from ‘package:stats’:\n",
            "\n",
            "    filter\n",
            "\n",
            "\n",
            "The following object is masked from ‘package:graphics’:\n",
            "\n",
            "    layout\n",
            "\n",
            "\n",
            "\n",
            "Attaching package: ‘dplyr’\n",
            "\n",
            "\n",
            "The following objects are masked from ‘package:stats’:\n",
            "\n",
            "    filter, lag\n",
            "\n",
            "\n",
            "The following objects are masked from ‘package:base’:\n",
            "\n",
            "    intersect, setdiff, setequal, union\n",
            "\n",
            "\n"
          ]
        }
      ],
      "source": [
        "install.packages(\"ggplot2\")\n",
        "install.packages(\"tinytex\")\n",
        "install.packages(\"rmarkdown\", dep = TRUE)\n",
        "install.packages(\"plotly\")\n",
        "install.packages(\"DescTools\")\n",
        "install.packages(\"dplyr\")\n",
        "\n",
        "library(ggplot2)\n",
        "library(tinytex)\n",
        "library(rmarkdown)\n",
        "library(plotly)\n",
        "library(DescTools)\n",
        "library(dplyr)"
      ]
    },
    {
      "cell_type": "code",
      "execution_count": 129,
      "metadata": {
        "colab": {
          "base_uri": "https://localhost:8080/",
          "height": 1000
        },
        "id": "_OCCxzoxb6SI",
        "outputId": "e564d192-1807-40ee-8a65-0f4c68e3e4fa",
        "vscode": {
          "languageId": "r"
        }
      },
      "outputs": [
        {
          "data": {
            "text/html": [
              "<table class=\"dataframe\">\n",
              "<caption>A data.frame: 38658 × 10</caption>\n",
              "<thead>\n",
              "\t<tr><th scope=col>year</th><th scope=col>month</th><th scope=col>intent</th><th scope=col>police</th><th scope=col>sex</th><th scope=col>age</th><th scope=col>race</th><th scope=col>hispanic</th><th scope=col>place</th><th scope=col>education</th></tr>\n",
              "\t<tr><th scope=col>&lt;int&gt;</th><th scope=col>&lt;int&gt;</th><th scope=col>&lt;chr&gt;</th><th scope=col>&lt;int&gt;</th><th scope=col>&lt;chr&gt;</th><th scope=col>&lt;dbl&gt;</th><th scope=col>&lt;chr&gt;</th><th scope=col>&lt;chr&gt;</th><th scope=col>&lt;chr&gt;</th><th scope=col>&lt;chr&gt;</th></tr>\n",
              "</thead>\n",
              "<tbody>\n",
              "\t<tr><td>2016</td><td>1</td><td>Suicide     </td><td>0</td><td>M</td><td>27</td><td>White                         </td><td>No</td><td>Other unspecified</td><td>HS/GED      </td></tr>\n",
              "\t<tr><td>2016</td><td>1</td><td>Suicide     </td><td>0</td><td>M</td><td>69</td><td>White                         </td><td>No</td><td>Other unspecified</td><td>Some college</td></tr>\n",
              "\t<tr><td>2016</td><td>1</td><td>Suicide     </td><td>0</td><td>M</td><td>20</td><td>White                         </td><td>No</td><td>Other unspecified</td><td>HS/GED      </td></tr>\n",
              "\t<tr><td>2016</td><td>1</td><td>Homicide    </td><td>0</td><td>F</td><td>40</td><td>Native American/Native Alaskan</td><td>No</td><td>Other unspecified</td><td>Some college</td></tr>\n",
              "\t<tr><td>2016</td><td>1</td><td>Homicide    </td><td>0</td><td>F</td><td>18</td><td>White                         </td><td>No</td><td>Other unspecified</td><td>Less than HS</td></tr>\n",
              "\t<tr><td>2016</td><td>1</td><td>Suicide     </td><td>0</td><td>F</td><td>56</td><td>White                         </td><td>No</td><td>Other unspecified</td><td>Some college</td></tr>\n",
              "\t<tr><td>2016</td><td>1</td><td>Suicide     </td><td>0</td><td>M</td><td>45</td><td>White                         </td><td>No</td><td>Other unspecified</td><td>HS/GED      </td></tr>\n",
              "\t<tr><td>2016</td><td>1</td><td>Suicide     </td><td>0</td><td>M</td><td>23</td><td>White                         </td><td>No</td><td>Other unspecified</td><td>Some college</td></tr>\n",
              "\t<tr><td>2016</td><td>1</td><td>Accidental  </td><td>0</td><td>M</td><td> 5</td><td>Native American/Native Alaskan</td><td>No</td><td>Other unspecified</td><td>Less than HS</td></tr>\n",
              "\t<tr><td>2016</td><td>1</td><td>Homicide    </td><td>0</td><td>M</td><td>27</td><td>Native American/Native Alaskan</td><td>No</td><td>Other unspecified</td><td>Less than HS</td></tr>\n",
              "\t<tr><td>2016</td><td>1</td><td>Suicide     </td><td>0</td><td>M</td><td>26</td><td>Native American/Native Alaskan</td><td>No</td><td>Other unspecified</td><td>HS/GED      </td></tr>\n",
              "\t<tr><td>2016</td><td>1</td><td>Suicide     </td><td>0</td><td>M</td><td>50</td><td>Native American/Native Alaskan</td><td>No</td><td>Other unspecified</td><td>HS/GED      </td></tr>\n",
              "\t<tr><td>2016</td><td>1</td><td>Suicide     </td><td>0</td><td>M</td><td>23</td><td>Asian/Pacific Islander        </td><td>No</td><td>Other unspecified</td><td>HS/GED      </td></tr>\n",
              "\t<tr><td>2016</td><td>2</td><td>Homicide    </td><td>0</td><td>F</td><td>40</td><td>White                         </td><td>No</td><td>Other unspecified</td><td>Some college</td></tr>\n",
              "\t<tr><td>2016</td><td>2</td><td>Homicide    </td><td>0</td><td>M</td><td>10</td><td>White                         </td><td>No</td><td>Other unspecified</td><td>Less than HS</td></tr>\n",
              "\t<tr><td>2016</td><td>2</td><td>Homicide    </td><td>0</td><td>M</td><td>25</td><td>White                         </td><td>No</td><td>Other unspecified</td><td>Some college</td></tr>\n",
              "\t<tr><td>2016</td><td>1</td><td>Homicide    </td><td>0</td><td>F</td><td>19</td><td>White                         </td><td>No</td><td>Other unspecified</td><td>Less than HS</td></tr>\n",
              "\t<tr><td>2016</td><td>2</td><td>Suicide     </td><td>0</td><td>M</td><td>26</td><td>White                         </td><td>No</td><td>Other unspecified</td><td>HS/GED      </td></tr>\n",
              "\t<tr><td>2016</td><td>1</td><td>Undetermined</td><td>0</td><td>M</td><td>32</td><td>Native American/Native Alaskan</td><td>No</td><td>Other unspecified</td><td>HS/GED      </td></tr>\n",
              "\t<tr><td>2016</td><td>2</td><td>Homicide    </td><td>0</td><td>M</td><td>30</td><td>Asian/Pacific Islander        </td><td>No</td><td>Other unspecified</td><td>HS/GED      </td></tr>\n",
              "\t<tr><td>2016</td><td>1</td><td>Homicide    </td><td>1</td><td>M</td><td>49</td><td>Native American/Native Alaskan</td><td>No</td><td>Other unspecified</td><td>HS/GED      </td></tr>\n",
              "\t<tr><td>2016</td><td>1</td><td>Homicide    </td><td>0</td><td>M</td><td>20</td><td>Black                         </td><td>No</td><td>Other unspecified</td><td>Less than HS</td></tr>\n",
              "\t<tr><td>2016</td><td>2</td><td>Suicide     </td><td>0</td><td>M</td><td>21</td><td>White                         </td><td>No</td><td>Other unspecified</td><td>HS/GED      </td></tr>\n",
              "\t<tr><td>2016</td><td>2</td><td>Homicide    </td><td>1</td><td>M</td><td>36</td><td>Native American/Native Alaskan</td><td>No</td><td>Other unspecified</td><td>Some college</td></tr>\n",
              "\t<tr><td>2016</td><td>3</td><td>Suicide     </td><td>0</td><td>M</td><td>38</td><td>White                         </td><td>No</td><td>Other unspecified</td><td>HS/GED      </td></tr>\n",
              "\t<tr><td>2016</td><td>3</td><td>Suicide     </td><td>0</td><td>M</td><td>40</td><td>White                         </td><td>No</td><td>Other unspecified</td><td>HS/GED      </td></tr>\n",
              "\t<tr><td>2016</td><td>3</td><td>Suicide     </td><td>0</td><td>M</td><td>71</td><td>White                         </td><td>No</td><td>Other unspecified</td><td>HS/GED      </td></tr>\n",
              "\t<tr><td>2016</td><td>2</td><td>Homicide    </td><td>0</td><td>F</td><td>38</td><td>Native American/Native Alaskan</td><td>No</td><td>Other unspecified</td><td>Less than HS</td></tr>\n",
              "\t<tr><td>2016</td><td>3</td><td>Homicide    </td><td>0</td><td>M</td><td>24</td><td>Black                         </td><td>No</td><td>Other unspecified</td><td>HS/GED      </td></tr>\n",
              "\t<tr><td>2016</td><td>1</td><td>Accidental  </td><td>0</td><td>M</td><td>25</td><td>White                         </td><td>No</td><td>Home             </td><td>HS/GED      </td></tr>\n",
              "\t<tr><td>⋮</td><td>⋮</td><td>⋮</td><td>⋮</td><td>⋮</td><td>⋮</td><td>⋮</td><td>⋮</td><td>⋮</td><td>⋮</td></tr>\n",
              "\t<tr><td>2016</td><td>11</td><td>Suicide </td><td>0</td><td>M</td><td>30</td><td>White   </td><td>No </td><td>Home                   </td><td>BA+         </td></tr>\n",
              "\t<tr><td>2016</td><td>11</td><td>Suicide </td><td>0</td><td>M</td><td>67</td><td>White   </td><td>No </td><td>Home                   </td><td>BA+         </td></tr>\n",
              "\t<tr><td>2016</td><td>11</td><td>Homicide</td><td>0</td><td>M</td><td>19</td><td>Hispanic</td><td>Yes</td><td>Home                   </td><td>HS/GED      </td></tr>\n",
              "\t<tr><td>2016</td><td>11</td><td>Homicide</td><td>1</td><td>M</td><td>21</td><td>Hispanic</td><td>Yes</td><td>Other unspecified      </td><td>Less than HS</td></tr>\n",
              "\t<tr><td>2016</td><td>11</td><td>Homicide</td><td>0</td><td>M</td><td>37</td><td>Black   </td><td>No </td><td>Other specified        </td><td>HS/GED      </td></tr>\n",
              "\t<tr><td>2016</td><td>11</td><td>Homicide</td><td>0</td><td>M</td><td>58</td><td>Black   </td><td>No </td><td>Street                 </td><td>BA+         </td></tr>\n",
              "\t<tr><td>2016</td><td>11</td><td>Homicide</td><td>0</td><td>M</td><td>30</td><td>White   </td><td>No </td><td>Home                   </td><td>HS/GED      </td></tr>\n",
              "\t<tr><td>2016</td><td>11</td><td>Homicide</td><td>0</td><td>M</td><td>24</td><td>Black   </td><td>No </td><td>Street                 </td><td>Less than HS</td></tr>\n",
              "\t<tr><td>2016</td><td>11</td><td>Suicide </td><td>0</td><td>M</td><td>26</td><td>Black   </td><td>No </td><td>Other specified        </td><td>Some college</td></tr>\n",
              "\t<tr><td>2016</td><td>11</td><td>Homicide</td><td>0</td><td>F</td><td>27</td><td>Black   </td><td>No </td><td>Street                 </td><td>HS/GED      </td></tr>\n",
              "\t<tr><td>2016</td><td>11</td><td>Homicide</td><td>0</td><td>F</td><td>22</td><td>Black   </td><td>No </td><td>Other specified        </td><td>BA+         </td></tr>\n",
              "\t<tr><td>2016</td><td>12</td><td>Suicide </td><td>0</td><td>M</td><td>54</td><td>Black   </td><td>No </td><td>Home                   </td><td>BA+         </td></tr>\n",
              "\t<tr><td>2016</td><td>12</td><td>Suicide </td><td>0</td><td>M</td><td>65</td><td>White   </td><td>No </td><td>Home                   </td><td>BA+         </td></tr>\n",
              "\t<tr><td>2016</td><td>12</td><td>Homicide</td><td>0</td><td>M</td><td>21</td><td>Black   </td><td>No </td><td>Other unspecified      </td><td>HS/GED      </td></tr>\n",
              "\t<tr><td>2016</td><td>12</td><td>Homicide</td><td>0</td><td>F</td><td>25</td><td>Black   </td><td>No </td><td>Other unspecified      </td><td>Some college</td></tr>\n",
              "\t<tr><td>2016</td><td>12</td><td>Homicide</td><td>0</td><td>M</td><td>22</td><td>Black   </td><td>No </td><td>Street                 </td><td>Less than HS</td></tr>\n",
              "\t<tr><td>2016</td><td>12</td><td>Homicide</td><td>0</td><td>F</td><td>24</td><td>Hispanic</td><td>Yes</td><td>Home                   </td><td>HS/GED      </td></tr>\n",
              "\t<tr><td>2016</td><td>12</td><td>Homicide</td><td>0</td><td>M</td><td>21</td><td>Black   </td><td>No </td><td>Home                   </td><td>HS/GED      </td></tr>\n",
              "\t<tr><td>2016</td><td>12</td><td>Homicide</td><td>0</td><td>M</td><td>41</td><td>Hispanic</td><td>Yes</td><td>Street                 </td><td>Unknown     </td></tr>\n",
              "\t<tr><td>2016</td><td>12</td><td>Homicide</td><td>0</td><td>M</td><td>32</td><td>Black   </td><td>No </td><td>Street                 </td><td>HS/GED      </td></tr>\n",
              "\t<tr><td>2016</td><td>12</td><td>Homicide</td><td>0</td><td>M</td><td>26</td><td>Black   </td><td>No </td><td>Home                   </td><td>HS/GED      </td></tr>\n",
              "\t<tr><td>2016</td><td>12</td><td>Homicide</td><td>0</td><td>M</td><td>32</td><td>Black   </td><td>No </td><td>Street                 </td><td>Some college</td></tr>\n",
              "\t<tr><td>2016</td><td>12</td><td>Homicide</td><td>0</td><td>M</td><td>27</td><td>Black   </td><td>No </td><td>Street                 </td><td>HS/GED      </td></tr>\n",
              "\t<tr><td>2016</td><td>12</td><td>Homicide</td><td>0</td><td>M</td><td>19</td><td>Black   </td><td>No </td><td>Residential institution</td><td>HS/GED      </td></tr>\n",
              "\t<tr><td>2016</td><td>12</td><td>Suicide </td><td>0</td><td>M</td><td>24</td><td>Black   </td><td>No </td><td>Home                   </td><td>Less than HS</td></tr>\n",
              "\t<tr><td>2016</td><td>12</td><td>Homicide</td><td>0</td><td>M</td><td>24</td><td>Black   </td><td>No </td><td>Street                 </td><td>HS/GED      </td></tr>\n",
              "\t<tr><td>2016</td><td>12</td><td>Homicide</td><td>0</td><td>M</td><td>30</td><td>Black   </td><td>No </td><td>Street                 </td><td>Some college</td></tr>\n",
              "\t<tr><td>2016</td><td>12</td><td>Homicide</td><td>0</td><td>M</td><td>31</td><td>Black   </td><td>No </td><td>Street                 </td><td>Some college</td></tr>\n",
              "\t<tr><td>2016</td><td>12</td><td>Homicide</td><td>0</td><td>M</td><td>39</td><td>Hispanic</td><td>Yes</td><td>School/instiution      </td><td>Less than HS</td></tr>\n",
              "\t<tr><td>2016</td><td>12</td><td>Homicide</td><td>0</td><td>M</td><td>27</td><td>Black   </td><td>No </td><td>Street                 </td><td>Less than HS</td></tr>\n",
              "</tbody>\n",
              "</table>\n"
            ],
            "text/latex": [
              "A data.frame: 38658 × 10\n",
              "\\begin{tabular}{llllllllll}\n",
              " year & month & intent & police & sex & age & race & hispanic & place & education\\\\\n",
              " <int> & <int> & <chr> & <int> & <chr> & <dbl> & <chr> & <chr> & <chr> & <chr>\\\\\n",
              "\\hline\n",
              "\t 2016 & 1 & Suicide      & 0 & M & 27 & White                          & No & Other unspecified & HS/GED      \\\\\n",
              "\t 2016 & 1 & Suicide      & 0 & M & 69 & White                          & No & Other unspecified & Some college\\\\\n",
              "\t 2016 & 1 & Suicide      & 0 & M & 20 & White                          & No & Other unspecified & HS/GED      \\\\\n",
              "\t 2016 & 1 & Homicide     & 0 & F & 40 & Native American/Native Alaskan & No & Other unspecified & Some college\\\\\n",
              "\t 2016 & 1 & Homicide     & 0 & F & 18 & White                          & No & Other unspecified & Less than HS\\\\\n",
              "\t 2016 & 1 & Suicide      & 0 & F & 56 & White                          & No & Other unspecified & Some college\\\\\n",
              "\t 2016 & 1 & Suicide      & 0 & M & 45 & White                          & No & Other unspecified & HS/GED      \\\\\n",
              "\t 2016 & 1 & Suicide      & 0 & M & 23 & White                          & No & Other unspecified & Some college\\\\\n",
              "\t 2016 & 1 & Accidental   & 0 & M &  5 & Native American/Native Alaskan & No & Other unspecified & Less than HS\\\\\n",
              "\t 2016 & 1 & Homicide     & 0 & M & 27 & Native American/Native Alaskan & No & Other unspecified & Less than HS\\\\\n",
              "\t 2016 & 1 & Suicide      & 0 & M & 26 & Native American/Native Alaskan & No & Other unspecified & HS/GED      \\\\\n",
              "\t 2016 & 1 & Suicide      & 0 & M & 50 & Native American/Native Alaskan & No & Other unspecified & HS/GED      \\\\\n",
              "\t 2016 & 1 & Suicide      & 0 & M & 23 & Asian/Pacific Islander         & No & Other unspecified & HS/GED      \\\\\n",
              "\t 2016 & 2 & Homicide     & 0 & F & 40 & White                          & No & Other unspecified & Some college\\\\\n",
              "\t 2016 & 2 & Homicide     & 0 & M & 10 & White                          & No & Other unspecified & Less than HS\\\\\n",
              "\t 2016 & 2 & Homicide     & 0 & M & 25 & White                          & No & Other unspecified & Some college\\\\\n",
              "\t 2016 & 1 & Homicide     & 0 & F & 19 & White                          & No & Other unspecified & Less than HS\\\\\n",
              "\t 2016 & 2 & Suicide      & 0 & M & 26 & White                          & No & Other unspecified & HS/GED      \\\\\n",
              "\t 2016 & 1 & Undetermined & 0 & M & 32 & Native American/Native Alaskan & No & Other unspecified & HS/GED      \\\\\n",
              "\t 2016 & 2 & Homicide     & 0 & M & 30 & Asian/Pacific Islander         & No & Other unspecified & HS/GED      \\\\\n",
              "\t 2016 & 1 & Homicide     & 1 & M & 49 & Native American/Native Alaskan & No & Other unspecified & HS/GED      \\\\\n",
              "\t 2016 & 1 & Homicide     & 0 & M & 20 & Black                          & No & Other unspecified & Less than HS\\\\\n",
              "\t 2016 & 2 & Suicide      & 0 & M & 21 & White                          & No & Other unspecified & HS/GED      \\\\\n",
              "\t 2016 & 2 & Homicide     & 1 & M & 36 & Native American/Native Alaskan & No & Other unspecified & Some college\\\\\n",
              "\t 2016 & 3 & Suicide      & 0 & M & 38 & White                          & No & Other unspecified & HS/GED      \\\\\n",
              "\t 2016 & 3 & Suicide      & 0 & M & 40 & White                          & No & Other unspecified & HS/GED      \\\\\n",
              "\t 2016 & 3 & Suicide      & 0 & M & 71 & White                          & No & Other unspecified & HS/GED      \\\\\n",
              "\t 2016 & 2 & Homicide     & 0 & F & 38 & Native American/Native Alaskan & No & Other unspecified & Less than HS\\\\\n",
              "\t 2016 & 3 & Homicide     & 0 & M & 24 & Black                          & No & Other unspecified & HS/GED      \\\\\n",
              "\t 2016 & 1 & Accidental   & 0 & M & 25 & White                          & No & Home              & HS/GED      \\\\\n",
              "\t ⋮ & ⋮ & ⋮ & ⋮ & ⋮ & ⋮ & ⋮ & ⋮ & ⋮ & ⋮\\\\\n",
              "\t 2016 & 11 & Suicide  & 0 & M & 30 & White    & No  & Home                    & BA+         \\\\\n",
              "\t 2016 & 11 & Suicide  & 0 & M & 67 & White    & No  & Home                    & BA+         \\\\\n",
              "\t 2016 & 11 & Homicide & 0 & M & 19 & Hispanic & Yes & Home                    & HS/GED      \\\\\n",
              "\t 2016 & 11 & Homicide & 1 & M & 21 & Hispanic & Yes & Other unspecified       & Less than HS\\\\\n",
              "\t 2016 & 11 & Homicide & 0 & M & 37 & Black    & No  & Other specified         & HS/GED      \\\\\n",
              "\t 2016 & 11 & Homicide & 0 & M & 58 & Black    & No  & Street                  & BA+         \\\\\n",
              "\t 2016 & 11 & Homicide & 0 & M & 30 & White    & No  & Home                    & HS/GED      \\\\\n",
              "\t 2016 & 11 & Homicide & 0 & M & 24 & Black    & No  & Street                  & Less than HS\\\\\n",
              "\t 2016 & 11 & Suicide  & 0 & M & 26 & Black    & No  & Other specified         & Some college\\\\\n",
              "\t 2016 & 11 & Homicide & 0 & F & 27 & Black    & No  & Street                  & HS/GED      \\\\\n",
              "\t 2016 & 11 & Homicide & 0 & F & 22 & Black    & No  & Other specified         & BA+         \\\\\n",
              "\t 2016 & 12 & Suicide  & 0 & M & 54 & Black    & No  & Home                    & BA+         \\\\\n",
              "\t 2016 & 12 & Suicide  & 0 & M & 65 & White    & No  & Home                    & BA+         \\\\\n",
              "\t 2016 & 12 & Homicide & 0 & M & 21 & Black    & No  & Other unspecified       & HS/GED      \\\\\n",
              "\t 2016 & 12 & Homicide & 0 & F & 25 & Black    & No  & Other unspecified       & Some college\\\\\n",
              "\t 2016 & 12 & Homicide & 0 & M & 22 & Black    & No  & Street                  & Less than HS\\\\\n",
              "\t 2016 & 12 & Homicide & 0 & F & 24 & Hispanic & Yes & Home                    & HS/GED      \\\\\n",
              "\t 2016 & 12 & Homicide & 0 & M & 21 & Black    & No  & Home                    & HS/GED      \\\\\n",
              "\t 2016 & 12 & Homicide & 0 & M & 41 & Hispanic & Yes & Street                  & Unknown     \\\\\n",
              "\t 2016 & 12 & Homicide & 0 & M & 32 & Black    & No  & Street                  & HS/GED      \\\\\n",
              "\t 2016 & 12 & Homicide & 0 & M & 26 & Black    & No  & Home                    & HS/GED      \\\\\n",
              "\t 2016 & 12 & Homicide & 0 & M & 32 & Black    & No  & Street                  & Some college\\\\\n",
              "\t 2016 & 12 & Homicide & 0 & M & 27 & Black    & No  & Street                  & HS/GED      \\\\\n",
              "\t 2016 & 12 & Homicide & 0 & M & 19 & Black    & No  & Residential institution & HS/GED      \\\\\n",
              "\t 2016 & 12 & Suicide  & 0 & M & 24 & Black    & No  & Home                    & Less than HS\\\\\n",
              "\t 2016 & 12 & Homicide & 0 & M & 24 & Black    & No  & Street                  & HS/GED      \\\\\n",
              "\t 2016 & 12 & Homicide & 0 & M & 30 & Black    & No  & Street                  & Some college\\\\\n",
              "\t 2016 & 12 & Homicide & 0 & M & 31 & Black    & No  & Street                  & Some college\\\\\n",
              "\t 2016 & 12 & Homicide & 0 & M & 39 & Hispanic & Yes & School/instiution       & Less than HS\\\\\n",
              "\t 2016 & 12 & Homicide & 0 & M & 27 & Black    & No  & Street                  & Less than HS\\\\\n",
              "\\end{tabular}\n"
            ],
            "text/markdown": [
              "\n",
              "A data.frame: 38658 × 10\n",
              "\n",
              "| year &lt;int&gt; | month &lt;int&gt; | intent &lt;chr&gt; | police &lt;int&gt; | sex &lt;chr&gt; | age &lt;dbl&gt; | race &lt;chr&gt; | hispanic &lt;chr&gt; | place &lt;chr&gt; | education &lt;chr&gt; |\n",
              "|---|---|---|---|---|---|---|---|---|---|\n",
              "| 2016 | 1 | Suicide      | 0 | M | 27 | White                          | No | Other unspecified | HS/GED       |\n",
              "| 2016 | 1 | Suicide      | 0 | M | 69 | White                          | No | Other unspecified | Some college |\n",
              "| 2016 | 1 | Suicide      | 0 | M | 20 | White                          | No | Other unspecified | HS/GED       |\n",
              "| 2016 | 1 | Homicide     | 0 | F | 40 | Native American/Native Alaskan | No | Other unspecified | Some college |\n",
              "| 2016 | 1 | Homicide     | 0 | F | 18 | White                          | No | Other unspecified | Less than HS |\n",
              "| 2016 | 1 | Suicide      | 0 | F | 56 | White                          | No | Other unspecified | Some college |\n",
              "| 2016 | 1 | Suicide      | 0 | M | 45 | White                          | No | Other unspecified | HS/GED       |\n",
              "| 2016 | 1 | Suicide      | 0 | M | 23 | White                          | No | Other unspecified | Some college |\n",
              "| 2016 | 1 | Accidental   | 0 | M |  5 | Native American/Native Alaskan | No | Other unspecified | Less than HS |\n",
              "| 2016 | 1 | Homicide     | 0 | M | 27 | Native American/Native Alaskan | No | Other unspecified | Less than HS |\n",
              "| 2016 | 1 | Suicide      | 0 | M | 26 | Native American/Native Alaskan | No | Other unspecified | HS/GED       |\n",
              "| 2016 | 1 | Suicide      | 0 | M | 50 | Native American/Native Alaskan | No | Other unspecified | HS/GED       |\n",
              "| 2016 | 1 | Suicide      | 0 | M | 23 | Asian/Pacific Islander         | No | Other unspecified | HS/GED       |\n",
              "| 2016 | 2 | Homicide     | 0 | F | 40 | White                          | No | Other unspecified | Some college |\n",
              "| 2016 | 2 | Homicide     | 0 | M | 10 | White                          | No | Other unspecified | Less than HS |\n",
              "| 2016 | 2 | Homicide     | 0 | M | 25 | White                          | No | Other unspecified | Some college |\n",
              "| 2016 | 1 | Homicide     | 0 | F | 19 | White                          | No | Other unspecified | Less than HS |\n",
              "| 2016 | 2 | Suicide      | 0 | M | 26 | White                          | No | Other unspecified | HS/GED       |\n",
              "| 2016 | 1 | Undetermined | 0 | M | 32 | Native American/Native Alaskan | No | Other unspecified | HS/GED       |\n",
              "| 2016 | 2 | Homicide     | 0 | M | 30 | Asian/Pacific Islander         | No | Other unspecified | HS/GED       |\n",
              "| 2016 | 1 | Homicide     | 1 | M | 49 | Native American/Native Alaskan | No | Other unspecified | HS/GED       |\n",
              "| 2016 | 1 | Homicide     | 0 | M | 20 | Black                          | No | Other unspecified | Less than HS |\n",
              "| 2016 | 2 | Suicide      | 0 | M | 21 | White                          | No | Other unspecified | HS/GED       |\n",
              "| 2016 | 2 | Homicide     | 1 | M | 36 | Native American/Native Alaskan | No | Other unspecified | Some college |\n",
              "| 2016 | 3 | Suicide      | 0 | M | 38 | White                          | No | Other unspecified | HS/GED       |\n",
              "| 2016 | 3 | Suicide      | 0 | M | 40 | White                          | No | Other unspecified | HS/GED       |\n",
              "| 2016 | 3 | Suicide      | 0 | M | 71 | White                          | No | Other unspecified | HS/GED       |\n",
              "| 2016 | 2 | Homicide     | 0 | F | 38 | Native American/Native Alaskan | No | Other unspecified | Less than HS |\n",
              "| 2016 | 3 | Homicide     | 0 | M | 24 | Black                          | No | Other unspecified | HS/GED       |\n",
              "| 2016 | 1 | Accidental   | 0 | M | 25 | White                          | No | Home              | HS/GED       |\n",
              "| ⋮ | ⋮ | ⋮ | ⋮ | ⋮ | ⋮ | ⋮ | ⋮ | ⋮ | ⋮ |\n",
              "| 2016 | 11 | Suicide  | 0 | M | 30 | White    | No  | Home                    | BA+          |\n",
              "| 2016 | 11 | Suicide  | 0 | M | 67 | White    | No  | Home                    | BA+          |\n",
              "| 2016 | 11 | Homicide | 0 | M | 19 | Hispanic | Yes | Home                    | HS/GED       |\n",
              "| 2016 | 11 | Homicide | 1 | M | 21 | Hispanic | Yes | Other unspecified       | Less than HS |\n",
              "| 2016 | 11 | Homicide | 0 | M | 37 | Black    | No  | Other specified         | HS/GED       |\n",
              "| 2016 | 11 | Homicide | 0 | M | 58 | Black    | No  | Street                  | BA+          |\n",
              "| 2016 | 11 | Homicide | 0 | M | 30 | White    | No  | Home                    | HS/GED       |\n",
              "| 2016 | 11 | Homicide | 0 | M | 24 | Black    | No  | Street                  | Less than HS |\n",
              "| 2016 | 11 | Suicide  | 0 | M | 26 | Black    | No  | Other specified         | Some college |\n",
              "| 2016 | 11 | Homicide | 0 | F | 27 | Black    | No  | Street                  | HS/GED       |\n",
              "| 2016 | 11 | Homicide | 0 | F | 22 | Black    | No  | Other specified         | BA+          |\n",
              "| 2016 | 12 | Suicide  | 0 | M | 54 | Black    | No  | Home                    | BA+          |\n",
              "| 2016 | 12 | Suicide  | 0 | M | 65 | White    | No  | Home                    | BA+          |\n",
              "| 2016 | 12 | Homicide | 0 | M | 21 | Black    | No  | Other unspecified       | HS/GED       |\n",
              "| 2016 | 12 | Homicide | 0 | F | 25 | Black    | No  | Other unspecified       | Some college |\n",
              "| 2016 | 12 | Homicide | 0 | M | 22 | Black    | No  | Street                  | Less than HS |\n",
              "| 2016 | 12 | Homicide | 0 | F | 24 | Hispanic | Yes | Home                    | HS/GED       |\n",
              "| 2016 | 12 | Homicide | 0 | M | 21 | Black    | No  | Home                    | HS/GED       |\n",
              "| 2016 | 12 | Homicide | 0 | M | 41 | Hispanic | Yes | Street                  | Unknown      |\n",
              "| 2016 | 12 | Homicide | 0 | M | 32 | Black    | No  | Street                  | HS/GED       |\n",
              "| 2016 | 12 | Homicide | 0 | M | 26 | Black    | No  | Home                    | HS/GED       |\n",
              "| 2016 | 12 | Homicide | 0 | M | 32 | Black    | No  | Street                  | Some college |\n",
              "| 2016 | 12 | Homicide | 0 | M | 27 | Black    | No  | Street                  | HS/GED       |\n",
              "| 2016 | 12 | Homicide | 0 | M | 19 | Black    | No  | Residential institution | HS/GED       |\n",
              "| 2016 | 12 | Suicide  | 0 | M | 24 | Black    | No  | Home                    | Less than HS |\n",
              "| 2016 | 12 | Homicide | 0 | M | 24 | Black    | No  | Street                  | HS/GED       |\n",
              "| 2016 | 12 | Homicide | 0 | M | 30 | Black    | No  | Street                  | Some college |\n",
              "| 2016 | 12 | Homicide | 0 | M | 31 | Black    | No  | Street                  | Some college |\n",
              "| 2016 | 12 | Homicide | 0 | M | 39 | Hispanic | Yes | School/instiution       | Less than HS |\n",
              "| 2016 | 12 | Homicide | 0 | M | 27 | Black    | No  | Street                  | Less than HS |\n",
              "\n"
            ],
            "text/plain": [
              "      year month intent       police sex age race                          \n",
              "1     2016 1     Suicide      0      M   27  White                         \n",
              "2     2016 1     Suicide      0      M   69  White                         \n",
              "3     2016 1     Suicide      0      M   20  White                         \n",
              "4     2016 1     Homicide     0      F   40  Native American/Native Alaskan\n",
              "5     2016 1     Homicide     0      F   18  White                         \n",
              "6     2016 1     Suicide      0      F   56  White                         \n",
              "7     2016 1     Suicide      0      M   45  White                         \n",
              "8     2016 1     Suicide      0      M   23  White                         \n",
              "9     2016 1     Accidental   0      M    5  Native American/Native Alaskan\n",
              "10    2016 1     Homicide     0      M   27  Native American/Native Alaskan\n",
              "11    2016 1     Suicide      0      M   26  Native American/Native Alaskan\n",
              "12    2016 1     Suicide      0      M   50  Native American/Native Alaskan\n",
              "13    2016 1     Suicide      0      M   23  Asian/Pacific Islander        \n",
              "14    2016 2     Homicide     0      F   40  White                         \n",
              "15    2016 2     Homicide     0      M   10  White                         \n",
              "16    2016 2     Homicide     0      M   25  White                         \n",
              "17    2016 1     Homicide     0      F   19  White                         \n",
              "18    2016 2     Suicide      0      M   26  White                         \n",
              "19    2016 1     Undetermined 0      M   32  Native American/Native Alaskan\n",
              "20    2016 2     Homicide     0      M   30  Asian/Pacific Islander        \n",
              "21    2016 1     Homicide     1      M   49  Native American/Native Alaskan\n",
              "22    2016 1     Homicide     0      M   20  Black                         \n",
              "23    2016 2     Suicide      0      M   21  White                         \n",
              "24    2016 2     Homicide     1      M   36  Native American/Native Alaskan\n",
              "25    2016 3     Suicide      0      M   38  White                         \n",
              "26    2016 3     Suicide      0      M   40  White                         \n",
              "27    2016 3     Suicide      0      M   71  White                         \n",
              "28    2016 2     Homicide     0      F   38  Native American/Native Alaskan\n",
              "29    2016 3     Homicide     0      M   24  Black                         \n",
              "30    2016 1     Accidental   0      M   25  White                         \n",
              "⋮     ⋮    ⋮     ⋮            ⋮      ⋮   ⋮   ⋮                             \n",
              "38629 2016 11    Suicide      0      M   30  White                         \n",
              "38630 2016 11    Suicide      0      M   67  White                         \n",
              "38631 2016 11    Homicide     0      M   19  Hispanic                      \n",
              "38632 2016 11    Homicide     1      M   21  Hispanic                      \n",
              "38633 2016 11    Homicide     0      M   37  Black                         \n",
              "38634 2016 11    Homicide     0      M   58  Black                         \n",
              "38635 2016 11    Homicide     0      M   30  White                         \n",
              "38636 2016 11    Homicide     0      M   24  Black                         \n",
              "38637 2016 11    Suicide      0      M   26  Black                         \n",
              "38638 2016 11    Homicide     0      F   27  Black                         \n",
              "38639 2016 11    Homicide     0      F   22  Black                         \n",
              "38640 2016 12    Suicide      0      M   54  Black                         \n",
              "38641 2016 12    Suicide      0      M   65  White                         \n",
              "38642 2016 12    Homicide     0      M   21  Black                         \n",
              "38643 2016 12    Homicide     0      F   25  Black                         \n",
              "38644 2016 12    Homicide     0      M   22  Black                         \n",
              "38645 2016 12    Homicide     0      F   24  Hispanic                      \n",
              "38646 2016 12    Homicide     0      M   21  Black                         \n",
              "38647 2016 12    Homicide     0      M   41  Hispanic                      \n",
              "38648 2016 12    Homicide     0      M   32  Black                         \n",
              "38649 2016 12    Homicide     0      M   26  Black                         \n",
              "38650 2016 12    Homicide     0      M   32  Black                         \n",
              "38651 2016 12    Homicide     0      M   27  Black                         \n",
              "38652 2016 12    Homicide     0      M   19  Black                         \n",
              "38653 2016 12    Suicide      0      M   24  Black                         \n",
              "38654 2016 12    Homicide     0      M   24  Black                         \n",
              "38655 2016 12    Homicide     0      M   30  Black                         \n",
              "38656 2016 12    Homicide     0      M   31  Black                         \n",
              "38657 2016 12    Homicide     0      M   39  Hispanic                      \n",
              "38658 2016 12    Homicide     0      M   27  Black                         \n",
              "      hispanic place                   education   \n",
              "1     No       Other unspecified       HS/GED      \n",
              "2     No       Other unspecified       Some college\n",
              "3     No       Other unspecified       HS/GED      \n",
              "4     No       Other unspecified       Some college\n",
              "5     No       Other unspecified       Less than HS\n",
              "6     No       Other unspecified       Some college\n",
              "7     No       Other unspecified       HS/GED      \n",
              "8     No       Other unspecified       Some college\n",
              "9     No       Other unspecified       Less than HS\n",
              "10    No       Other unspecified       Less than HS\n",
              "11    No       Other unspecified       HS/GED      \n",
              "12    No       Other unspecified       HS/GED      \n",
              "13    No       Other unspecified       HS/GED      \n",
              "14    No       Other unspecified       Some college\n",
              "15    No       Other unspecified       Less than HS\n",
              "16    No       Other unspecified       Some college\n",
              "17    No       Other unspecified       Less than HS\n",
              "18    No       Other unspecified       HS/GED      \n",
              "19    No       Other unspecified       HS/GED      \n",
              "20    No       Other unspecified       HS/GED      \n",
              "21    No       Other unspecified       HS/GED      \n",
              "22    No       Other unspecified       Less than HS\n",
              "23    No       Other unspecified       HS/GED      \n",
              "24    No       Other unspecified       Some college\n",
              "25    No       Other unspecified       HS/GED      \n",
              "26    No       Other unspecified       HS/GED      \n",
              "27    No       Other unspecified       HS/GED      \n",
              "28    No       Other unspecified       Less than HS\n",
              "29    No       Other unspecified       HS/GED      \n",
              "30    No       Home                    HS/GED      \n",
              "⋮     ⋮        ⋮                       ⋮           \n",
              "38629 No       Home                    BA+         \n",
              "38630 No       Home                    BA+         \n",
              "38631 Yes      Home                    HS/GED      \n",
              "38632 Yes      Other unspecified       Less than HS\n",
              "38633 No       Other specified         HS/GED      \n",
              "38634 No       Street                  BA+         \n",
              "38635 No       Home                    HS/GED      \n",
              "38636 No       Street                  Less than HS\n",
              "38637 No       Other specified         Some college\n",
              "38638 No       Street                  HS/GED      \n",
              "38639 No       Other specified         BA+         \n",
              "38640 No       Home                    BA+         \n",
              "38641 No       Home                    BA+         \n",
              "38642 No       Other unspecified       HS/GED      \n",
              "38643 No       Other unspecified       Some college\n",
              "38644 No       Street                  Less than HS\n",
              "38645 Yes      Home                    HS/GED      \n",
              "38646 No       Home                    HS/GED      \n",
              "38647 Yes      Street                  Unknown     \n",
              "38648 No       Street                  HS/GED      \n",
              "38649 No       Home                    HS/GED      \n",
              "38650 No       Street                  Some college\n",
              "38651 No       Street                  HS/GED      \n",
              "38652 No       Residential institution HS/GED      \n",
              "38653 No       Home                    Less than HS\n",
              "38654 No       Street                  HS/GED      \n",
              "38655 No       Street                  Some college\n",
              "38656 No       Street                  Some college\n",
              "38657 Yes      School/instiution       Less than HS\n",
              "38658 No       Street                  Less than HS"
            ]
          },
          "metadata": {},
          "output_type": "display_data"
        }
      ],
      "source": [
        "gunDeathsData_2016 <- read.csv(\"/content/guns_2016.csv\", header = TRUE, sep = \",\")\n",
        "View(gunDeathsData_2016)"
      ]
    },
    {
      "cell_type": "code",
      "execution_count": 130,
      "metadata": {
        "colab": {
          "base_uri": "https://localhost:8080/",
          "height": 34
        },
        "id": "ehS1kJbVdfeG",
        "outputId": "4998102d-9ef1-4c72-89c6-5cd938fb0483",
        "vscode": {
          "languageId": "r"
        }
      },
      "outputs": [
        {
          "data": {
            "text/html": [
              "0"
            ],
            "text/latex": [
              "0"
            ],
            "text/markdown": [
              "0"
            ],
            "text/plain": [
              "[1] 0"
            ]
          },
          "metadata": {},
          "output_type": "display_data"
        }
      ],
      "source": [
        "# Any null data?\n",
        "sum(is.na(gunDeathsData_2016))"
      ]
    },
    {
      "cell_type": "code",
      "execution_count": null,
      "metadata": {
        "colab": {
          "base_uri": "https://localhost:8080/",
          "height": 86
        },
        "id": "v410uFaddjAT",
        "outputId": "cf2a3381-7491-4cc0-e8e8-53f4728ebaa3",
        "vscode": {
          "languageId": "r"
        }
      },
      "outputs": [
        {
          "name": "stdout",
          "output_type": "stream",
          "text": [
            "[1] \"Mean values for each numeric column:\"\n",
            "[1] \"Mean Age: \"\n"
          ]
        },
        {
          "data": {
            "text/html": [
              "42.9561494282612"
            ],
            "text/latex": [
              "42.9561494282612"
            ],
            "text/markdown": [
              "42.9561494282612"
            ],
            "text/plain": [
              "[1] 42.95615"
            ]
          },
          "metadata": {},
          "output_type": "display_data"
        },
        {
          "name": "stdout",
          "output_type": "stream",
          "text": [
            "[1] \"-----------------------------\"\n"
          ]
        }
      ],
      "source": [
        "# Gun related deaths from 2016\n",
        "# Statistical information\n",
        "\n",
        "# Mean for each numeric column:\n",
        "# Only one numeric column was found: Age\n",
        "print(\"Mean values for each numeric column:\")\n",
        "print(\"Mean Age: \") # 42.956\n",
        "mean(gunDeathsData_2016$age)\n",
        "print(\"-----------------------------\")"
      ]
    },
    {
      "cell_type": "code",
      "execution_count": 132,
      "metadata": {
        "colab": {
          "base_uri": "https://localhost:8080/",
          "height": 52
        },
        "id": "pnFQxD5wdsve",
        "outputId": "ac26457f-e197-4423-b755-a94adfa8704d",
        "vscode": {
          "languageId": "r"
        }
      },
      "outputs": [
        {
          "name": "stdout",
          "output_type": "stream",
          "text": [
            "[1] \"Median value for the age column:\"\n"
          ]
        },
        {
          "data": {
            "text/html": [
              "40"
            ],
            "text/latex": [
              "40"
            ],
            "text/markdown": [
              "40"
            ],
            "text/plain": [
              "[1] 40"
            ]
          },
          "metadata": {},
          "output_type": "display_data"
        }
      ],
      "source": [
        "# Median Age:\n",
        "print(\"Median value for the age column:\") # 40\n",
        "median(gunDeathsData_2016$age)"
      ]
    },
    {
      "cell_type": "code",
      "execution_count": 133,
      "metadata": {
        "colab": {
          "base_uri": "https://localhost:8080/",
          "height": 52
        },
        "id": "l2Rzv5sydyT5",
        "outputId": "3e5e241f-8d8d-47fa-8ebc-567fd48d1704",
        "vscode": {
          "languageId": "r"
        }
      },
      "outputs": [
        {
          "name": "stdout",
          "output_type": "stream",
          "text": [
            "[1] \"Most occuring value for the age column:\"\n"
          ]
        },
        {
          "data": {
            "text/html": [
              "25"
            ],
            "text/latex": [
              "25"
            ],
            "text/markdown": [
              "25"
            ],
            "text/plain": [
              "[1] 25\n",
              "attr(,\"freq\")\n",
              "[1] 1038"
            ]
          },
          "metadata": {},
          "output_type": "display_data"
        }
      ],
      "source": [
        "# Mode Age:\n",
        "print(\"Most occuring value for the age column:\") # 25\n",
        "Mode(gunDeathsData_2016$age)"
      ]
    },
    {
      "cell_type": "code",
      "execution_count": 134,
      "metadata": {
        "colab": {
          "base_uri": "https://localhost:8080/",
          "height": 52
        },
        "id": "hFeJ9l2_d311",
        "outputId": "f9f68b32-999d-459c-ca07-fa4c44a8959a",
        "vscode": {
          "languageId": "r"
        }
      },
      "outputs": [
        {
          "name": "stdout",
          "output_type": "stream",
          "text": [
            "[1] \"Standard Deviation of the age:\"\n"
          ]
        },
        {
          "data": {
            "text/html": [
              "19.4968122205955"
            ],
            "text/latex": [
              "19.4968122205955"
            ],
            "text/markdown": [
              "19.4968122205955"
            ],
            "text/plain": [
              "[1] 19.49681"
            ]
          },
          "metadata": {},
          "output_type": "display_data"
        }
      ],
      "source": [
        "# Standard Deviation Age:\n",
        "print(\"Standard Deviation of the age:\") #19.497 years\n",
        "SD(gunDeathsData_2016$age)"
      ]
    },
    {
      "cell_type": "code",
      "execution_count": 135,
      "metadata": {
        "colab": {
          "base_uri": "https://localhost:8080/",
          "height": 437
        },
        "id": "54L3i-fNeCNy",
        "outputId": "9f4d7de2-0a82-44f0-ec79-d993d1f65755",
        "vscode": {
          "languageId": "r"
        }
      },
      "outputs": [
        {
          "data": {
            "image/png": "[encoded data removed]",
            "text/plain": [
              "Plot with title “Age of Victims of Gun-related Deaths by Race”"
            ]
          },
          "metadata": {
            "image/png": {
              "height": 420,
              "width": 420
            }
          },
          "output_type": "display_data"
        }
      ],
      "source": [
        "# creating boxplot on age and race:\n",
        "boxplot(gunDeathsData_2016$age ~ gunDeathsData_2016$race, data = gunDeathsData_2016,\n",
        "        main = \"Age of Victims of Gun-related Deaths by Race\",\n",
        "        xlab = \"Race\",\n",
        "        ylab = \"Age\")\n"
      ]
    },
    {
      "cell_type": "code",
      "execution_count": 136,
      "metadata": {
        "colab": {
          "base_uri": "https://localhost:8080/",
          "height": 437
        },
        "id": "MzZ4IT9qequa",
        "outputId": "d0f9872e-34fb-4a0e-e9dd-d2cd8a306512",
        "vscode": {
          "languageId": "r"
        }
      },
      "outputs": [
        {
          "data": {
            "image/png": "[encoded data removed]",
            "text/plain": [
              "Plot with title “Histogram of gunDeathsData_2016$age”"
            ]
          },
          "metadata": {
            "image/png": {
              "height": 420,
              "width": 420
            }
          },
          "output_type": "display_data"
        }
      ],
      "source": [
        "# Constructing the histogram:\n",
        "\n",
        "hist(gunDeathsData_2016$age, xlab=\"Victims of Gun Violence By Age\", col = \"red\", border = \"black\")"
      ]
    },
    {
      "cell_type": "code",
      "execution_count": 137,
      "metadata": {
        "colab": {
          "base_uri": "https://localhost:8080/",
          "height": 437
        },
        "id": "V4UYhcrUexIc",
        "outputId": "6e951273-2b63-4371-f8b6-126b71b7d3ee",
        "vscode": {
          "languageId": "r"
        }
      },
      "outputs": [
        {
          "data": {
            "image/png": "[encoded data removed]",
            "text/plain": [
              "Plot with title “Age of Victims of Gun-related Deaths by Gender”"
            ]
          },
          "metadata": {
            "image/png": {
              "height": 420,
              "width": 420
            }
          },
          "output_type": "display_data"
        }
      ],
      "source": [
        "# Creating a boxplot on age and gender:\n",
        "boxplot(gunDeathsData_2016$age ~ gunDeathsData_2016$sex, data = gunDeathsData_2016,\n",
        "        main = \"Age of Victims of Gun-related Deaths by Gender\",\n",
        "        xlab = \"Gender\",\n",
        "        ylab = \"Age\")\n"
      ]
    },
    {
      "cell_type": "code",
      "execution_count": 138,
      "metadata": {
        "colab": {
          "base_uri": "https://localhost:8080/",
          "height": 437
        },
        "id": "8-e11k2gfEVJ",
        "outputId": "e5e9e273-b192-4fbf-a4c1-c26d8e653eba",
        "vscode": {
          "languageId": "r"
        }
      },
      "outputs": [
        {
          "data": {
            "image/png": "[encoded data removed]",
            "text/plain": [
              "Plot with title “Histogram of gunDeathsData_2016$month”"
            ]
          },
          "metadata": {
            "image/png": {
              "height": 420,
              "width": 420
            }
          },
          "output_type": "display_data"
        }
      ],
      "source": [
        "# Constructing the histogram for number of deaths by month:\n",
        "\n",
        "hist(gunDeathsData_2016$month, xlab=\"Total Victims of Gun Violence By Month\", col = \"blue\", border = \"black\")"
      ]
    },
    {
      "cell_type": "code",
      "execution_count": 139,
      "metadata": {
        "colab": {
          "base_uri": "https://localhost:8080/",
          "height": 437
        },
        "id": "tzuIMbLMfRPP",
        "outputId": "2a463de4-9313-4228-c605-85d7ec6082fa",
        "vscode": {
          "languageId": "r"
        }
      },
      "outputs": [
        {
          "data": {
            "image/png": "[encoded data removed]",
            "text/plain": [
              "Plot with title “Age of victims of Gun-related Deaths by Intent”"
            ]
          },
          "metadata": {
            "image/png": {
              "height": 420,
              "width": 420
            }
          },
          "output_type": "display_data"
        }
      ],
      "source": [
        "# Creating a boxplot on age and intentions behind the gun:\n",
        "boxplot(gunDeathsData_2016$age ~ gunDeathsData_2016$intent, data = gunDeathsData_2016,\n",
        "  main = \"Age of victims of Gun-related Deaths by Intent\",\n",
        "  xlab = \"Intentions With the Gun\",\n",
        "  ylab = \"Age\")\n",
        "\n",
        "# Homicides have the most outliers"
      ]
    },
    {
      "cell_type": "code",
      "execution_count": 140,
      "metadata": {
        "colab": {
          "base_uri": "https://localhost:8080/",
          "height": 255
        },
        "id": "6L3WaH2cgFI_",
        "outputId": "af23c61b-e941-4225-ed73-08d4976c087b",
        "vscode": {
          "languageId": "r"
        }
      },
      "outputs": [
        {
          "data": {
            "text/html": [
              "<table class=\"dataframe\">\n",
              "<caption>A data.frame: 5 × 2</caption>\n",
              "<thead>\n",
              "\t<tr><th scope=col>gunDeathsData_2016$race</th><th scope=col>n</th></tr>\n",
              "\t<tr><th scope=col>&lt;chr&gt;</th><th scope=col>&lt;int&gt;</th></tr>\n",
              "</thead>\n",
              "<tbody>\n",
              "\t<tr><td>Asian/Pacific Islander        </td><td>  585</td></tr>\n",
              "\t<tr><td>Black                         </td><td> 9999</td></tr>\n",
              "\t<tr><td>Hispanic                      </td><td> 3771</td></tr>\n",
              "\t<tr><td>Native American/Native Alaskan</td><td>  392</td></tr>\n",
              "\t<tr><td>White                         </td><td>23911</td></tr>\n",
              "</tbody>\n",
              "</table>\n"
            ],
            "text/latex": [
              "A data.frame: 5 × 2\n",
              "\\begin{tabular}{ll}\n",
              " gunDeathsData\\_2016\\$race & n\\\\\n",
              " <chr> & <int>\\\\\n",
              "\\hline\n",
              "\t Asian/Pacific Islander         &   585\\\\\n",
              "\t Black                          &  9999\\\\\n",
              "\t Hispanic                       &  3771\\\\\n",
              "\t Native American/Native Alaskan &   392\\\\\n",
              "\t White                          & 23911\\\\\n",
              "\\end{tabular}\n"
            ],
            "text/markdown": [
              "\n",
              "A data.frame: 5 × 2\n",
              "\n",
              "| gunDeathsData_2016$race &lt;chr&gt; | n &lt;int&gt; |\n",
              "|---|---|\n",
              "| Asian/Pacific Islander         |   585 |\n",
              "| Black                          |  9999 |\n",
              "| Hispanic                       |  3771 |\n",
              "| Native American/Native Alaskan |   392 |\n",
              "| White                          | 23911 |\n",
              "\n"
            ],
            "text/plain": [
              "  gunDeathsData_2016$race        n    \n",
              "1 Asian/Pacific Islander           585\n",
              "2 Black                           9999\n",
              "3 Hispanic                        3771\n",
              "4 Native American/Native Alaskan   392\n",
              "5 White                          23911"
            ]
          },
          "metadata": {},
          "output_type": "display_data"
        }
      ],
      "source": [
        "gunDeathsData_2016 %>%\n",
        "  count(gunDeathsData_2016$race)"
      ]
    },
    {
      "cell_type": "code",
      "execution_count": 141,
      "metadata": {
        "colab": {
          "base_uri": "https://localhost:8080/",
          "height": 161
        },
        "id": "oGuhoRt2gJt9",
        "outputId": "c4bde4e9-cbfc-4674-cda3-e45c92f712ff",
        "vscode": {
          "languageId": "r"
        }
      },
      "outputs": [
        {
          "data": {
            "text/html": [
              "<table class=\"dataframe\">\n",
              "<caption>A data.frame: 2 × 2</caption>\n",
              "<thead>\n",
              "\t<tr><th scope=col>gunDeathsData_2016$sex</th><th scope=col>n</th></tr>\n",
              "\t<tr><th scope=col>&lt;chr&gt;</th><th scope=col>&lt;int&gt;</th></tr>\n",
              "</thead>\n",
              "<tbody>\n",
              "\t<tr><td>F</td><td> 5664</td></tr>\n",
              "\t<tr><td>M</td><td>32994</td></tr>\n",
              "</tbody>\n",
              "</table>\n"
            ],
            "text/latex": [
              "A data.frame: 2 × 2\n",
              "\\begin{tabular}{ll}\n",
              " gunDeathsData\\_2016\\$sex & n\\\\\n",
              " <chr> & <int>\\\\\n",
              "\\hline\n",
              "\t F &  5664\\\\\n",
              "\t M & 32994\\\\\n",
              "\\end{tabular}\n"
            ],
            "text/markdown": [
              "\n",
              "A data.frame: 2 × 2\n",
              "\n",
              "| gunDeathsData_2016$sex &lt;chr&gt; | n &lt;int&gt; |\n",
              "|---|---|\n",
              "| F |  5664 |\n",
              "| M | 32994 |\n",
              "\n"
            ],
            "text/plain": [
              "  gunDeathsData_2016$sex n    \n",
              "1 F                       5664\n",
              "2 M                      32994"
            ]
          },
          "metadata": {},
          "output_type": "display_data"
        }
      ],
      "source": [
        "gunDeathsData_2016 %>%\n",
        "  count(gunDeathsData_2016$sex)"
      ]
    },
    {
      "cell_type": "code",
      "execution_count": 142,
      "metadata": {
        "colab": {
          "base_uri": "https://localhost:8080/",
          "height": 223
        },
        "id": "ecOXrRPegYUu",
        "outputId": "20d1ee60-e3d2-4473-b387-1235251a0824",
        "vscode": {
          "languageId": "r"
        }
      },
      "outputs": [
        {
          "data": {
            "text/html": [
              "<table class=\"dataframe\">\n",
              "<caption>A data.frame: 4 × 2</caption>\n",
              "<thead>\n",
              "\t<tr><th scope=col>gunDeathsData_2016$intent</th><th scope=col>n</th></tr>\n",
              "\t<tr><th scope=col>&lt;chr&gt;</th><th scope=col>&lt;int&gt;</th></tr>\n",
              "</thead>\n",
              "<tbody>\n",
              "\t<tr><td>Accidental  </td><td>  495</td></tr>\n",
              "\t<tr><td>Homicide    </td><td>14925</td></tr>\n",
              "\t<tr><td>Suicide     </td><td>22938</td></tr>\n",
              "\t<tr><td>Undetermined</td><td>  300</td></tr>\n",
              "</tbody>\n",
              "</table>\n"
            ],
            "text/latex": [
              "A data.frame: 4 × 2\n",
              "\\begin{tabular}{ll}\n",
              " gunDeathsData\\_2016\\$intent & n\\\\\n",
              " <chr> & <int>\\\\\n",
              "\\hline\n",
              "\t Accidental   &   495\\\\\n",
              "\t Homicide     & 14925\\\\\n",
              "\t Suicide      & 22938\\\\\n",
              "\t Undetermined &   300\\\\\n",
              "\\end{tabular}\n"
            ],
            "text/markdown": [
              "\n",
              "A data.frame: 4 × 2\n",
              "\n",
              "| gunDeathsData_2016$intent &lt;chr&gt; | n &lt;int&gt; |\n",
              "|---|---|\n",
              "| Accidental   |   495 |\n",
              "| Homicide     | 14925 |\n",
              "| Suicide      | 22938 |\n",
              "| Undetermined |   300 |\n",
              "\n"
            ],
            "text/plain": [
              "  gunDeathsData_2016$intent n    \n",
              "1 Accidental                  495\n",
              "2 Homicide                  14925\n",
              "3 Suicide                   22938\n",
              "4 Undetermined                300"
            ]
          },
          "metadata": {},
          "output_type": "display_data"
        }
      ],
      "source": [
        "gunDeathsData_2016 %>%\n",
        "  count(gunDeathsData_2016$intent)"
      ]
    },
    {
      "cell_type": "code",
      "execution_count": 143,
      "metadata": {
        "colab": {
          "base_uri": "https://localhost:8080/",
          "height": 474
        },
        "id": "TN8De8Pngd-_",
        "outputId": "21f52aaa-6e39-4566-a0f3-72e176290b6e",
        "vscode": {
          "languageId": "r"
        }
      },
      "outputs": [
        {
          "data": {
            "text/html": [
              "<table class=\"dataframe\">\n",
              "<caption>A data.frame: 12 × 2</caption>\n",
              "<thead>\n",
              "\t<tr><th scope=col>gunDeathsData_2016$month</th><th scope=col>n</th></tr>\n",
              "\t<tr><th scope=col>&lt;int&gt;</th><th scope=col>&lt;int&gt;</th></tr>\n",
              "</thead>\n",
              "<tbody>\n",
              "\t<tr><td> 1</td><td>3076</td></tr>\n",
              "\t<tr><td> 2</td><td>2756</td></tr>\n",
              "\t<tr><td> 3</td><td>3241</td></tr>\n",
              "\t<tr><td> 4</td><td>3168</td></tr>\n",
              "\t<tr><td> 5</td><td>3220</td></tr>\n",
              "\t<tr><td> 6</td><td>3262</td></tr>\n",
              "\t<tr><td> 7</td><td>3500</td></tr>\n",
              "\t<tr><td> 8</td><td>3497</td></tr>\n",
              "\t<tr><td> 9</td><td>3263</td></tr>\n",
              "\t<tr><td>10</td><td>3380</td></tr>\n",
              "\t<tr><td>11</td><td>3168</td></tr>\n",
              "\t<tr><td>12</td><td>3127</td></tr>\n",
              "</tbody>\n",
              "</table>\n"
            ],
            "text/latex": [
              "A data.frame: 12 × 2\n",
              "\\begin{tabular}{ll}\n",
              " gunDeathsData\\_2016\\$month & n\\\\\n",
              " <int> & <int>\\\\\n",
              "\\hline\n",
              "\t  1 & 3076\\\\\n",
              "\t  2 & 2756\\\\\n",
              "\t  3 & 3241\\\\\n",
              "\t  4 & 3168\\\\\n",
              "\t  5 & 3220\\\\\n",
              "\t  6 & 3262\\\\\n",
              "\t  7 & 3500\\\\\n",
              "\t  8 & 3497\\\\\n",
              "\t  9 & 3263\\\\\n",
              "\t 10 & 3380\\\\\n",
              "\t 11 & 3168\\\\\n",
              "\t 12 & 3127\\\\\n",
              "\\end{tabular}\n"
            ],
            "text/markdown": [
              "\n",
              "A data.frame: 12 × 2\n",
              "\n",
              "| gunDeathsData_2016$month &lt;int&gt; | n &lt;int&gt; |\n",
              "|---|---|\n",
              "|  1 | 3076 |\n",
              "|  2 | 2756 |\n",
              "|  3 | 3241 |\n",
              "|  4 | 3168 |\n",
              "|  5 | 3220 |\n",
              "|  6 | 3262 |\n",
              "|  7 | 3500 |\n",
              "|  8 | 3497 |\n",
              "|  9 | 3263 |\n",
              "| 10 | 3380 |\n",
              "| 11 | 3168 |\n",
              "| 12 | 3127 |\n",
              "\n"
            ],
            "text/plain": [
              "   gunDeathsData_2016$month n   \n",
              "1   1                       3076\n",
              "2   2                       2756\n",
              "3   3                       3241\n",
              "4   4                       3168\n",
              "5   5                       3220\n",
              "6   6                       3262\n",
              "7   7                       3500\n",
              "8   8                       3497\n",
              "9   9                       3263\n",
              "10 10                       3380\n",
              "11 11                       3168\n",
              "12 12                       3127"
            ]
          },
          "metadata": {},
          "output_type": "display_data"
        }
      ],
      "source": [
        "gunDeathsData_2016 %>%\n",
        "  count(gunDeathsData_2016$month)"
      ]
    },
    {
      "cell_type": "code",
      "execution_count": null,
      "metadata": {
        "colab": {
          "base_uri": "https://localhost:8080/",
          "height": 34
        },
        "id": "hrt7TawcglXT",
        "outputId": "1aec7dc2-f65b-4a60-aa45-1b105df848d4",
        "vscode": {
          "languageId": "r"
        }
      },
      "outputs": [
        {
          "data": {
            "text/html": [
              "TRUE"
            ],
            "text/latex": [
              "TRUE"
            ],
            "text/markdown": [
              "TRUE"
            ],
            "text/plain": [
              "[1] TRUE"
            ]
          },
          "metadata": {},
          "output_type": "display_data"
        }
      ],
      "source": [
        "# Making the markdown file:\n",
        "file.create(\"CaseStudy_GunDeaths_2016.Rmd\")"
      ]
    }
  ],
  "metadata": {
    "colab": {
      "provenance": []
    },
    "kernelspec": {
      "display_name": "R",
      "name": "ir"
    },
    "language_info": {
      "name": "R"
    }
  },
  "nbformat": 4,
  "nbformat_minor": 0
}
