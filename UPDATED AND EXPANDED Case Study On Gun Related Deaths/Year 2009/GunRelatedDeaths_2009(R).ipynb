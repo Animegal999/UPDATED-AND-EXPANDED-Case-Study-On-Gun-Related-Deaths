{
  "cells": [
    {
      "cell_type": "code",
      "execution_count": 1,
      "metadata": {
        "colab": {
          "base_uri": "https://localhost:8080/"
        },
        "id": "8erXwBuPbX4I",
        "outputId": "dae96247-43c3-49ec-cb99-464be0350d7f",
        "vscode": {
          "languageId": "r"
        }
      },
      "outputs": [
        {
          "name": "stderr",
          "output_type": "stream",
          "text": [
            "Installing package into ‘/usr/local/lib/R/site-library’\n",
            "(as ‘lib’ is unspecified)\n",
            "\n",
            "Installing package into ‘/usr/local/lib/R/site-library’\n",
            "(as ‘lib’ is unspecified)\n",
            "\n",
            "Installing package into ‘/usr/local/lib/R/site-library’\n",
            "(as ‘lib’ is unspecified)\n",
            "\n",
            "also installing the dependencies ‘zoo’, ‘xts’, ‘PKI’, ‘packrat’, ‘renv’, ‘V8’, ‘dygraphs’, ‘rsconnect’, ‘katex’, ‘cleanrmd’\n",
            "\n",
            "\n",
            "Installing package into ‘/usr/local/lib/R/site-library’\n",
            "(as ‘lib’ is unspecified)\n",
            "\n",
            "also installing the dependencies ‘lazyeval’, ‘crosstalk’\n",
            "\n",
            "\n",
            "Installing package into ‘/usr/local/lib/R/site-library’\n",
            "(as ‘lib’ is unspecified)\n",
            "\n",
            "also installing the dependencies ‘proxy’, ‘rootSolve’, ‘e1071’, ‘lmom’, ‘mvtnorm’, ‘expm’, ‘Exact’, ‘gld’\n",
            "\n",
            "\n",
            "Installing package into ‘/usr/local/lib/R/site-library’\n",
            "(as ‘lib’ is unspecified)\n",
            "\n",
            "\n",
            "Attaching package: ‘plotly’\n",
            "\n",
            "\n",
            "The following object is masked from ‘package:ggplot2’:\n",
            "\n",
            "    last_plot\n",
            "\n",
            "\n",
            "The following object is masked from ‘package:stats’:\n",
            "\n",
            "    filter\n",
            "\n",
            "\n",
            "The following object is masked from ‘package:graphics’:\n",
            "\n",
            "    layout\n",
            "\n",
            "\n",
            "\n",
            "Attaching package: ‘dplyr’\n",
            "\n",
            "\n",
            "The following objects are masked from ‘package:stats’:\n",
            "\n",
            "    filter, lag\n",
            "\n",
            "\n",
            "The following objects are masked from ‘package:base’:\n",
            "\n",
            "    intersect, setdiff, setequal, union\n",
            "\n",
            "\n"
          ]
        }
      ],
      "source": [
        "install.packages(\"ggplot2\")\n",
        "install.packages(\"tinytex\")\n",
        "install.packages(\"rmarkdown\", dep = TRUE)\n",
        "install.packages(\"plotly\")\n",
        "install.packages(\"DescTools\")\n",
        "install.packages(\"dplyr\")\n",
        "\n",
        "library(ggplot2)\n",
        "library(tinytex)\n",
        "library(rmarkdown)\n",
        "library(plotly)\n",
        "library(DescTools)\n",
        "library(dplyr)"
      ]
    },
    {
      "cell_type": "code",
      "execution_count": 17,
      "metadata": {
        "colab": {
          "base_uri": "https://localhost:8080/",
          "height": 1000
        },
        "id": "_OCCxzoxb6SI",
        "outputId": "85c07e85-7347-4b98-990e-0a8d37997a4f",
        "vscode": {
          "languageId": "r"
        }
      },
      "outputs": [
        {
          "data": {
            "text/html": [
              "<table class=\"dataframe\">\n",
              "<caption>A data.frame: 31347 × 10</caption>\n",
              "<thead>\n",
              "\t<tr><th scope=col>year</th><th scope=col>month</th><th scope=col>intent</th><th scope=col>police</th><th scope=col>sex</th><th scope=col>age</th><th scope=col>race</th><th scope=col>hispanic</th><th scope=col>place</th><th scope=col>education</th></tr>\n",
              "\t<tr><th scope=col>&lt;int&gt;</th><th scope=col>&lt;int&gt;</th><th scope=col>&lt;chr&gt;</th><th scope=col>&lt;int&gt;</th><th scope=col>&lt;chr&gt;</th><th scope=col>&lt;dbl&gt;</th><th scope=col>&lt;chr&gt;</th><th scope=col>&lt;chr&gt;</th><th scope=col>&lt;chr&gt;</th><th scope=col>&lt;chr&gt;</th></tr>\n",
              "</thead>\n",
              "<tbody>\n",
              "\t<tr><td>2009</td><td>1</td><td>Suicide     </td><td>0</td><td>M</td><td>46</td><td>White                         </td><td>No</td><td>Home             </td><td>HS/GED      </td></tr>\n",
              "\t<tr><td>2009</td><td>1</td><td>Suicide     </td><td>0</td><td>M</td><td>33</td><td>Native American/Native Alaskan</td><td>No</td><td>Home             </td><td>HS/GED      </td></tr>\n",
              "\t<tr><td>2009</td><td>2</td><td>Homicide    </td><td>1</td><td>F</td><td>38</td><td>White                         </td><td>No</td><td>Other unspecified</td><td>HS/GED      </td></tr>\n",
              "\t<tr><td>2009</td><td>2</td><td>Suicide     </td><td>0</td><td>F</td><td>35</td><td>Native American/Native Alaskan</td><td>No</td><td>Home             </td><td>Some college</td></tr>\n",
              "\t<tr><td>2009</td><td>2</td><td>Suicide     </td><td>0</td><td>M</td><td>33</td><td>White                         </td><td>No</td><td>Home             </td><td>HS/GED      </td></tr>\n",
              "\t<tr><td>2009</td><td>2</td><td>Suicide     </td><td>0</td><td>M</td><td>22</td><td>Native American/Native Alaskan</td><td>No</td><td>Other specified  </td><td>HS/GED      </td></tr>\n",
              "\t<tr><td>2009</td><td>3</td><td>Homicide    </td><td>0</td><td>M</td><td>15</td><td>Native American/Native Alaskan</td><td>No</td><td>Home             </td><td>Less than HS</td></tr>\n",
              "\t<tr><td>2009</td><td>2</td><td>Suicide     </td><td>0</td><td>M</td><td>39</td><td>White                         </td><td>No</td><td>Home             </td><td>Some college</td></tr>\n",
              "\t<tr><td>2009</td><td>2</td><td>Suicide     </td><td>0</td><td>M</td><td>50</td><td>Asian/Pacific Islander        </td><td>No</td><td>Other specified  </td><td>Unknown     </td></tr>\n",
              "\t<tr><td>2009</td><td>2</td><td>Homicide    </td><td>0</td><td>M</td><td>19</td><td>Native American/Native Alaskan</td><td>No</td><td>Other unspecified</td><td>Less than HS</td></tr>\n",
              "\t<tr><td>2009</td><td>3</td><td>Suicide     </td><td>0</td><td>M</td><td>45</td><td>Native American/Native Alaskan</td><td>No</td><td>Home             </td><td>HS/GED      </td></tr>\n",
              "\t<tr><td>2009</td><td>3</td><td>Undetermined</td><td>0</td><td>M</td><td>22</td><td>Native American/Native Alaskan</td><td>No</td><td>Home             </td><td>HS/GED      </td></tr>\n",
              "\t<tr><td>2009</td><td>1</td><td>Suicide     </td><td>0</td><td>F</td><td>15</td><td>White                         </td><td>No</td><td>Home             </td><td>Less than HS</td></tr>\n",
              "\t<tr><td>2009</td><td>2</td><td>Homicide    </td><td>0</td><td>M</td><td>19</td><td>White                         </td><td>No</td><td>Other unspecified</td><td>Less than HS</td></tr>\n",
              "\t<tr><td>2009</td><td>2</td><td>Suicide     </td><td>0</td><td>M</td><td>36</td><td>White                         </td><td>No</td><td>Home             </td><td>Some college</td></tr>\n",
              "\t<tr><td>2009</td><td>3</td><td>Suicide     </td><td>0</td><td>M</td><td>35</td><td>Native American/Native Alaskan</td><td>No</td><td>Home             </td><td>Less than HS</td></tr>\n",
              "\t<tr><td>2009</td><td>3</td><td>Suicide     </td><td>0</td><td>M</td><td>43</td><td>White                         </td><td>No</td><td>Home             </td><td>HS/GED      </td></tr>\n",
              "\t<tr><td>2009</td><td>2</td><td>Suicide     </td><td>0</td><td>M</td><td>69</td><td>White                         </td><td>No</td><td>Home             </td><td>Less than HS</td></tr>\n",
              "\t<tr><td>2009</td><td>1</td><td>Homicide    </td><td>0</td><td>F</td><td>43</td><td>Asian/Pacific Islander        </td><td>No</td><td>Other specified  </td><td>Unknown     </td></tr>\n",
              "\t<tr><td>2009</td><td>3</td><td>Suicide     </td><td>0</td><td>M</td><td>66</td><td>White                         </td><td>No</td><td>Home             </td><td>BA+         </td></tr>\n",
              "\t<tr><td>2009</td><td>3</td><td>Suicide     </td><td>0</td><td>M</td><td>27</td><td>White                         </td><td>No</td><td>Home             </td><td>Some college</td></tr>\n",
              "\t<tr><td>2009</td><td>3</td><td>Suicide     </td><td>0</td><td>M</td><td>27</td><td>White                         </td><td>No</td><td>Other specified  </td><td>HS/GED      </td></tr>\n",
              "\t<tr><td>2009</td><td>3</td><td>Suicide     </td><td>0</td><td>M</td><td>27</td><td>White                         </td><td>No</td><td>Other specified  </td><td>Some college</td></tr>\n",
              "\t<tr><td>2009</td><td>3</td><td>Suicide     </td><td>0</td><td>M</td><td>42</td><td>White                         </td><td>No</td><td>Home             </td><td>Less than HS</td></tr>\n",
              "\t<tr><td>2009</td><td>4</td><td>Undetermined</td><td>0</td><td>M</td><td>39</td><td>Native American/Native Alaskan</td><td>No</td><td>Home             </td><td>Some college</td></tr>\n",
              "\t<tr><td>2009</td><td>2</td><td>Suicide     </td><td>0</td><td>M</td><td>23</td><td>Native American/Native Alaskan</td><td>No</td><td>Home             </td><td>Unknown     </td></tr>\n",
              "\t<tr><td>2009</td><td>4</td><td>Suicide     </td><td>0</td><td>M</td><td>65</td><td>White                         </td><td>No</td><td>Home             </td><td>HS/GED      </td></tr>\n",
              "\t<tr><td>2009</td><td>4</td><td>Suicide     </td><td>0</td><td>M</td><td>33</td><td>White                         </td><td>No</td><td>Other specified  </td><td>BA+         </td></tr>\n",
              "\t<tr><td>2009</td><td>5</td><td>Suicide     </td><td>0</td><td>M</td><td>50</td><td>White                         </td><td>No</td><td>Home             </td><td>Some college</td></tr>\n",
              "\t<tr><td>2009</td><td>4</td><td>Suicide     </td><td>0</td><td>M</td><td>21</td><td>Native American/Native Alaskan</td><td>No</td><td>Home             </td><td>Less than HS</td></tr>\n",
              "\t<tr><td>⋮</td><td>⋮</td><td>⋮</td><td>⋮</td><td>⋮</td><td>⋮</td><td>⋮</td><td>⋮</td><td>⋮</td><td>⋮</td></tr>\n",
              "\t<tr><td>2009</td><td>12</td><td>Homicide</td><td>0</td><td>M</td><td>27</td><td>Black                 </td><td>No </td><td>Trade/service area</td><td>Less than HS</td></tr>\n",
              "\t<tr><td>2009</td><td>12</td><td>Homicide</td><td>0</td><td>M</td><td>17</td><td>Black                 </td><td>No </td><td>Street            </td><td>Less than HS</td></tr>\n",
              "\t<tr><td>2009</td><td>12</td><td>Homicide</td><td>0</td><td>F</td><td>30</td><td>Black                 </td><td>No </td><td>Street            </td><td>BA+         </td></tr>\n",
              "\t<tr><td>2009</td><td>12</td><td>Homicide</td><td>0</td><td>M</td><td>30</td><td>White                 </td><td>No </td><td>Home              </td><td>Some college</td></tr>\n",
              "\t<tr><td>2009</td><td>12</td><td>Homicide</td><td>0</td><td>F</td><td>52</td><td>Black                 </td><td>No </td><td>Street            </td><td>Less than HS</td></tr>\n",
              "\t<tr><td>2009</td><td>12</td><td>Homicide</td><td>0</td><td>M</td><td>35</td><td>Black                 </td><td>No </td><td>Home              </td><td>HS/GED      </td></tr>\n",
              "\t<tr><td>2009</td><td>12</td><td>Homicide</td><td>1</td><td>M</td><td>25</td><td>Hispanic              </td><td>Yes</td><td>Other unspecified </td><td>HS/GED      </td></tr>\n",
              "\t<tr><td>2009</td><td>12</td><td>Homicide</td><td>0</td><td>M</td><td>19</td><td>Hispanic              </td><td>Yes</td><td>Street            </td><td>HS/GED      </td></tr>\n",
              "\t<tr><td>2009</td><td>11</td><td>Homicide</td><td>0</td><td>M</td><td>28</td><td>Hispanic              </td><td>Yes</td><td>Street            </td><td>HS/GED      </td></tr>\n",
              "\t<tr><td>2009</td><td>12</td><td>Homicide</td><td>0</td><td>M</td><td>24</td><td>Black                 </td><td>No </td><td>Street            </td><td>HS/GED      </td></tr>\n",
              "\t<tr><td>2009</td><td>12</td><td>Homicide</td><td>0</td><td>M</td><td>22</td><td>Black                 </td><td>No </td><td>Other specified   </td><td>HS/GED      </td></tr>\n",
              "\t<tr><td>2009</td><td>12</td><td>Homicide</td><td>0</td><td>M</td><td>17</td><td>Black                 </td><td>No </td><td>Street            </td><td>Less than HS</td></tr>\n",
              "\t<tr><td>2009</td><td>12</td><td>Homicide</td><td>0</td><td>M</td><td>25</td><td>Black                 </td><td>No </td><td>Other unspecified </td><td>Some college</td></tr>\n",
              "\t<tr><td>2009</td><td>12</td><td>Homicide</td><td>0</td><td>M</td><td>28</td><td>Black                 </td><td>No </td><td>Other specified   </td><td>HS/GED      </td></tr>\n",
              "\t<tr><td>2009</td><td>12</td><td>Homicide</td><td>0</td><td>M</td><td>25</td><td>Hispanic              </td><td>Yes</td><td>Street            </td><td>HS/GED      </td></tr>\n",
              "\t<tr><td>2009</td><td>12</td><td>Homicide</td><td>0</td><td>M</td><td>52</td><td>Hispanic              </td><td>Yes</td><td>Home              </td><td>HS/GED      </td></tr>\n",
              "\t<tr><td>2009</td><td>12</td><td>Homicide</td><td>0</td><td>M</td><td>19</td><td>Black                 </td><td>No </td><td>Street            </td><td>HS/GED      </td></tr>\n",
              "\t<tr><td>2009</td><td>12</td><td>Homicide</td><td>0</td><td>M</td><td>24</td><td>Hispanic              </td><td>Yes</td><td>Home              </td><td>HS/GED      </td></tr>\n",
              "\t<tr><td>2009</td><td>12</td><td>Homicide</td><td>0</td><td>M</td><td>28</td><td>Hispanic              </td><td>Yes</td><td>Street            </td><td>HS/GED      </td></tr>\n",
              "\t<tr><td>2009</td><td>12</td><td>Homicide</td><td>0</td><td>M</td><td>18</td><td>Black                 </td><td>No </td><td>Street            </td><td>Some college</td></tr>\n",
              "\t<tr><td>2009</td><td>12</td><td>Homicide</td><td>0</td><td>M</td><td>26</td><td>Black                 </td><td>No </td><td>Other specified   </td><td>Less than HS</td></tr>\n",
              "\t<tr><td>2009</td><td>12</td><td>Homicide</td><td>0</td><td>M</td><td>42</td><td>Black                 </td><td>No </td><td>Home              </td><td>Some college</td></tr>\n",
              "\t<tr><td>2009</td><td>12</td><td>Suicide </td><td>0</td><td>M</td><td>34</td><td>Black                 </td><td>No </td><td>Home              </td><td>HS/GED      </td></tr>\n",
              "\t<tr><td>2009</td><td>12</td><td>Homicide</td><td>0</td><td>F</td><td>42</td><td>White                 </td><td>No </td><td>Home              </td><td>HS/GED      </td></tr>\n",
              "\t<tr><td>2009</td><td>12</td><td>Homicide</td><td>0</td><td>M</td><td>25</td><td>Black                 </td><td>No </td><td>Street            </td><td>Less than HS</td></tr>\n",
              "\t<tr><td>2009</td><td>12</td><td>Homicide</td><td>0</td><td>F</td><td>32</td><td>Black                 </td><td>No </td><td>Home              </td><td>Some college</td></tr>\n",
              "\t<tr><td>2009</td><td>12</td><td>Homicide</td><td>0</td><td>M</td><td>30</td><td>Hispanic              </td><td>Yes</td><td>Trade/service area</td><td>HS/GED      </td></tr>\n",
              "\t<tr><td>2009</td><td>12</td><td>Homicide</td><td>0</td><td>M</td><td>30</td><td>Hispanic              </td><td>Yes</td><td>Other specified   </td><td>Less than HS</td></tr>\n",
              "\t<tr><td>2009</td><td>12</td><td>Suicide </td><td>0</td><td>M</td><td>43</td><td>Asian/Pacific Islander</td><td>No </td><td>Home              </td><td>Less than HS</td></tr>\n",
              "\t<tr><td>2009</td><td>12</td><td>Homicide</td><td>0</td><td>F</td><td>41</td><td>Asian/Pacific Islander</td><td>No </td><td>Home              </td><td>Less than HS</td></tr>\n",
              "</tbody>\n",
              "</table>\n"
            ],
            "text/latex": [
              "A data.frame: 31347 × 10\n",
              "\\begin{tabular}{llllllllll}\n",
              " year & month & intent & police & sex & age & race & hispanic & place & education\\\\\n",
              " <int> & <int> & <chr> & <int> & <chr> & <dbl> & <chr> & <chr> & <chr> & <chr>\\\\\n",
              "\\hline\n",
              "\t 2009 & 1 & Suicide      & 0 & M & 46 & White                          & No & Home              & HS/GED      \\\\\n",
              "\t 2009 & 1 & Suicide      & 0 & M & 33 & Native American/Native Alaskan & No & Home              & HS/GED      \\\\\n",
              "\t 2009 & 2 & Homicide     & 1 & F & 38 & White                          & No & Other unspecified & HS/GED      \\\\\n",
              "\t 2009 & 2 & Suicide      & 0 & F & 35 & Native American/Native Alaskan & No & Home              & Some college\\\\\n",
              "\t 2009 & 2 & Suicide      & 0 & M & 33 & White                          & No & Home              & HS/GED      \\\\\n",
              "\t 2009 & 2 & Suicide      & 0 & M & 22 & Native American/Native Alaskan & No & Other specified   & HS/GED      \\\\\n",
              "\t 2009 & 3 & Homicide     & 0 & M & 15 & Native American/Native Alaskan & No & Home              & Less than HS\\\\\n",
              "\t 2009 & 2 & Suicide      & 0 & M & 39 & White                          & No & Home              & Some college\\\\\n",
              "\t 2009 & 2 & Suicide      & 0 & M & 50 & Asian/Pacific Islander         & No & Other specified   & Unknown     \\\\\n",
              "\t 2009 & 2 & Homicide     & 0 & M & 19 & Native American/Native Alaskan & No & Other unspecified & Less than HS\\\\\n",
              "\t 2009 & 3 & Suicide      & 0 & M & 45 & Native American/Native Alaskan & No & Home              & HS/GED      \\\\\n",
              "\t 2009 & 3 & Undetermined & 0 & M & 22 & Native American/Native Alaskan & No & Home              & HS/GED      \\\\\n",
              "\t 2009 & 1 & Suicide      & 0 & F & 15 & White                          & No & Home              & Less than HS\\\\\n",
              "\t 2009 & 2 & Homicide     & 0 & M & 19 & White                          & No & Other unspecified & Less than HS\\\\\n",
              "\t 2009 & 2 & Suicide      & 0 & M & 36 & White                          & No & Home              & Some college\\\\\n",
              "\t 2009 & 3 & Suicide      & 0 & M & 35 & Native American/Native Alaskan & No & Home              & Less than HS\\\\\n",
              "\t 2009 & 3 & Suicide      & 0 & M & 43 & White                          & No & Home              & HS/GED      \\\\\n",
              "\t 2009 & 2 & Suicide      & 0 & M & 69 & White                          & No & Home              & Less than HS\\\\\n",
              "\t 2009 & 1 & Homicide     & 0 & F & 43 & Asian/Pacific Islander         & No & Other specified   & Unknown     \\\\\n",
              "\t 2009 & 3 & Suicide      & 0 & M & 66 & White                          & No & Home              & BA+         \\\\\n",
              "\t 2009 & 3 & Suicide      & 0 & M & 27 & White                          & No & Home              & Some college\\\\\n",
              "\t 2009 & 3 & Suicide      & 0 & M & 27 & White                          & No & Other specified   & HS/GED      \\\\\n",
              "\t 2009 & 3 & Suicide      & 0 & M & 27 & White                          & No & Other specified   & Some college\\\\\n",
              "\t 2009 & 3 & Suicide      & 0 & M & 42 & White                          & No & Home              & Less than HS\\\\\n",
              "\t 2009 & 4 & Undetermined & 0 & M & 39 & Native American/Native Alaskan & No & Home              & Some college\\\\\n",
              "\t 2009 & 2 & Suicide      & 0 & M & 23 & Native American/Native Alaskan & No & Home              & Unknown     \\\\\n",
              "\t 2009 & 4 & Suicide      & 0 & M & 65 & White                          & No & Home              & HS/GED      \\\\\n",
              "\t 2009 & 4 & Suicide      & 0 & M & 33 & White                          & No & Other specified   & BA+         \\\\\n",
              "\t 2009 & 5 & Suicide      & 0 & M & 50 & White                          & No & Home              & Some college\\\\\n",
              "\t 2009 & 4 & Suicide      & 0 & M & 21 & Native American/Native Alaskan & No & Home              & Less than HS\\\\\n",
              "\t ⋮ & ⋮ & ⋮ & ⋮ & ⋮ & ⋮ & ⋮ & ⋮ & ⋮ & ⋮\\\\\n",
              "\t 2009 & 12 & Homicide & 0 & M & 27 & Black                  & No  & Trade/service area & Less than HS\\\\\n",
              "\t 2009 & 12 & Homicide & 0 & M & 17 & Black                  & No  & Street             & Less than HS\\\\\n",
              "\t 2009 & 12 & Homicide & 0 & F & 30 & Black                  & No  & Street             & BA+         \\\\\n",
              "\t 2009 & 12 & Homicide & 0 & M & 30 & White                  & No  & Home               & Some college\\\\\n",
              "\t 2009 & 12 & Homicide & 0 & F & 52 & Black                  & No  & Street             & Less than HS\\\\\n",
              "\t 2009 & 12 & Homicide & 0 & M & 35 & Black                  & No  & Home               & HS/GED      \\\\\n",
              "\t 2009 & 12 & Homicide & 1 & M & 25 & Hispanic               & Yes & Other unspecified  & HS/GED      \\\\\n",
              "\t 2009 & 12 & Homicide & 0 & M & 19 & Hispanic               & Yes & Street             & HS/GED      \\\\\n",
              "\t 2009 & 11 & Homicide & 0 & M & 28 & Hispanic               & Yes & Street             & HS/GED      \\\\\n",
              "\t 2009 & 12 & Homicide & 0 & M & 24 & Black                  & No  & Street             & HS/GED      \\\\\n",
              "\t 2009 & 12 & Homicide & 0 & M & 22 & Black                  & No  & Other specified    & HS/GED      \\\\\n",
              "\t 2009 & 12 & Homicide & 0 & M & 17 & Black                  & No  & Street             & Less than HS\\\\\n",
              "\t 2009 & 12 & Homicide & 0 & M & 25 & Black                  & No  & Other unspecified  & Some college\\\\\n",
              "\t 2009 & 12 & Homicide & 0 & M & 28 & Black                  & No  & Other specified    & HS/GED      \\\\\n",
              "\t 2009 & 12 & Homicide & 0 & M & 25 & Hispanic               & Yes & Street             & HS/GED      \\\\\n",
              "\t 2009 & 12 & Homicide & 0 & M & 52 & Hispanic               & Yes & Home               & HS/GED      \\\\\n",
              "\t 2009 & 12 & Homicide & 0 & M & 19 & Black                  & No  & Street             & HS/GED      \\\\\n",
              "\t 2009 & 12 & Homicide & 0 & M & 24 & Hispanic               & Yes & Home               & HS/GED      \\\\\n",
              "\t 2009 & 12 & Homicide & 0 & M & 28 & Hispanic               & Yes & Street             & HS/GED      \\\\\n",
              "\t 2009 & 12 & Homicide & 0 & M & 18 & Black                  & No  & Street             & Some college\\\\\n",
              "\t 2009 & 12 & Homicide & 0 & M & 26 & Black                  & No  & Other specified    & Less than HS\\\\\n",
              "\t 2009 & 12 & Homicide & 0 & M & 42 & Black                  & No  & Home               & Some college\\\\\n",
              "\t 2009 & 12 & Suicide  & 0 & M & 34 & Black                  & No  & Home               & HS/GED      \\\\\n",
              "\t 2009 & 12 & Homicide & 0 & F & 42 & White                  & No  & Home               & HS/GED      \\\\\n",
              "\t 2009 & 12 & Homicide & 0 & M & 25 & Black                  & No  & Street             & Less than HS\\\\\n",
              "\t 2009 & 12 & Homicide & 0 & F & 32 & Black                  & No  & Home               & Some college\\\\\n",
              "\t 2009 & 12 & Homicide & 0 & M & 30 & Hispanic               & Yes & Trade/service area & HS/GED      \\\\\n",
              "\t 2009 & 12 & Homicide & 0 & M & 30 & Hispanic               & Yes & Other specified    & Less than HS\\\\\n",
              "\t 2009 & 12 & Suicide  & 0 & M & 43 & Asian/Pacific Islander & No  & Home               & Less than HS\\\\\n",
              "\t 2009 & 12 & Homicide & 0 & F & 41 & Asian/Pacific Islander & No  & Home               & Less than HS\\\\\n",
              "\\end{tabular}\n"
            ],
            "text/markdown": [
              "\n",
              "A data.frame: 31347 × 10\n",
              "\n",
              "| year &lt;int&gt; | month &lt;int&gt; | intent &lt;chr&gt; | police &lt;int&gt; | sex &lt;chr&gt; | age &lt;dbl&gt; | race &lt;chr&gt; | hispanic &lt;chr&gt; | place &lt;chr&gt; | education &lt;chr&gt; |\n",
              "|---|---|---|---|---|---|---|---|---|---|\n",
              "| 2009 | 1 | Suicide      | 0 | M | 46 | White                          | No | Home              | HS/GED       |\n",
              "| 2009 | 1 | Suicide      | 0 | M | 33 | Native American/Native Alaskan | No | Home              | HS/GED       |\n",
              "| 2009 | 2 | Homicide     | 1 | F | 38 | White                          | No | Other unspecified | HS/GED       |\n",
              "| 2009 | 2 | Suicide      | 0 | F | 35 | Native American/Native Alaskan | No | Home              | Some college |\n",
              "| 2009 | 2 | Suicide      | 0 | M | 33 | White                          | No | Home              | HS/GED       |\n",
              "| 2009 | 2 | Suicide      | 0 | M | 22 | Native American/Native Alaskan | No | Other specified   | HS/GED       |\n",
              "| 2009 | 3 | Homicide     | 0 | M | 15 | Native American/Native Alaskan | No | Home              | Less than HS |\n",
              "| 2009 | 2 | Suicide      | 0 | M | 39 | White                          | No | Home              | Some college |\n",
              "| 2009 | 2 | Suicide      | 0 | M | 50 | Asian/Pacific Islander         | No | Other specified   | Unknown      |\n",
              "| 2009 | 2 | Homicide     | 0 | M | 19 | Native American/Native Alaskan | No | Other unspecified | Less than HS |\n",
              "| 2009 | 3 | Suicide      | 0 | M | 45 | Native American/Native Alaskan | No | Home              | HS/GED       |\n",
              "| 2009 | 3 | Undetermined | 0 | M | 22 | Native American/Native Alaskan | No | Home              | HS/GED       |\n",
              "| 2009 | 1 | Suicide      | 0 | F | 15 | White                          | No | Home              | Less than HS |\n",
              "| 2009 | 2 | Homicide     | 0 | M | 19 | White                          | No | Other unspecified | Less than HS |\n",
              "| 2009 | 2 | Suicide      | 0 | M | 36 | White                          | No | Home              | Some college |\n",
              "| 2009 | 3 | Suicide      | 0 | M | 35 | Native American/Native Alaskan | No | Home              | Less than HS |\n",
              "| 2009 | 3 | Suicide      | 0 | M | 43 | White                          | No | Home              | HS/GED       |\n",
              "| 2009 | 2 | Suicide      | 0 | M | 69 | White                          | No | Home              | Less than HS |\n",
              "| 2009 | 1 | Homicide     | 0 | F | 43 | Asian/Pacific Islander         | No | Other specified   | Unknown      |\n",
              "| 2009 | 3 | Suicide      | 0 | M | 66 | White                          | No | Home              | BA+          |\n",
              "| 2009 | 3 | Suicide      | 0 | M | 27 | White                          | No | Home              | Some college |\n",
              "| 2009 | 3 | Suicide      | 0 | M | 27 | White                          | No | Other specified   | HS/GED       |\n",
              "| 2009 | 3 | Suicide      | 0 | M | 27 | White                          | No | Other specified   | Some college |\n",
              "| 2009 | 3 | Suicide      | 0 | M | 42 | White                          | No | Home              | Less than HS |\n",
              "| 2009 | 4 | Undetermined | 0 | M | 39 | Native American/Native Alaskan | No | Home              | Some college |\n",
              "| 2009 | 2 | Suicide      | 0 | M | 23 | Native American/Native Alaskan | No | Home              | Unknown      |\n",
              "| 2009 | 4 | Suicide      | 0 | M | 65 | White                          | No | Home              | HS/GED       |\n",
              "| 2009 | 4 | Suicide      | 0 | M | 33 | White                          | No | Other specified   | BA+          |\n",
              "| 2009 | 5 | Suicide      | 0 | M | 50 | White                          | No | Home              | Some college |\n",
              "| 2009 | 4 | Suicide      | 0 | M | 21 | Native American/Native Alaskan | No | Home              | Less than HS |\n",
              "| ⋮ | ⋮ | ⋮ | ⋮ | ⋮ | ⋮ | ⋮ | ⋮ | ⋮ | ⋮ |\n",
              "| 2009 | 12 | Homicide | 0 | M | 27 | Black                  | No  | Trade/service area | Less than HS |\n",
              "| 2009 | 12 | Homicide | 0 | M | 17 | Black                  | No  | Street             | Less than HS |\n",
              "| 2009 | 12 | Homicide | 0 | F | 30 | Black                  | No  | Street             | BA+          |\n",
              "| 2009 | 12 | Homicide | 0 | M | 30 | White                  | No  | Home               | Some college |\n",
              "| 2009 | 12 | Homicide | 0 | F | 52 | Black                  | No  | Street             | Less than HS |\n",
              "| 2009 | 12 | Homicide | 0 | M | 35 | Black                  | No  | Home               | HS/GED       |\n",
              "| 2009 | 12 | Homicide | 1 | M | 25 | Hispanic               | Yes | Other unspecified  | HS/GED       |\n",
              "| 2009 | 12 | Homicide | 0 | M | 19 | Hispanic               | Yes | Street             | HS/GED       |\n",
              "| 2009 | 11 | Homicide | 0 | M | 28 | Hispanic               | Yes | Street             | HS/GED       |\n",
              "| 2009 | 12 | Homicide | 0 | M | 24 | Black                  | No  | Street             | HS/GED       |\n",
              "| 2009 | 12 | Homicide | 0 | M | 22 | Black                  | No  | Other specified    | HS/GED       |\n",
              "| 2009 | 12 | Homicide | 0 | M | 17 | Black                  | No  | Street             | Less than HS |\n",
              "| 2009 | 12 | Homicide | 0 | M | 25 | Black                  | No  | Other unspecified  | Some college |\n",
              "| 2009 | 12 | Homicide | 0 | M | 28 | Black                  | No  | Other specified    | HS/GED       |\n",
              "| 2009 | 12 | Homicide | 0 | M | 25 | Hispanic               | Yes | Street             | HS/GED       |\n",
              "| 2009 | 12 | Homicide | 0 | M | 52 | Hispanic               | Yes | Home               | HS/GED       |\n",
              "| 2009 | 12 | Homicide | 0 | M | 19 | Black                  | No  | Street             | HS/GED       |\n",
              "| 2009 | 12 | Homicide | 0 | M | 24 | Hispanic               | Yes | Home               | HS/GED       |\n",
              "| 2009 | 12 | Homicide | 0 | M | 28 | Hispanic               | Yes | Street             | HS/GED       |\n",
              "| 2009 | 12 | Homicide | 0 | M | 18 | Black                  | No  | Street             | Some college |\n",
              "| 2009 | 12 | Homicide | 0 | M | 26 | Black                  | No  | Other specified    | Less than HS |\n",
              "| 2009 | 12 | Homicide | 0 | M | 42 | Black                  | No  | Home               | Some college |\n",
              "| 2009 | 12 | Suicide  | 0 | M | 34 | Black                  | No  | Home               | HS/GED       |\n",
              "| 2009 | 12 | Homicide | 0 | F | 42 | White                  | No  | Home               | HS/GED       |\n",
              "| 2009 | 12 | Homicide | 0 | M | 25 | Black                  | No  | Street             | Less than HS |\n",
              "| 2009 | 12 | Homicide | 0 | F | 32 | Black                  | No  | Home               | Some college |\n",
              "| 2009 | 12 | Homicide | 0 | M | 30 | Hispanic               | Yes | Trade/service area | HS/GED       |\n",
              "| 2009 | 12 | Homicide | 0 | M | 30 | Hispanic               | Yes | Other specified    | Less than HS |\n",
              "| 2009 | 12 | Suicide  | 0 | M | 43 | Asian/Pacific Islander | No  | Home               | Less than HS |\n",
              "| 2009 | 12 | Homicide | 0 | F | 41 | Asian/Pacific Islander | No  | Home               | Less than HS |\n",
              "\n"
            ],
            "text/plain": [
              "      year month intent       police sex age race                          \n",
              "1     2009 1     Suicide      0      M   46  White                         \n",
              "2     2009 1     Suicide      0      M   33  Native American/Native Alaskan\n",
              "3     2009 2     Homicide     1      F   38  White                         \n",
              "4     2009 2     Suicide      0      F   35  Native American/Native Alaskan\n",
              "5     2009 2     Suicide      0      M   33  White                         \n",
              "6     2009 2     Suicide      0      M   22  Native American/Native Alaskan\n",
              "7     2009 3     Homicide     0      M   15  Native American/Native Alaskan\n",
              "8     2009 2     Suicide      0      M   39  White                         \n",
              "9     2009 2     Suicide      0      M   50  Asian/Pacific Islander        \n",
              "10    2009 2     Homicide     0      M   19  Native American/Native Alaskan\n",
              "11    2009 3     Suicide      0      M   45  Native American/Native Alaskan\n",
              "12    2009 3     Undetermined 0      M   22  Native American/Native Alaskan\n",
              "13    2009 1     Suicide      0      F   15  White                         \n",
              "14    2009 2     Homicide     0      M   19  White                         \n",
              "15    2009 2     Suicide      0      M   36  White                         \n",
              "16    2009 3     Suicide      0      M   35  Native American/Native Alaskan\n",
              "17    2009 3     Suicide      0      M   43  White                         \n",
              "18    2009 2     Suicide      0      M   69  White                         \n",
              "19    2009 1     Homicide     0      F   43  Asian/Pacific Islander        \n",
              "20    2009 3     Suicide      0      M   66  White                         \n",
              "21    2009 3     Suicide      0      M   27  White                         \n",
              "22    2009 3     Suicide      0      M   27  White                         \n",
              "23    2009 3     Suicide      0      M   27  White                         \n",
              "24    2009 3     Suicide      0      M   42  White                         \n",
              "25    2009 4     Undetermined 0      M   39  Native American/Native Alaskan\n",
              "26    2009 2     Suicide      0      M   23  Native American/Native Alaskan\n",
              "27    2009 4     Suicide      0      M   65  White                         \n",
              "28    2009 4     Suicide      0      M   33  White                         \n",
              "29    2009 5     Suicide      0      M   50  White                         \n",
              "30    2009 4     Suicide      0      M   21  Native American/Native Alaskan\n",
              "⋮     ⋮    ⋮     ⋮            ⋮      ⋮   ⋮   ⋮                             \n",
              "31318 2009 12    Homicide     0      M   27  Black                         \n",
              "31319 2009 12    Homicide     0      M   17  Black                         \n",
              "31320 2009 12    Homicide     0      F   30  Black                         \n",
              "31321 2009 12    Homicide     0      M   30  White                         \n",
              "31322 2009 12    Homicide     0      F   52  Black                         \n",
              "31323 2009 12    Homicide     0      M   35  Black                         \n",
              "31324 2009 12    Homicide     1      M   25  Hispanic                      \n",
              "31325 2009 12    Homicide     0      M   19  Hispanic                      \n",
              "31326 2009 11    Homicide     0      M   28  Hispanic                      \n",
              "31327 2009 12    Homicide     0      M   24  Black                         \n",
              "31328 2009 12    Homicide     0      M   22  Black                         \n",
              "31329 2009 12    Homicide     0      M   17  Black                         \n",
              "31330 2009 12    Homicide     0      M   25  Black                         \n",
              "31331 2009 12    Homicide     0      M   28  Black                         \n",
              "31332 2009 12    Homicide     0      M   25  Hispanic                      \n",
              "31333 2009 12    Homicide     0      M   52  Hispanic                      \n",
              "31334 2009 12    Homicide     0      M   19  Black                         \n",
              "31335 2009 12    Homicide     0      M   24  Hispanic                      \n",
              "31336 2009 12    Homicide     0      M   28  Hispanic                      \n",
              "31337 2009 12    Homicide     0      M   18  Black                         \n",
              "31338 2009 12    Homicide     0      M   26  Black                         \n",
              "31339 2009 12    Homicide     0      M   42  Black                         \n",
              "31340 2009 12    Suicide      0      M   34  Black                         \n",
              "31341 2009 12    Homicide     0      F   42  White                         \n",
              "31342 2009 12    Homicide     0      M   25  Black                         \n",
              "31343 2009 12    Homicide     0      F   32  Black                         \n",
              "31344 2009 12    Homicide     0      M   30  Hispanic                      \n",
              "31345 2009 12    Homicide     0      M   30  Hispanic                      \n",
              "31346 2009 12    Suicide      0      M   43  Asian/Pacific Islander        \n",
              "31347 2009 12    Homicide     0      F   41  Asian/Pacific Islander        \n",
              "      hispanic place              education   \n",
              "1     No       Home               HS/GED      \n",
              "2     No       Home               HS/GED      \n",
              "3     No       Other unspecified  HS/GED      \n",
              "4     No       Home               Some college\n",
              "5     No       Home               HS/GED      \n",
              "6     No       Other specified    HS/GED      \n",
              "7     No       Home               Less than HS\n",
              "8     No       Home               Some college\n",
              "9     No       Other specified    Unknown     \n",
              "10    No       Other unspecified  Less than HS\n",
              "11    No       Home               HS/GED      \n",
              "12    No       Home               HS/GED      \n",
              "13    No       Home               Less than HS\n",
              "14    No       Other unspecified  Less than HS\n",
              "15    No       Home               Some college\n",
              "16    No       Home               Less than HS\n",
              "17    No       Home               HS/GED      \n",
              "18    No       Home               Less than HS\n",
              "19    No       Other specified    Unknown     \n",
              "20    No       Home               BA+         \n",
              "21    No       Home               Some college\n",
              "22    No       Other specified    HS/GED      \n",
              "23    No       Other specified    Some college\n",
              "24    No       Home               Less than HS\n",
              "25    No       Home               Some college\n",
              "26    No       Home               Unknown     \n",
              "27    No       Home               HS/GED      \n",
              "28    No       Other specified    BA+         \n",
              "29    No       Home               Some college\n",
              "30    No       Home               Less than HS\n",
              "⋮     ⋮        ⋮                  ⋮           \n",
              "31318 No       Trade/service area Less than HS\n",
              "31319 No       Street             Less than HS\n",
              "31320 No       Street             BA+         \n",
              "31321 No       Home               Some college\n",
              "31322 No       Street             Less than HS\n",
              "31323 No       Home               HS/GED      \n",
              "31324 Yes      Other unspecified  HS/GED      \n",
              "31325 Yes      Street             HS/GED      \n",
              "31326 Yes      Street             HS/GED      \n",
              "31327 No       Street             HS/GED      \n",
              "31328 No       Other specified    HS/GED      \n",
              "31329 No       Street             Less than HS\n",
              "31330 No       Other unspecified  Some college\n",
              "31331 No       Other specified    HS/GED      \n",
              "31332 Yes      Street             HS/GED      \n",
              "31333 Yes      Home               HS/GED      \n",
              "31334 No       Street             HS/GED      \n",
              "31335 Yes      Home               HS/GED      \n",
              "31336 Yes      Street             HS/GED      \n",
              "31337 No       Street             Some college\n",
              "31338 No       Other specified    Less than HS\n",
              "31339 No       Home               Some college\n",
              "31340 No       Home               HS/GED      \n",
              "31341 No       Home               HS/GED      \n",
              "31342 No       Street             Less than HS\n",
              "31343 No       Home               Some college\n",
              "31344 Yes      Trade/service area HS/GED      \n",
              "31345 Yes      Other specified    Less than HS\n",
              "31346 No       Home               Less than HS\n",
              "31347 No       Home               Less than HS"
            ]
          },
          "metadata": {},
          "output_type": "display_data"
        }
      ],
      "source": [
        "gunDeathsData_2009 <- read.csv(\"/content/guns_2009.csv\", header = TRUE, sep = \",\")\n",
        "View(gunDeathsData_2009)"
      ]
    },
    {
      "cell_type": "code",
      "execution_count": 18,
      "metadata": {
        "colab": {
          "base_uri": "https://localhost:8080/",
          "height": 34
        },
        "id": "ehS1kJbVdfeG",
        "outputId": "24dbce1a-7a7d-428d-de0f-91572e791f3c",
        "vscode": {
          "languageId": "r"
        }
      },
      "outputs": [
        {
          "data": {
            "text/html": [
              "0"
            ],
            "text/latex": [
              "0"
            ],
            "text/markdown": [
              "0"
            ],
            "text/plain": [
              "[1] 0"
            ]
          },
          "metadata": {},
          "output_type": "display_data"
        }
      ],
      "source": [
        "# Any null data?\n",
        "sum(is.na(gunDeathsData_2009))"
      ]
    },
    {
      "cell_type": "code",
      "execution_count": null,
      "metadata": {
        "colab": {
          "base_uri": "https://localhost:8080/",
          "height": 86
        },
        "id": "v410uFaddjAT",
        "outputId": "ea29121c-137b-4baf-e5ac-a157ebdc2fad",
        "vscode": {
          "languageId": "r"
        }
      },
      "outputs": [
        {
          "name": "stdout",
          "output_type": "stream",
          "text": [
            "[1] \"Mean values for each numeric column:\"\n",
            "[1] \"Mean Age: \"\n"
          ]
        },
        {
          "data": {
            "text/html": [
              "42.8432623887173"
            ],
            "text/latex": [
              "42.8432623887173"
            ],
            "text/markdown": [
              "42.8432623887173"
            ],
            "text/plain": [
              "[1] 42.84326"
            ]
          },
          "metadata": {},
          "output_type": "display_data"
        },
        {
          "name": "stdout",
          "output_type": "stream",
          "text": [
            "[1] \"-----------------------------\"\n"
          ]
        }
      ],
      "source": [
        "# Gun related deaths from 2009\n",
        "# Statistical information\n",
        "\n",
        "# Mean for each numeric column:\n",
        "# Only one numeric column was found: Age\n",
        "print(\"Mean values for each numeric column:\")\n",
        "print(\"Mean Age: \") # 42.843\n",
        "mean(gunDeathsData_2009$age)\n",
        "print(\"-----------------------------\")"
      ]
    },
    {
      "cell_type": "code",
      "execution_count": 21,
      "metadata": {
        "colab": {
          "base_uri": "https://localhost:8080/",
          "height": 52
        },
        "id": "pnFQxD5wdsve",
        "outputId": "be76c68b-d39c-4afc-f217-1f56973ab289",
        "vscode": {
          "languageId": "r"
        }
      },
      "outputs": [
        {
          "name": "stdout",
          "output_type": "stream",
          "text": [
            "[1] \"Median value for the age column:\"\n"
          ]
        },
        {
          "data": {
            "text/html": [
              "41"
            ],
            "text/latex": [
              "41"
            ],
            "text/markdown": [
              "41"
            ],
            "text/plain": [
              "[1] 41"
            ]
          },
          "metadata": {},
          "output_type": "display_data"
        }
      ],
      "source": [
        "# Median Age:\n",
        "print(\"Median value for the age column:\") # 41\n",
        "median(gunDeathsData_2009$age)"
      ]
    },
    {
      "cell_type": "code",
      "execution_count": 22,
      "metadata": {
        "colab": {
          "base_uri": "https://localhost:8080/",
          "height": 52
        },
        "id": "l2Rzv5sydyT5",
        "outputId": "84e02f05-396b-45ee-c4de-e92c9bf02641",
        "vscode": {
          "languageId": "r"
        }
      },
      "outputs": [
        {
          "name": "stdout",
          "output_type": "stream",
          "text": [
            "[1] \"Most occuring value for the age column:\"\n"
          ]
        },
        {
          "data": {
            "text/html": [
              "21"
            ],
            "text/latex": [
              "21"
            ],
            "text/markdown": [
              "21"
            ],
            "text/plain": [
              "[1] 21\n",
              "attr(,\"freq\")\n",
              "[1] 847"
            ]
          },
          "metadata": {},
          "output_type": "display_data"
        }
      ],
      "source": [
        "# Mode Age:\n",
        "print(\"Most occuring value for the age column:\") # 22\n",
        "Mode(gunDeathsData_2009$age)"
      ]
    },
    {
      "cell_type": "code",
      "execution_count": 23,
      "metadata": {
        "colab": {
          "base_uri": "https://localhost:8080/",
          "height": 52
        },
        "id": "hFeJ9l2_d311",
        "outputId": "0c8ba96b-8d4c-4083-b325-a10fb0065829",
        "vscode": {
          "languageId": "r"
        }
      },
      "outputs": [
        {
          "name": "stdout",
          "output_type": "stream",
          "text": [
            "[1] \"Standard Deviation of the age:\"\n"
          ]
        },
        {
          "data": {
            "text/html": [
              "19.1850057435254"
            ],
            "text/latex": [
              "19.1850057435254"
            ],
            "text/markdown": [
              "19.1850057435254"
            ],
            "text/plain": [
              "[1] 19.18501"
            ]
          },
          "metadata": {},
          "output_type": "display_data"
        }
      ],
      "source": [
        "# Standard Deviation Age:\n",
        "print(\"Standard Deviation of the age:\") #19.185 years\n",
        "SD(gunDeathsData_2009$age)"
      ]
    },
    {
      "cell_type": "code",
      "execution_count": 24,
      "metadata": {
        "colab": {
          "base_uri": "https://localhost:8080/",
          "height": 437
        },
        "id": "54L3i-fNeCNy",
        "outputId": "d807648b-a0f5-487b-a5a5-06f66f4d8f1a",
        "vscode": {
          "languageId": "r"
        }
      },
      "outputs": [
        {
          "data": {
            "image/png": "[encoded data removed]",
            "text/plain": [
              "Plot with title “Age of Victims of Gun-related Deaths by Race”"
            ]
          },
          "metadata": {
            "image/png": {
              "height": 420,
              "width": 420
            }
          },
          "output_type": "display_data"
        }
      ],
      "source": [
        "# creating boxplot on age and race:\n",
        "boxplot(gunDeathsData_2009$age ~ gunDeathsData_2009$race, data = gunDeathsData_2009,\n",
        "        main = \"Age of Victims of Gun-related Deaths by Race\",\n",
        "        xlab = \"Race\",\n",
        "        ylab = \"Age\")\n"
      ]
    },
    {
      "cell_type": "code",
      "execution_count": 25,
      "metadata": {
        "colab": {
          "base_uri": "https://localhost:8080/",
          "height": 437
        },
        "id": "MzZ4IT9qequa",
        "outputId": "2b19f8b8-bc05-44f7-a4e0-74fe96adf7e3",
        "vscode": {
          "languageId": "r"
        }
      },
      "outputs": [
        {
          "data": {
            "image/png": "[encoded data removed]",
            "text/plain": [
              "Plot with title “Histogram of gunDeathsData_2009$age”"
            ]
          },
          "metadata": {
            "image/png": {
              "height": 420,
              "width": 420
            }
          },
          "output_type": "display_data"
        }
      ],
      "source": [
        "# Constructing the histogram:\n",
        "\n",
        "hist(gunDeathsData_2009$age, xlab=\"Victims of Gun Violence By Age\", col = \"red\", border = \"black\")"
      ]
    },
    {
      "cell_type": "code",
      "execution_count": 26,
      "metadata": {
        "colab": {
          "base_uri": "https://localhost:8080/",
          "height": 437
        },
        "id": "V4UYhcrUexIc",
        "outputId": "867ac1ac-0637-4c72-8797-5c4238992531",
        "vscode": {
          "languageId": "r"
        }
      },
      "outputs": [
        {
          "data": {
            "image/png": "[encoded data removed]",
            "text/plain": [
              "Plot with title “Age of Victims of Gun-related Deaths by Gender”"
            ]
          },
          "metadata": {
            "image/png": {
              "height": 420,
              "width": 420
            }
          },
          "output_type": "display_data"
        }
      ],
      "source": [
        "# Creating a boxplot on age and gender:\n",
        "boxplot(gunDeathsData_2009$age ~ gunDeathsData_2009$sex, data = gunDeathsData_2009,\n",
        "        main = \"Age of Victims of Gun-related Deaths by Gender\",\n",
        "        xlab = \"Gender\",\n",
        "        ylab = \"Age\")\n"
      ]
    },
    {
      "cell_type": "code",
      "execution_count": 27,
      "metadata": {
        "colab": {
          "base_uri": "https://localhost:8080/",
          "height": 437
        },
        "id": "8-e11k2gfEVJ",
        "outputId": "a3782be6-3de6-43c8-c527-4cca9c2a8313",
        "vscode": {
          "languageId": "r"
        }
      },
      "outputs": [
        {
          "data": {
            "image/png": "[encoded data removed]",
            "text/plain": [
              "Plot with title “Histogram of gunDeathsData_2009$month”"
            ]
          },
          "metadata": {
            "image/png": {
              "height": 420,
              "width": 420
            }
          },
          "output_type": "display_data"
        }
      ],
      "source": [
        "# Constructing the histogram for number of deaths by month:\n",
        "\n",
        "hist(gunDeathsData_2009$month, xlab=\"Total Victims of Gun Violence By Month\", col = \"blue\", border = \"black\")"
      ]
    },
    {
      "cell_type": "code",
      "execution_count": 28,
      "metadata": {
        "colab": {
          "base_uri": "https://localhost:8080/",
          "height": 437
        },
        "id": "tzuIMbLMfRPP",
        "outputId": "8dd5be36-8a5c-4f86-aa70-29799b8e1fb1",
        "vscode": {
          "languageId": "r"
        }
      },
      "outputs": [
        {
          "data": {
            "image/png": "[encoded data removed]",
            "text/plain": [
              "Plot with title “Age of victims of Gun-related Deaths by Intent”"
            ]
          },
          "metadata": {
            "image/png": {
              "height": 420,
              "width": 420
            }
          },
          "output_type": "display_data"
        }
      ],
      "source": [
        "# Creating a boxplot on age and intentions behind the gun:\n",
        "boxplot(gunDeathsData_2009$age ~ gunDeathsData_2009$intent, data = gunDeathsData_2009,\n",
        "  main = \"Age of victims of Gun-related Deaths by Intent\",\n",
        "  xlab = \"Intentions With the Gun\",\n",
        "  ylab = \"Age\")\n",
        "\n",
        "# Homicides have the most outliers"
      ]
    },
    {
      "cell_type": "code",
      "execution_count": 29,
      "metadata": {
        "colab": {
          "base_uri": "https://localhost:8080/",
          "height": 255
        },
        "id": "6L3WaH2cgFI_",
        "outputId": "e687f36b-2d8b-45bb-fab9-1107419ef36b",
        "vscode": {
          "languageId": "r"
        }
      },
      "outputs": [
        {
          "data": {
            "text/html": [
              "<table class=\"dataframe\">\n",
              "<caption>A data.frame: 5 × 2</caption>\n",
              "<thead>\n",
              "\t<tr><th scope=col>gunDeathsData_2009$race</th><th scope=col>n</th></tr>\n",
              "\t<tr><th scope=col>&lt;chr&gt;</th><th scope=col>&lt;int&gt;</th></tr>\n",
              "</thead>\n",
              "<tbody>\n",
              "\t<tr><td>Asian/Pacific Islander        </td><td>  419</td></tr>\n",
              "\t<tr><td>Black                         </td><td> 7388</td></tr>\n",
              "\t<tr><td>Hispanic                      </td><td> 3202</td></tr>\n",
              "\t<tr><td>Native American/Native Alaskan</td><td>  268</td></tr>\n",
              "\t<tr><td>White                         </td><td>20070</td></tr>\n",
              "</tbody>\n",
              "</table>\n"
            ],
            "text/latex": [
              "A data.frame: 5 × 2\n",
              "\\begin{tabular}{ll}\n",
              " gunDeathsData\\_2009\\$race & n\\\\\n",
              " <chr> & <int>\\\\\n",
              "\\hline\n",
              "\t Asian/Pacific Islander         &   419\\\\\n",
              "\t Black                          &  7388\\\\\n",
              "\t Hispanic                       &  3202\\\\\n",
              "\t Native American/Native Alaskan &   268\\\\\n",
              "\t White                          & 20070\\\\\n",
              "\\end{tabular}\n"
            ],
            "text/markdown": [
              "\n",
              "A data.frame: 5 × 2\n",
              "\n",
              "| gunDeathsData_2009$race &lt;chr&gt; | n &lt;int&gt; |\n",
              "|---|---|\n",
              "| Asian/Pacific Islander         |   419 |\n",
              "| Black                          |  7388 |\n",
              "| Hispanic                       |  3202 |\n",
              "| Native American/Native Alaskan |   268 |\n",
              "| White                          | 20070 |\n",
              "\n"
            ],
            "text/plain": [
              "  gunDeathsData_2009$race        n    \n",
              "1 Asian/Pacific Islander           419\n",
              "2 Black                           7388\n",
              "3 Hispanic                        3202\n",
              "4 Native American/Native Alaskan   268\n",
              "5 White                          20070"
            ]
          },
          "metadata": {},
          "output_type": "display_data"
        }
      ],
      "source": [
        "gunDeathsData_2009 %>%\n",
        "  count(gunDeathsData_2009$race)"
      ]
    },
    {
      "cell_type": "code",
      "execution_count": 30,
      "metadata": {
        "colab": {
          "base_uri": "https://localhost:8080/",
          "height": 161
        },
        "id": "oGuhoRt2gJt9",
        "outputId": "fcc1291c-5464-49fc-a97e-b53b96e63236",
        "vscode": {
          "languageId": "r"
        }
      },
      "outputs": [
        {
          "data": {
            "text/html": [
              "<table class=\"dataframe\">\n",
              "<caption>A data.frame: 2 × 2</caption>\n",
              "<thead>\n",
              "\t<tr><th scope=col>gunDeathsData_2009$sex</th><th scope=col>n</th></tr>\n",
              "\t<tr><th scope=col>&lt;chr&gt;</th><th scope=col>&lt;int&gt;</th></tr>\n",
              "</thead>\n",
              "<tbody>\n",
              "\t<tr><td>F</td><td> 4426</td></tr>\n",
              "\t<tr><td>M</td><td>26921</td></tr>\n",
              "</tbody>\n",
              "</table>\n"
            ],
            "text/latex": [
              "A data.frame: 2 × 2\n",
              "\\begin{tabular}{ll}\n",
              " gunDeathsData\\_2009\\$sex & n\\\\\n",
              " <chr> & <int>\\\\\n",
              "\\hline\n",
              "\t F &  4426\\\\\n",
              "\t M & 26921\\\\\n",
              "\\end{tabular}\n"
            ],
            "text/markdown": [
              "\n",
              "A data.frame: 2 × 2\n",
              "\n",
              "| gunDeathsData_2009$sex &lt;chr&gt; | n &lt;int&gt; |\n",
              "|---|---|\n",
              "| F |  4426 |\n",
              "| M | 26921 |\n",
              "\n"
            ],
            "text/plain": [
              "  gunDeathsData_2009$sex n    \n",
              "1 F                       4426\n",
              "2 M                      26921"
            ]
          },
          "metadata": {},
          "output_type": "display_data"
        }
      ],
      "source": [
        "gunDeathsData_2009 %>%\n",
        "  count(gunDeathsData_2009$sex)"
      ]
    },
    {
      "cell_type": "code",
      "execution_count": 31,
      "metadata": {
        "colab": {
          "base_uri": "https://localhost:8080/",
          "height": 223
        },
        "id": "ecOXrRPegYUu",
        "outputId": "5b5f9a57-2c68-49b6-a977-4735c2c5223b",
        "vscode": {
          "languageId": "r"
        }
      },
      "outputs": [
        {
          "data": {
            "text/html": [
              "<table class=\"dataframe\">\n",
              "<caption>A data.frame: 4 × 2</caption>\n",
              "<thead>\n",
              "\t<tr><th scope=col>gunDeathsData_2009$intent</th><th scope=col>n</th></tr>\n",
              "\t<tr><th scope=col>&lt;chr&gt;</th><th scope=col>&lt;int&gt;</th></tr>\n",
              "</thead>\n",
              "<tbody>\n",
              "\t<tr><td>Accidental  </td><td>  554</td></tr>\n",
              "\t<tr><td>Homicide    </td><td>11826</td></tr>\n",
              "\t<tr><td>Suicide     </td><td>18735</td></tr>\n",
              "\t<tr><td>Undetermined</td><td>  232</td></tr>\n",
              "</tbody>\n",
              "</table>\n"
            ],
            "text/latex": [
              "A data.frame: 4 × 2\n",
              "\\begin{tabular}{ll}\n",
              " gunDeathsData\\_2009\\$intent & n\\\\\n",
              " <chr> & <int>\\\\\n",
              "\\hline\n",
              "\t Accidental   &   554\\\\\n",
              "\t Homicide     & 11826\\\\\n",
              "\t Suicide      & 18735\\\\\n",
              "\t Undetermined &   232\\\\\n",
              "\\end{tabular}\n"
            ],
            "text/markdown": [
              "\n",
              "A data.frame: 4 × 2\n",
              "\n",
              "| gunDeathsData_2009$intent &lt;chr&gt; | n &lt;int&gt; |\n",
              "|---|---|\n",
              "| Accidental   |   554 |\n",
              "| Homicide     | 11826 |\n",
              "| Suicide      | 18735 |\n",
              "| Undetermined |   232 |\n",
              "\n"
            ],
            "text/plain": [
              "  gunDeathsData_2009$intent n    \n",
              "1 Accidental                  554\n",
              "2 Homicide                  11826\n",
              "3 Suicide                   18735\n",
              "4 Undetermined                232"
            ]
          },
          "metadata": {},
          "output_type": "display_data"
        }
      ],
      "source": [
        "gunDeathsData_2009 %>%\n",
        "  count(gunDeathsData_2009$intent)"
      ]
    },
    {
      "cell_type": "code",
      "execution_count": 32,
      "metadata": {
        "colab": {
          "base_uri": "https://localhost:8080/",
          "height": 474
        },
        "id": "TN8De8Pngd-_",
        "outputId": "ae29ba07-ca32-4a50-bb16-8de807855b4d",
        "vscode": {
          "languageId": "r"
        }
      },
      "outputs": [
        {
          "data": {
            "text/html": [
              "<table class=\"dataframe\">\n",
              "<caption>A data.frame: 12 × 2</caption>\n",
              "<thead>\n",
              "\t<tr><th scope=col>gunDeathsData_2009$month</th><th scope=col>n</th></tr>\n",
              "\t<tr><th scope=col>&lt;int&gt;</th><th scope=col>&lt;int&gt;</th></tr>\n",
              "</thead>\n",
              "<tbody>\n",
              "\t<tr><td> 1</td><td>2606</td></tr>\n",
              "\t<tr><td> 2</td><td>2216</td></tr>\n",
              "\t<tr><td> 3</td><td>2513</td></tr>\n",
              "\t<tr><td> 4</td><td>2607</td></tr>\n",
              "\t<tr><td> 5</td><td>2772</td></tr>\n",
              "\t<tr><td> 6</td><td>2692</td></tr>\n",
              "\t<tr><td> 7</td><td>2895</td></tr>\n",
              "\t<tr><td> 8</td><td>2795</td></tr>\n",
              "\t<tr><td> 9</td><td>2643</td></tr>\n",
              "\t<tr><td>10</td><td>2655</td></tr>\n",
              "\t<tr><td>11</td><td>2498</td></tr>\n",
              "\t<tr><td>12</td><td>2455</td></tr>\n",
              "</tbody>\n",
              "</table>\n"
            ],
            "text/latex": [
              "A data.frame: 12 × 2\n",
              "\\begin{tabular}{ll}\n",
              " gunDeathsData\\_2009\\$month & n\\\\\n",
              " <int> & <int>\\\\\n",
              "\\hline\n",
              "\t  1 & 2606\\\\\n",
              "\t  2 & 2216\\\\\n",
              "\t  3 & 2513\\\\\n",
              "\t  4 & 2607\\\\\n",
              "\t  5 & 2772\\\\\n",
              "\t  6 & 2692\\\\\n",
              "\t  7 & 2895\\\\\n",
              "\t  8 & 2795\\\\\n",
              "\t  9 & 2643\\\\\n",
              "\t 10 & 2655\\\\\n",
              "\t 11 & 2498\\\\\n",
              "\t 12 & 2455\\\\\n",
              "\\end{tabular}\n"
            ],
            "text/markdown": [
              "\n",
              "A data.frame: 12 × 2\n",
              "\n",
              "| gunDeathsData_2009$month &lt;int&gt; | n &lt;int&gt; |\n",
              "|---|---|\n",
              "|  1 | 2606 |\n",
              "|  2 | 2216 |\n",
              "|  3 | 2513 |\n",
              "|  4 | 2607 |\n",
              "|  5 | 2772 |\n",
              "|  6 | 2692 |\n",
              "|  7 | 2895 |\n",
              "|  8 | 2795 |\n",
              "|  9 | 2643 |\n",
              "| 10 | 2655 |\n",
              "| 11 | 2498 |\n",
              "| 12 | 2455 |\n",
              "\n"
            ],
            "text/plain": [
              "   gunDeathsData_2009$month n   \n",
              "1   1                       2606\n",
              "2   2                       2216\n",
              "3   3                       2513\n",
              "4   4                       2607\n",
              "5   5                       2772\n",
              "6   6                       2692\n",
              "7   7                       2895\n",
              "8   8                       2795\n",
              "9   9                       2643\n",
              "10 10                       2655\n",
              "11 11                       2498\n",
              "12 12                       2455"
            ]
          },
          "metadata": {},
          "output_type": "display_data"
        }
      ],
      "source": [
        "gunDeathsData_2009 %>%\n",
        "  count(gunDeathsData_2009$month)"
      ]
    },
    {
      "cell_type": "code",
      "execution_count": null,
      "metadata": {
        "colab": {
          "base_uri": "https://localhost:8080/",
          "height": 34
        },
        "id": "hrt7TawcglXT",
        "outputId": "1aec7dc2-f65b-4a60-aa45-1b105df848d4",
        "vscode": {
          "languageId": "r"
        }
      },
      "outputs": [
        {
          "data": {
            "text/html": [
              "TRUE"
            ],
            "text/latex": [
              "TRUE"
            ],
            "text/markdown": [
              "TRUE"
            ],
            "text/plain": [
              "[1] TRUE"
            ]
          },
          "metadata": {},
          "output_type": "display_data"
        }
      ],
      "source": [
        "# Making the markdown file:\n",
        "file.create(\"CaseStudy_GunDeaths_2009.Rmd\")"
      ]
    }
  ],
  "metadata": {
    "colab": {
      "provenance": []
    },
    "kernelspec": {
      "display_name": "R",
      "name": "ir"
    },
    "language_info": {
      "name": "R"
    }
  },
  "nbformat": 4,
  "nbformat_minor": 0
}
