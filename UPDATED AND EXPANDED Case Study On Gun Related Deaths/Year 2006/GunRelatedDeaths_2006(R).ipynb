{
  "cells": [
    {
      "cell_type": "code",
      "execution_count": 1,
      "metadata": {
        "colab": {
          "base_uri": "https://localhost:8080/"
        },
        "id": "8erXwBuPbX4I",
        "outputId": "0887002d-6253-4b5d-b3ee-7d5067118a4d",
        "vscode": {
          "languageId": "r"
        }
      },
      "outputs": [
        {
          "name": "stderr",
          "output_type": "stream",
          "text": [
            "Installing package into ‘/usr/local/lib/R/site-library’\n",
            "(as ‘lib’ is unspecified)\n",
            "\n",
            "Installing package into ‘/usr/local/lib/R/site-library’\n",
            "(as ‘lib’ is unspecified)\n",
            "\n",
            "Installing package into ‘/usr/local/lib/R/site-library’\n",
            "(as ‘lib’ is unspecified)\n",
            "\n",
            "also installing the dependencies ‘zoo’, ‘xts’, ‘PKI’, ‘packrat’, ‘renv’, ‘V8’, ‘dygraphs’, ‘rsconnect’, ‘katex’, ‘cleanrmd’\n",
            "\n",
            "\n",
            "Installing package into ‘/usr/local/lib/R/site-library’\n",
            "(as ‘lib’ is unspecified)\n",
            "\n",
            "also installing the dependencies ‘lazyeval’, ‘crosstalk’\n",
            "\n",
            "\n",
            "Installing package into ‘/usr/local/lib/R/site-library’\n",
            "(as ‘lib’ is unspecified)\n",
            "\n",
            "also installing the dependencies ‘proxy’, ‘rootSolve’, ‘e1071’, ‘lmom’, ‘mvtnorm’, ‘expm’, ‘Exact’, ‘gld’\n",
            "\n",
            "\n",
            "Installing package into ‘/usr/local/lib/R/site-library’\n",
            "(as ‘lib’ is unspecified)\n",
            "\n",
            "\n",
            "Attaching package: ‘plotly’\n",
            "\n",
            "\n",
            "The following object is masked from ‘package:ggplot2’:\n",
            "\n",
            "    last_plot\n",
            "\n",
            "\n",
            "The following object is masked from ‘package:stats’:\n",
            "\n",
            "    filter\n",
            "\n",
            "\n",
            "The following object is masked from ‘package:graphics’:\n",
            "\n",
            "    layout\n",
            "\n",
            "\n",
            "\n",
            "Attaching package: ‘dplyr’\n",
            "\n",
            "\n",
            "The following objects are masked from ‘package:stats’:\n",
            "\n",
            "    filter, lag\n",
            "\n",
            "\n",
            "The following objects are masked from ‘package:base’:\n",
            "\n",
            "    intersect, setdiff, setequal, union\n",
            "\n",
            "\n"
          ]
        }
      ],
      "source": [
        "install.packages(\"ggplot2\")\n",
        "install.packages(\"tinytex\")\n",
        "install.packages(\"rmarkdown\", dep = TRUE)\n",
        "install.packages(\"plotly\")\n",
        "install.packages(\"DescTools\")\n",
        "install.packages(\"dplyr\")\n",
        "\n",
        "library(ggplot2)\n",
        "library(tinytex)\n",
        "library(rmarkdown)\n",
        "library(plotly)\n",
        "library(DescTools)\n",
        "library(dplyr)"
      ]
    },
    {
      "cell_type": "code",
      "execution_count": 2,
      "metadata": {
        "colab": {
          "base_uri": "https://localhost:8080/",
          "height": 1000
        },
        "id": "_OCCxzoxb6SI",
        "outputId": "fe1e9df6-82b5-4467-89a8-46704ce6d39d",
        "vscode": {
          "languageId": "r"
        }
      },
      "outputs": [
        {
          "data": {
            "text/html": [
              "<table class=\"dataframe\">\n",
              "<caption>A data.frame: 30896 × 10</caption>\n",
              "<thead>\n",
              "\t<tr><th scope=col>year</th><th scope=col>month</th><th scope=col>intent</th><th scope=col>police</th><th scope=col>sex</th><th scope=col>age</th><th scope=col>race</th><th scope=col>hispanic</th><th scope=col>place</th><th scope=col>education</th></tr>\n",
              "\t<tr><th scope=col>&lt;int&gt;</th><th scope=col>&lt;int&gt;</th><th scope=col>&lt;chr&gt;</th><th scope=col>&lt;int&gt;</th><th scope=col>&lt;chr&gt;</th><th scope=col>&lt;dbl&gt;</th><th scope=col>&lt;chr&gt;</th><th scope=col>&lt;chr&gt;</th><th scope=col>&lt;chr&gt;</th><th scope=col>&lt;chr&gt;</th></tr>\n",
              "</thead>\n",
              "<tbody>\n",
              "\t<tr><td>2006</td><td>1</td><td>Suicide   </td><td>0</td><td>M</td><td>81</td><td>White   </td><td>No </td><td>Home             </td><td>HS/GED      </td></tr>\n",
              "\t<tr><td>2006</td><td>1</td><td>Homicide  </td><td>0</td><td>M</td><td>55</td><td>White   </td><td>No </td><td>Other unspecified</td><td>Less than HS</td></tr>\n",
              "\t<tr><td>2006</td><td>1</td><td>Homicide  </td><td>0</td><td>M</td><td>19</td><td>Black   </td><td>No </td><td>Home             </td><td>Less than HS</td></tr>\n",
              "\t<tr><td>2006</td><td>1</td><td>Homicide  </td><td>0</td><td>M</td><td>33</td><td>Black   </td><td>No </td><td>Other unspecified</td><td>Less than HS</td></tr>\n",
              "\t<tr><td>2006</td><td>1</td><td>Homicide  </td><td>0</td><td>M</td><td>23</td><td>Black   </td><td>No </td><td>Home             </td><td>Less than HS</td></tr>\n",
              "\t<tr><td>2006</td><td>1</td><td>Suicide   </td><td>0</td><td>M</td><td>88</td><td>White   </td><td>No </td><td>Home             </td><td>Less than HS</td></tr>\n",
              "\t<tr><td>2006</td><td>1</td><td>Suicide   </td><td>0</td><td>M</td><td>23</td><td>White   </td><td>No </td><td>Home             </td><td>HS/GED      </td></tr>\n",
              "\t<tr><td>2006</td><td>1</td><td>Homicide  </td><td>0</td><td>M</td><td>23</td><td>Hispanic</td><td>Yes</td><td>Home             </td><td>HS/GED      </td></tr>\n",
              "\t<tr><td>2006</td><td>1</td><td>Homicide  </td><td>0</td><td>M</td><td>43</td><td>Black   </td><td>No </td><td>Home             </td><td>Less than HS</td></tr>\n",
              "\t<tr><td>2006</td><td>1</td><td>Homicide  </td><td>0</td><td>M</td><td>23</td><td>Black   </td><td>No </td><td>Home             </td><td>HS/GED      </td></tr>\n",
              "\t<tr><td>2006</td><td>1</td><td>Suicide   </td><td>0</td><td>M</td><td>21</td><td>White   </td><td>No </td><td>Home             </td><td>Some college</td></tr>\n",
              "\t<tr><td>2006</td><td>1</td><td>Suicide   </td><td>0</td><td>M</td><td>26</td><td>White   </td><td>No </td><td>Other unspecified</td><td>BA+         </td></tr>\n",
              "\t<tr><td>2006</td><td>1</td><td>Suicide   </td><td>0</td><td>M</td><td>36</td><td>White   </td><td>No </td><td>Home             </td><td>HS/GED      </td></tr>\n",
              "\t<tr><td>2006</td><td>1</td><td>Suicide   </td><td>0</td><td>M</td><td>83</td><td>White   </td><td>No </td><td>Home             </td><td>HS/GED      </td></tr>\n",
              "\t<tr><td>2006</td><td>1</td><td>Suicide   </td><td>0</td><td>M</td><td>37</td><td>White   </td><td>No </td><td>Other unspecified</td><td>Less than HS</td></tr>\n",
              "\t<tr><td>2006</td><td>1</td><td>Suicide   </td><td>0</td><td>F</td><td>47</td><td>White   </td><td>No </td><td>Street           </td><td>Some college</td></tr>\n",
              "\t<tr><td>2006</td><td>1</td><td>Suicide   </td><td>0</td><td>M</td><td>55</td><td>White   </td><td>No </td><td>Home             </td><td>Some college</td></tr>\n",
              "\t<tr><td>2006</td><td>1</td><td>Homicide  </td><td>0</td><td>M</td><td>17</td><td>Black   </td><td>No </td><td>Other specified  </td><td>Less than HS</td></tr>\n",
              "\t<tr><td>2006</td><td>1</td><td>Homicide  </td><td>0</td><td>M</td><td>16</td><td>Black   </td><td>No </td><td>Home             </td><td>Less than HS</td></tr>\n",
              "\t<tr><td>2006</td><td>1</td><td>Homicide  </td><td>0</td><td>M</td><td>23</td><td>Black   </td><td>No </td><td>Other unspecified</td><td>Less than HS</td></tr>\n",
              "\t<tr><td>2006</td><td>1</td><td>Suicide   </td><td>0</td><td>M</td><td>82</td><td>White   </td><td>No </td><td>Other unspecified</td><td>HS/GED      </td></tr>\n",
              "\t<tr><td>2006</td><td>1</td><td>Suicide   </td><td>0</td><td>M</td><td>35</td><td>White   </td><td>No </td><td>Home             </td><td>HS/GED      </td></tr>\n",
              "\t<tr><td>2006</td><td>1</td><td>Suicide   </td><td>0</td><td>M</td><td>34</td><td>White   </td><td>No </td><td>Home             </td><td>BA+         </td></tr>\n",
              "\t<tr><td>2006</td><td>1</td><td>Homicide  </td><td>0</td><td>M</td><td>26</td><td>Black   </td><td>No </td><td>Home             </td><td>Some college</td></tr>\n",
              "\t<tr><td>2006</td><td>1</td><td>Accidental</td><td>0</td><td>M</td><td>24</td><td>White   </td><td>No </td><td>Other unspecified</td><td>HS/GED      </td></tr>\n",
              "\t<tr><td>2006</td><td>1</td><td>Homicide  </td><td>0</td><td>M</td><td>21</td><td>Black   </td><td>No </td><td>Other specified  </td><td>Less than HS</td></tr>\n",
              "\t<tr><td>2006</td><td>1</td><td>Homicide  </td><td>0</td><td>M</td><td>42</td><td>White   </td><td>No </td><td>Home             </td><td>Less than HS</td></tr>\n",
              "\t<tr><td>2006</td><td>1</td><td>Homicide  </td><td>0</td><td>M</td><td>21</td><td>Black   </td><td>No </td><td>Home             </td><td>HS/GED      </td></tr>\n",
              "\t<tr><td>2006</td><td>2</td><td>Suicide   </td><td>0</td><td>M</td><td>40</td><td>White   </td><td>No </td><td>Other unspecified</td><td>Less than HS</td></tr>\n",
              "\t<tr><td>2006</td><td>2</td><td>Suicide   </td><td>0</td><td>M</td><td>40</td><td>White   </td><td>No </td><td>Home             </td><td>HS/GED      </td></tr>\n",
              "\t<tr><td>⋮</td><td>⋮</td><td>⋮</td><td>⋮</td><td>⋮</td><td>⋮</td><td>⋮</td><td>⋮</td><td>⋮</td><td>⋮</td></tr>\n",
              "\t<tr><td>2006</td><td>12</td><td>Homicide    </td><td>0</td><td>M</td><td>22</td><td>Black   </td><td>No </td><td>Street            </td><td>Some college</td></tr>\n",
              "\t<tr><td>2006</td><td>12</td><td>Homicide    </td><td>1</td><td>M</td><td>19</td><td>Black   </td><td>No </td><td>Other unspecified </td><td>HS/GED      </td></tr>\n",
              "\t<tr><td>2006</td><td>12</td><td>Homicide    </td><td>0</td><td>F</td><td>68</td><td>Hispanic</td><td>Yes</td><td>Home              </td><td>Unknown     </td></tr>\n",
              "\t<tr><td>2006</td><td>12</td><td>Homicide    </td><td>0</td><td>M</td><td>31</td><td>Black   </td><td>No </td><td>Street            </td><td>Some college</td></tr>\n",
              "\t<tr><td>2006</td><td>12</td><td>Homicide    </td><td>0</td><td>M</td><td>31</td><td>Black   </td><td>No </td><td>Street            </td><td>HS/GED      </td></tr>\n",
              "\t<tr><td>2006</td><td>12</td><td>Homicide    </td><td>0</td><td>M</td><td>27</td><td>Black   </td><td>No </td><td>Street            </td><td>Some college</td></tr>\n",
              "\t<tr><td>2006</td><td>12</td><td>Homicide    </td><td>0</td><td>M</td><td>18</td><td>Black   </td><td>No </td><td>Street            </td><td>Less than HS</td></tr>\n",
              "\t<tr><td>2006</td><td>12</td><td>Homicide    </td><td>1</td><td>M</td><td>62</td><td>White   </td><td>No </td><td>Other unspecified </td><td>Less than HS</td></tr>\n",
              "\t<tr><td>2006</td><td>12</td><td>Homicide    </td><td>0</td><td>M</td><td>36</td><td>Black   </td><td>No </td><td>Trade/service area</td><td>Less than HS</td></tr>\n",
              "\t<tr><td>2006</td><td>12</td><td>Suicide     </td><td>0</td><td>M</td><td>62</td><td>White   </td><td>No </td><td>Home              </td><td>HS/GED      </td></tr>\n",
              "\t<tr><td>2006</td><td>12</td><td>Homicide    </td><td>0</td><td>M</td><td>25</td><td>Black   </td><td>No </td><td>Other specified   </td><td>HS/GED      </td></tr>\n",
              "\t<tr><td>2006</td><td>12</td><td>Homicide    </td><td>0</td><td>M</td><td>30</td><td>Hispanic</td><td>Yes</td><td>Street            </td><td>HS/GED      </td></tr>\n",
              "\t<tr><td>2006</td><td>12</td><td>Homicide    </td><td>0</td><td>M</td><td>41</td><td>Black   </td><td>No </td><td>Other unspecified </td><td>BA+         </td></tr>\n",
              "\t<tr><td>2006</td><td>12</td><td>Undetermined</td><td>0</td><td>M</td><td>25</td><td>Hispanic</td><td>Yes</td><td>Other unspecified </td><td>HS/GED      </td></tr>\n",
              "\t<tr><td>2006</td><td>12</td><td>Homicide    </td><td>0</td><td>M</td><td>27</td><td>Hispanic</td><td>Yes</td><td>Home              </td><td>HS/GED      </td></tr>\n",
              "\t<tr><td>2006</td><td>12</td><td>Homicide    </td><td>0</td><td>M</td><td>53</td><td>Black   </td><td>No </td><td>Street            </td><td>HS/GED      </td></tr>\n",
              "\t<tr><td>2006</td><td>12</td><td>Homicide    </td><td>0</td><td>M</td><td>50</td><td>Black   </td><td>No </td><td>Street            </td><td>Less than HS</td></tr>\n",
              "\t<tr><td>2006</td><td>12</td><td>Homicide    </td><td>0</td><td>M</td><td>22</td><td>Black   </td><td>No </td><td>Street            </td><td>HS/GED      </td></tr>\n",
              "\t<tr><td>2006</td><td>12</td><td>Homicide    </td><td>0</td><td>M</td><td>20</td><td>Black   </td><td>No </td><td>Street            </td><td>Less than HS</td></tr>\n",
              "\t<tr><td>2006</td><td>12</td><td>Homicide    </td><td>0</td><td>M</td><td>25</td><td>Hispanic</td><td>Yes</td><td>Street            </td><td>Less than HS</td></tr>\n",
              "\t<tr><td>2006</td><td>12</td><td>Suicide     </td><td>0</td><td>M</td><td>67</td><td>Black   </td><td>No </td><td>Home              </td><td>Unknown     </td></tr>\n",
              "\t<tr><td>2006</td><td>12</td><td>Homicide    </td><td>0</td><td>M</td><td>36</td><td>Black   </td><td>No </td><td>Trade/service area</td><td>HS/GED      </td></tr>\n",
              "\t<tr><td>2006</td><td>12</td><td>Homicide    </td><td>0</td><td>M</td><td>15</td><td>Black   </td><td>No </td><td>Street            </td><td>Less than HS</td></tr>\n",
              "\t<tr><td>2006</td><td>12</td><td>Suicide     </td><td>0</td><td>F</td><td>31</td><td>White   </td><td>No </td><td>Trade/service area</td><td>BA+         </td></tr>\n",
              "\t<tr><td>2006</td><td>12</td><td>Homicide    </td><td>0</td><td>M</td><td>21</td><td>Black   </td><td>No </td><td>Street            </td><td>HS/GED      </td></tr>\n",
              "\t<tr><td>2006</td><td>12</td><td>Accidental  </td><td>0</td><td>M</td><td>32</td><td>Black   </td><td>No </td><td>Trade/service area</td><td>HS/GED      </td></tr>\n",
              "\t<tr><td>2006</td><td>12</td><td>Homicide    </td><td>0</td><td>M</td><td>50</td><td>Black   </td><td>No </td><td>Other specified   </td><td>Unknown     </td></tr>\n",
              "\t<tr><td>2006</td><td>12</td><td>Homicide    </td><td>0</td><td>M</td><td>37</td><td>Black   </td><td>No </td><td>Street            </td><td>Some college</td></tr>\n",
              "\t<tr><td>2006</td><td>12</td><td>Homicide    </td><td>0</td><td>M</td><td>64</td><td>Black   </td><td>No </td><td>Street            </td><td>BA+         </td></tr>\n",
              "\t<tr><td>2006</td><td>12</td><td>Homicide    </td><td>0</td><td>M</td><td>26</td><td>Hispanic</td><td>Yes</td><td>Street            </td><td>HS/GED      </td></tr>\n",
              "</tbody>\n",
              "</table>\n"
            ],
            "text/latex": [
              "A data.frame: 30896 × 10\n",
              "\\begin{tabular}{llllllllll}\n",
              " year & month & intent & police & sex & age & race & hispanic & place & education\\\\\n",
              " <int> & <int> & <chr> & <int> & <chr> & <dbl> & <chr> & <chr> & <chr> & <chr>\\\\\n",
              "\\hline\n",
              "\t 2006 & 1 & Suicide    & 0 & M & 81 & White    & No  & Home              & HS/GED      \\\\\n",
              "\t 2006 & 1 & Homicide   & 0 & M & 55 & White    & No  & Other unspecified & Less than HS\\\\\n",
              "\t 2006 & 1 & Homicide   & 0 & M & 19 & Black    & No  & Home              & Less than HS\\\\\n",
              "\t 2006 & 1 & Homicide   & 0 & M & 33 & Black    & No  & Other unspecified & Less than HS\\\\\n",
              "\t 2006 & 1 & Homicide   & 0 & M & 23 & Black    & No  & Home              & Less than HS\\\\\n",
              "\t 2006 & 1 & Suicide    & 0 & M & 88 & White    & No  & Home              & Less than HS\\\\\n",
              "\t 2006 & 1 & Suicide    & 0 & M & 23 & White    & No  & Home              & HS/GED      \\\\\n",
              "\t 2006 & 1 & Homicide   & 0 & M & 23 & Hispanic & Yes & Home              & HS/GED      \\\\\n",
              "\t 2006 & 1 & Homicide   & 0 & M & 43 & Black    & No  & Home              & Less than HS\\\\\n",
              "\t 2006 & 1 & Homicide   & 0 & M & 23 & Black    & No  & Home              & HS/GED      \\\\\n",
              "\t 2006 & 1 & Suicide    & 0 & M & 21 & White    & No  & Home              & Some college\\\\\n",
              "\t 2006 & 1 & Suicide    & 0 & M & 26 & White    & No  & Other unspecified & BA+         \\\\\n",
              "\t 2006 & 1 & Suicide    & 0 & M & 36 & White    & No  & Home              & HS/GED      \\\\\n",
              "\t 2006 & 1 & Suicide    & 0 & M & 83 & White    & No  & Home              & HS/GED      \\\\\n",
              "\t 2006 & 1 & Suicide    & 0 & M & 37 & White    & No  & Other unspecified & Less than HS\\\\\n",
              "\t 2006 & 1 & Suicide    & 0 & F & 47 & White    & No  & Street            & Some college\\\\\n",
              "\t 2006 & 1 & Suicide    & 0 & M & 55 & White    & No  & Home              & Some college\\\\\n",
              "\t 2006 & 1 & Homicide   & 0 & M & 17 & Black    & No  & Other specified   & Less than HS\\\\\n",
              "\t 2006 & 1 & Homicide   & 0 & M & 16 & Black    & No  & Home              & Less than HS\\\\\n",
              "\t 2006 & 1 & Homicide   & 0 & M & 23 & Black    & No  & Other unspecified & Less than HS\\\\\n",
              "\t 2006 & 1 & Suicide    & 0 & M & 82 & White    & No  & Other unspecified & HS/GED      \\\\\n",
              "\t 2006 & 1 & Suicide    & 0 & M & 35 & White    & No  & Home              & HS/GED      \\\\\n",
              "\t 2006 & 1 & Suicide    & 0 & M & 34 & White    & No  & Home              & BA+         \\\\\n",
              "\t 2006 & 1 & Homicide   & 0 & M & 26 & Black    & No  & Home              & Some college\\\\\n",
              "\t 2006 & 1 & Accidental & 0 & M & 24 & White    & No  & Other unspecified & HS/GED      \\\\\n",
              "\t 2006 & 1 & Homicide   & 0 & M & 21 & Black    & No  & Other specified   & Less than HS\\\\\n",
              "\t 2006 & 1 & Homicide   & 0 & M & 42 & White    & No  & Home              & Less than HS\\\\\n",
              "\t 2006 & 1 & Homicide   & 0 & M & 21 & Black    & No  & Home              & HS/GED      \\\\\n",
              "\t 2006 & 2 & Suicide    & 0 & M & 40 & White    & No  & Other unspecified & Less than HS\\\\\n",
              "\t 2006 & 2 & Suicide    & 0 & M & 40 & White    & No  & Home              & HS/GED      \\\\\n",
              "\t ⋮ & ⋮ & ⋮ & ⋮ & ⋮ & ⋮ & ⋮ & ⋮ & ⋮ & ⋮\\\\\n",
              "\t 2006 & 12 & Homicide     & 0 & M & 22 & Black    & No  & Street             & Some college\\\\\n",
              "\t 2006 & 12 & Homicide     & 1 & M & 19 & Black    & No  & Other unspecified  & HS/GED      \\\\\n",
              "\t 2006 & 12 & Homicide     & 0 & F & 68 & Hispanic & Yes & Home               & Unknown     \\\\\n",
              "\t 2006 & 12 & Homicide     & 0 & M & 31 & Black    & No  & Street             & Some college\\\\\n",
              "\t 2006 & 12 & Homicide     & 0 & M & 31 & Black    & No  & Street             & HS/GED      \\\\\n",
              "\t 2006 & 12 & Homicide     & 0 & M & 27 & Black    & No  & Street             & Some college\\\\\n",
              "\t 2006 & 12 & Homicide     & 0 & M & 18 & Black    & No  & Street             & Less than HS\\\\\n",
              "\t 2006 & 12 & Homicide     & 1 & M & 62 & White    & No  & Other unspecified  & Less than HS\\\\\n",
              "\t 2006 & 12 & Homicide     & 0 & M & 36 & Black    & No  & Trade/service area & Less than HS\\\\\n",
              "\t 2006 & 12 & Suicide      & 0 & M & 62 & White    & No  & Home               & HS/GED      \\\\\n",
              "\t 2006 & 12 & Homicide     & 0 & M & 25 & Black    & No  & Other specified    & HS/GED      \\\\\n",
              "\t 2006 & 12 & Homicide     & 0 & M & 30 & Hispanic & Yes & Street             & HS/GED      \\\\\n",
              "\t 2006 & 12 & Homicide     & 0 & M & 41 & Black    & No  & Other unspecified  & BA+         \\\\\n",
              "\t 2006 & 12 & Undetermined & 0 & M & 25 & Hispanic & Yes & Other unspecified  & HS/GED      \\\\\n",
              "\t 2006 & 12 & Homicide     & 0 & M & 27 & Hispanic & Yes & Home               & HS/GED      \\\\\n",
              "\t 2006 & 12 & Homicide     & 0 & M & 53 & Black    & No  & Street             & HS/GED      \\\\\n",
              "\t 2006 & 12 & Homicide     & 0 & M & 50 & Black    & No  & Street             & Less than HS\\\\\n",
              "\t 2006 & 12 & Homicide     & 0 & M & 22 & Black    & No  & Street             & HS/GED      \\\\\n",
              "\t 2006 & 12 & Homicide     & 0 & M & 20 & Black    & No  & Street             & Less than HS\\\\\n",
              "\t 2006 & 12 & Homicide     & 0 & M & 25 & Hispanic & Yes & Street             & Less than HS\\\\\n",
              "\t 2006 & 12 & Suicide      & 0 & M & 67 & Black    & No  & Home               & Unknown     \\\\\n",
              "\t 2006 & 12 & Homicide     & 0 & M & 36 & Black    & No  & Trade/service area & HS/GED      \\\\\n",
              "\t 2006 & 12 & Homicide     & 0 & M & 15 & Black    & No  & Street             & Less than HS\\\\\n",
              "\t 2006 & 12 & Suicide      & 0 & F & 31 & White    & No  & Trade/service area & BA+         \\\\\n",
              "\t 2006 & 12 & Homicide     & 0 & M & 21 & Black    & No  & Street             & HS/GED      \\\\\n",
              "\t 2006 & 12 & Accidental   & 0 & M & 32 & Black    & No  & Trade/service area & HS/GED      \\\\\n",
              "\t 2006 & 12 & Homicide     & 0 & M & 50 & Black    & No  & Other specified    & Unknown     \\\\\n",
              "\t 2006 & 12 & Homicide     & 0 & M & 37 & Black    & No  & Street             & Some college\\\\\n",
              "\t 2006 & 12 & Homicide     & 0 & M & 64 & Black    & No  & Street             & BA+         \\\\\n",
              "\t 2006 & 12 & Homicide     & 0 & M & 26 & Hispanic & Yes & Street             & HS/GED      \\\\\n",
              "\\end{tabular}\n"
            ],
            "text/markdown": [
              "\n",
              "A data.frame: 30896 × 10\n",
              "\n",
              "| year &lt;int&gt; | month &lt;int&gt; | intent &lt;chr&gt; | police &lt;int&gt; | sex &lt;chr&gt; | age &lt;dbl&gt; | race &lt;chr&gt; | hispanic &lt;chr&gt; | place &lt;chr&gt; | education &lt;chr&gt; |\n",
              "|---|---|---|---|---|---|---|---|---|---|\n",
              "| 2006 | 1 | Suicide    | 0 | M | 81 | White    | No  | Home              | HS/GED       |\n",
              "| 2006 | 1 | Homicide   | 0 | M | 55 | White    | No  | Other unspecified | Less than HS |\n",
              "| 2006 | 1 | Homicide   | 0 | M | 19 | Black    | No  | Home              | Less than HS |\n",
              "| 2006 | 1 | Homicide   | 0 | M | 33 | Black    | No  | Other unspecified | Less than HS |\n",
              "| 2006 | 1 | Homicide   | 0 | M | 23 | Black    | No  | Home              | Less than HS |\n",
              "| 2006 | 1 | Suicide    | 0 | M | 88 | White    | No  | Home              | Less than HS |\n",
              "| 2006 | 1 | Suicide    | 0 | M | 23 | White    | No  | Home              | HS/GED       |\n",
              "| 2006 | 1 | Homicide   | 0 | M | 23 | Hispanic | Yes | Home              | HS/GED       |\n",
              "| 2006 | 1 | Homicide   | 0 | M | 43 | Black    | No  | Home              | Less than HS |\n",
              "| 2006 | 1 | Homicide   | 0 | M | 23 | Black    | No  | Home              | HS/GED       |\n",
              "| 2006 | 1 | Suicide    | 0 | M | 21 | White    | No  | Home              | Some college |\n",
              "| 2006 | 1 | Suicide    | 0 | M | 26 | White    | No  | Other unspecified | BA+          |\n",
              "| 2006 | 1 | Suicide    | 0 | M | 36 | White    | No  | Home              | HS/GED       |\n",
              "| 2006 | 1 | Suicide    | 0 | M | 83 | White    | No  | Home              | HS/GED       |\n",
              "| 2006 | 1 | Suicide    | 0 | M | 37 | White    | No  | Other unspecified | Less than HS |\n",
              "| 2006 | 1 | Suicide    | 0 | F | 47 | White    | No  | Street            | Some college |\n",
              "| 2006 | 1 | Suicide    | 0 | M | 55 | White    | No  | Home              | Some college |\n",
              "| 2006 | 1 | Homicide   | 0 | M | 17 | Black    | No  | Other specified   | Less than HS |\n",
              "| 2006 | 1 | Homicide   | 0 | M | 16 | Black    | No  | Home              | Less than HS |\n",
              "| 2006 | 1 | Homicide   | 0 | M | 23 | Black    | No  | Other unspecified | Less than HS |\n",
              "| 2006 | 1 | Suicide    | 0 | M | 82 | White    | No  | Other unspecified | HS/GED       |\n",
              "| 2006 | 1 | Suicide    | 0 | M | 35 | White    | No  | Home              | HS/GED       |\n",
              "| 2006 | 1 | Suicide    | 0 | M | 34 | White    | No  | Home              | BA+          |\n",
              "| 2006 | 1 | Homicide   | 0 | M | 26 | Black    | No  | Home              | Some college |\n",
              "| 2006 | 1 | Accidental | 0 | M | 24 | White    | No  | Other unspecified | HS/GED       |\n",
              "| 2006 | 1 | Homicide   | 0 | M | 21 | Black    | No  | Other specified   | Less than HS |\n",
              "| 2006 | 1 | Homicide   | 0 | M | 42 | White    | No  | Home              | Less than HS |\n",
              "| 2006 | 1 | Homicide   | 0 | M | 21 | Black    | No  | Home              | HS/GED       |\n",
              "| 2006 | 2 | Suicide    | 0 | M | 40 | White    | No  | Other unspecified | Less than HS |\n",
              "| 2006 | 2 | Suicide    | 0 | M | 40 | White    | No  | Home              | HS/GED       |\n",
              "| ⋮ | ⋮ | ⋮ | ⋮ | ⋮ | ⋮ | ⋮ | ⋮ | ⋮ | ⋮ |\n",
              "| 2006 | 12 | Homicide     | 0 | M | 22 | Black    | No  | Street             | Some college |\n",
              "| 2006 | 12 | Homicide     | 1 | M | 19 | Black    | No  | Other unspecified  | HS/GED       |\n",
              "| 2006 | 12 | Homicide     | 0 | F | 68 | Hispanic | Yes | Home               | Unknown      |\n",
              "| 2006 | 12 | Homicide     | 0 | M | 31 | Black    | No  | Street             | Some college |\n",
              "| 2006 | 12 | Homicide     | 0 | M | 31 | Black    | No  | Street             | HS/GED       |\n",
              "| 2006 | 12 | Homicide     | 0 | M | 27 | Black    | No  | Street             | Some college |\n",
              "| 2006 | 12 | Homicide     | 0 | M | 18 | Black    | No  | Street             | Less than HS |\n",
              "| 2006 | 12 | Homicide     | 1 | M | 62 | White    | No  | Other unspecified  | Less than HS |\n",
              "| 2006 | 12 | Homicide     | 0 | M | 36 | Black    | No  | Trade/service area | Less than HS |\n",
              "| 2006 | 12 | Suicide      | 0 | M | 62 | White    | No  | Home               | HS/GED       |\n",
              "| 2006 | 12 | Homicide     | 0 | M | 25 | Black    | No  | Other specified    | HS/GED       |\n",
              "| 2006 | 12 | Homicide     | 0 | M | 30 | Hispanic | Yes | Street             | HS/GED       |\n",
              "| 2006 | 12 | Homicide     | 0 | M | 41 | Black    | No  | Other unspecified  | BA+          |\n",
              "| 2006 | 12 | Undetermined | 0 | M | 25 | Hispanic | Yes | Other unspecified  | HS/GED       |\n",
              "| 2006 | 12 | Homicide     | 0 | M | 27 | Hispanic | Yes | Home               | HS/GED       |\n",
              "| 2006 | 12 | Homicide     | 0 | M | 53 | Black    | No  | Street             | HS/GED       |\n",
              "| 2006 | 12 | Homicide     | 0 | M | 50 | Black    | No  | Street             | Less than HS |\n",
              "| 2006 | 12 | Homicide     | 0 | M | 22 | Black    | No  | Street             | HS/GED       |\n",
              "| 2006 | 12 | Homicide     | 0 | M | 20 | Black    | No  | Street             | Less than HS |\n",
              "| 2006 | 12 | Homicide     | 0 | M | 25 | Hispanic | Yes | Street             | Less than HS |\n",
              "| 2006 | 12 | Suicide      | 0 | M | 67 | Black    | No  | Home               | Unknown      |\n",
              "| 2006 | 12 | Homicide     | 0 | M | 36 | Black    | No  | Trade/service area | HS/GED       |\n",
              "| 2006 | 12 | Homicide     | 0 | M | 15 | Black    | No  | Street             | Less than HS |\n",
              "| 2006 | 12 | Suicide      | 0 | F | 31 | White    | No  | Trade/service area | BA+          |\n",
              "| 2006 | 12 | Homicide     | 0 | M | 21 | Black    | No  | Street             | HS/GED       |\n",
              "| 2006 | 12 | Accidental   | 0 | M | 32 | Black    | No  | Trade/service area | HS/GED       |\n",
              "| 2006 | 12 | Homicide     | 0 | M | 50 | Black    | No  | Other specified    | Unknown      |\n",
              "| 2006 | 12 | Homicide     | 0 | M | 37 | Black    | No  | Street             | Some college |\n",
              "| 2006 | 12 | Homicide     | 0 | M | 64 | Black    | No  | Street             | BA+          |\n",
              "| 2006 | 12 | Homicide     | 0 | M | 26 | Hispanic | Yes | Street             | HS/GED       |\n",
              "\n"
            ],
            "text/plain": [
              "      year month intent       police sex age race     hispanic\n",
              "1     2006 1     Suicide      0      M   81  White    No      \n",
              "2     2006 1     Homicide     0      M   55  White    No      \n",
              "3     2006 1     Homicide     0      M   19  Black    No      \n",
              "4     2006 1     Homicide     0      M   33  Black    No      \n",
              "5     2006 1     Homicide     0      M   23  Black    No      \n",
              "6     2006 1     Suicide      0      M   88  White    No      \n",
              "7     2006 1     Suicide      0      M   23  White    No      \n",
              "8     2006 1     Homicide     0      M   23  Hispanic Yes     \n",
              "9     2006 1     Homicide     0      M   43  Black    No      \n",
              "10    2006 1     Homicide     0      M   23  Black    No      \n",
              "11    2006 1     Suicide      0      M   21  White    No      \n",
              "12    2006 1     Suicide      0      M   26  White    No      \n",
              "13    2006 1     Suicide      0      M   36  White    No      \n",
              "14    2006 1     Suicide      0      M   83  White    No      \n",
              "15    2006 1     Suicide      0      M   37  White    No      \n",
              "16    2006 1     Suicide      0      F   47  White    No      \n",
              "17    2006 1     Suicide      0      M   55  White    No      \n",
              "18    2006 1     Homicide     0      M   17  Black    No      \n",
              "19    2006 1     Homicide     0      M   16  Black    No      \n",
              "20    2006 1     Homicide     0      M   23  Black    No      \n",
              "21    2006 1     Suicide      0      M   82  White    No      \n",
              "22    2006 1     Suicide      0      M   35  White    No      \n",
              "23    2006 1     Suicide      0      M   34  White    No      \n",
              "24    2006 1     Homicide     0      M   26  Black    No      \n",
              "25    2006 1     Accidental   0      M   24  White    No      \n",
              "26    2006 1     Homicide     0      M   21  Black    No      \n",
              "27    2006 1     Homicide     0      M   42  White    No      \n",
              "28    2006 1     Homicide     0      M   21  Black    No      \n",
              "29    2006 2     Suicide      0      M   40  White    No      \n",
              "30    2006 2     Suicide      0      M   40  White    No      \n",
              "⋮     ⋮    ⋮     ⋮            ⋮      ⋮   ⋮   ⋮        ⋮       \n",
              "30867 2006 12    Homicide     0      M   22  Black    No      \n",
              "30868 2006 12    Homicide     1      M   19  Black    No      \n",
              "30869 2006 12    Homicide     0      F   68  Hispanic Yes     \n",
              "30870 2006 12    Homicide     0      M   31  Black    No      \n",
              "30871 2006 12    Homicide     0      M   31  Black    No      \n",
              "30872 2006 12    Homicide     0      M   27  Black    No      \n",
              "30873 2006 12    Homicide     0      M   18  Black    No      \n",
              "30874 2006 12    Homicide     1      M   62  White    No      \n",
              "30875 2006 12    Homicide     0      M   36  Black    No      \n",
              "30876 2006 12    Suicide      0      M   62  White    No      \n",
              "30877 2006 12    Homicide     0      M   25  Black    No      \n",
              "30878 2006 12    Homicide     0      M   30  Hispanic Yes     \n",
              "30879 2006 12    Homicide     0      M   41  Black    No      \n",
              "30880 2006 12    Undetermined 0      M   25  Hispanic Yes     \n",
              "30881 2006 12    Homicide     0      M   27  Hispanic Yes     \n",
              "30882 2006 12    Homicide     0      M   53  Black    No      \n",
              "30883 2006 12    Homicide     0      M   50  Black    No      \n",
              "30884 2006 12    Homicide     0      M   22  Black    No      \n",
              "30885 2006 12    Homicide     0      M   20  Black    No      \n",
              "30886 2006 12    Homicide     0      M   25  Hispanic Yes     \n",
              "30887 2006 12    Suicide      0      M   67  Black    No      \n",
              "30888 2006 12    Homicide     0      M   36  Black    No      \n",
              "30889 2006 12    Homicide     0      M   15  Black    No      \n",
              "30890 2006 12    Suicide      0      F   31  White    No      \n",
              "30891 2006 12    Homicide     0      M   21  Black    No      \n",
              "30892 2006 12    Accidental   0      M   32  Black    No      \n",
              "30893 2006 12    Homicide     0      M   50  Black    No      \n",
              "30894 2006 12    Homicide     0      M   37  Black    No      \n",
              "30895 2006 12    Homicide     0      M   64  Black    No      \n",
              "30896 2006 12    Homicide     0      M   26  Hispanic Yes     \n",
              "      place              education   \n",
              "1     Home               HS/GED      \n",
              "2     Other unspecified  Less than HS\n",
              "3     Home               Less than HS\n",
              "4     Other unspecified  Less than HS\n",
              "5     Home               Less than HS\n",
              "6     Home               Less than HS\n",
              "7     Home               HS/GED      \n",
              "8     Home               HS/GED      \n",
              "9     Home               Less than HS\n",
              "10    Home               HS/GED      \n",
              "11    Home               Some college\n",
              "12    Other unspecified  BA+         \n",
              "13    Home               HS/GED      \n",
              "14    Home               HS/GED      \n",
              "15    Other unspecified  Less than HS\n",
              "16    Street             Some college\n",
              "17    Home               Some college\n",
              "18    Other specified    Less than HS\n",
              "19    Home               Less than HS\n",
              "20    Other unspecified  Less than HS\n",
              "21    Other unspecified  HS/GED      \n",
              "22    Home               HS/GED      \n",
              "23    Home               BA+         \n",
              "24    Home               Some college\n",
              "25    Other unspecified  HS/GED      \n",
              "26    Other specified    Less than HS\n",
              "27    Home               Less than HS\n",
              "28    Home               HS/GED      \n",
              "29    Other unspecified  Less than HS\n",
              "30    Home               HS/GED      \n",
              "⋮     ⋮                  ⋮           \n",
              "30867 Street             Some college\n",
              "30868 Other unspecified  HS/GED      \n",
              "30869 Home               Unknown     \n",
              "30870 Street             Some college\n",
              "30871 Street             HS/GED      \n",
              "30872 Street             Some college\n",
              "30873 Street             Less than HS\n",
              "30874 Other unspecified  Less than HS\n",
              "30875 Trade/service area Less than HS\n",
              "30876 Home               HS/GED      \n",
              "30877 Other specified    HS/GED      \n",
              "30878 Street             HS/GED      \n",
              "30879 Other unspecified  BA+         \n",
              "30880 Other unspecified  HS/GED      \n",
              "30881 Home               HS/GED      \n",
              "30882 Street             HS/GED      \n",
              "30883 Street             Less than HS\n",
              "30884 Street             HS/GED      \n",
              "30885 Street             Less than HS\n",
              "30886 Street             Less than HS\n",
              "30887 Home               Unknown     \n",
              "30888 Trade/service area HS/GED      \n",
              "30889 Street             Less than HS\n",
              "30890 Trade/service area BA+         \n",
              "30891 Street             HS/GED      \n",
              "30892 Trade/service area HS/GED      \n",
              "30893 Other specified    Unknown     \n",
              "30894 Street             Some college\n",
              "30895 Street             BA+         \n",
              "30896 Street             HS/GED      "
            ]
          },
          "metadata": {},
          "output_type": "display_data"
        }
      ],
      "source": [
        "gunDeathsData_2006 <- read.csv(\"/content/guns_2006.csv\", header = TRUE, sep = \",\")\n",
        "View(gunDeathsData_2006)"
      ]
    },
    {
      "cell_type": "code",
      "execution_count": 4,
      "metadata": {
        "colab": {
          "base_uri": "https://localhost:8080/",
          "height": 34
        },
        "id": "ehS1kJbVdfeG",
        "outputId": "ccc08128-bd61-4e8d-eb0b-8a5030c43232",
        "vscode": {
          "languageId": "r"
        }
      },
      "outputs": [
        {
          "data": {
            "text/html": [
              "0"
            ],
            "text/latex": [
              "0"
            ],
            "text/markdown": [
              "0"
            ],
            "text/plain": [
              "[1] 0"
            ]
          },
          "metadata": {},
          "output_type": "display_data"
        }
      ],
      "source": [
        "# Any null data?\n",
        "sum(is.na(gunDeathsData_2006))"
      ]
    },
    {
      "cell_type": "code",
      "execution_count": 5,
      "metadata": {
        "colab": {
          "base_uri": "https://localhost:8080/",
          "height": 86
        },
        "id": "v410uFaddjAT",
        "outputId": "ddbb221b-ed9b-4080-c891-551fa21a9283",
        "vscode": {
          "languageId": "r"
        }
      },
      "outputs": [
        {
          "name": "stdout",
          "output_type": "stream",
          "text": [
            "[1] \"Mean values for each numeric column:\"\n",
            "[1] \"Mean Age: \"\n"
          ]
        },
        {
          "data": {
            "text/html": [
              "40.9922297406674"
            ],
            "text/latex": [
              "40.9922297406674"
            ],
            "text/markdown": [
              "40.9922297406674"
            ],
            "text/plain": [
              "[1] 40.99223"
            ]
          },
          "metadata": {},
          "output_type": "display_data"
        },
        {
          "name": "stdout",
          "output_type": "stream",
          "text": [
            "[1] \"-----------------------------\"\n"
          ]
        }
      ],
      "source": [
        "# Gun related deaths from 2006\n",
        "# Statistical information\n",
        "\n",
        "# Mean for each numeric column:\n",
        "# Only one numeric column was found: Age\n",
        "print(\"Mean values for each numeric column:\")\n",
        "print(\"Mean Age: \") # 40.992\n",
        "mean(gunDeathsData_2006$age)\n",
        "print(\"-----------------------------\")"
      ]
    },
    {
      "cell_type": "code",
      "execution_count": 6,
      "metadata": {
        "colab": {
          "base_uri": "https://localhost:8080/",
          "height": 52
        },
        "id": "pnFQxD5wdsve",
        "outputId": "10cb3175-3ecd-4b08-cd37-58b37a1ae16d",
        "vscode": {
          "languageId": "r"
        }
      },
      "outputs": [
        {
          "name": "stdout",
          "output_type": "stream",
          "text": [
            "[1] \"Median value for the age column:\"\n"
          ]
        },
        {
          "data": {
            "text/html": [
              "38"
            ],
            "text/latex": [
              "38"
            ],
            "text/markdown": [
              "38"
            ],
            "text/plain": [
              "[1] 38"
            ]
          },
          "metadata": {},
          "output_type": "display_data"
        }
      ],
      "source": [
        "# Median Age:\n",
        "print(\"Median value for the age column:\") # 38\n",
        "median(gunDeathsData_2006$age)"
      ]
    },
    {
      "cell_type": "code",
      "execution_count": 7,
      "metadata": {
        "colab": {
          "base_uri": "https://localhost:8080/",
          "height": 52
        },
        "id": "l2Rzv5sydyT5",
        "outputId": "2862b3f4-68a1-4ef8-c329-2f3cba75a71e",
        "vscode": {
          "languageId": "r"
        }
      },
      "outputs": [
        {
          "name": "stdout",
          "output_type": "stream",
          "text": [
            "[1] \"Most occuring value for the age column:\"\n"
          ]
        },
        {
          "data": {
            "text/html": [
              "21"
            ],
            "text/latex": [
              "21"
            ],
            "text/markdown": [
              "21"
            ],
            "text/plain": [
              "[1] 21\n",
              "attr(,\"freq\")\n",
              "[1] 903"
            ]
          },
          "metadata": {},
          "output_type": "display_data"
        }
      ],
      "source": [
        "# Mode Age:\n",
        "print(\"Most occuring value for the age column:\") # 21\n",
        "Mode(gunDeathsData_2006$age)"
      ]
    },
    {
      "cell_type": "code",
      "execution_count": 8,
      "metadata": {
        "colab": {
          "base_uri": "https://localhost:8080/",
          "height": 52
        },
        "id": "hFeJ9l2_d311",
        "outputId": "bdd1713d-e332-41c5-a3a8-376e36b08591",
        "vscode": {
          "languageId": "r"
        }
      },
      "outputs": [
        {
          "name": "stdout",
          "output_type": "stream",
          "text": [
            "[1] \"Standard Deviation of the age:\"\n"
          ]
        },
        {
          "data": {
            "text/html": [
              "19.0729268281967"
            ],
            "text/latex": [
              "19.0729268281967"
            ],
            "text/markdown": [
              "19.0729268281967"
            ],
            "text/plain": [
              "[1] 19.07293"
            ]
          },
          "metadata": {},
          "output_type": "display_data"
        }
      ],
      "source": [
        "# Standard Deviation Age:\n",
        "print(\"Standard Deviation of the age:\") #19.073 years\n",
        "SD(gunDeathsData_2006$age)"
      ]
    },
    {
      "cell_type": "code",
      "execution_count": 10,
      "metadata": {
        "colab": {
          "base_uri": "https://localhost:8080/",
          "height": 437
        },
        "id": "54L3i-fNeCNy",
        "outputId": "c7913a2a-d2f8-4d6a-9570-5ca600b32b89",
        "vscode": {
          "languageId": "r"
        }
      },
      "outputs": [
        {
          "data": {
            "image/png": "[encoded data removed]",
            "text/plain": [
              "Plot with title “Age of Victims of Gun-related Deaths by Race”"
            ]
          },
          "metadata": {
            "image/png": {
              "height": 420,
              "width": 420
            }
          },
          "output_type": "display_data"
        }
      ],
      "source": [
        "# creating boxplot on age and race:\n",
        "boxplot(gunDeathsData_2006$age ~ gunDeathsData_2006$race, data = gunDeathsData_2006,\n",
        "        main = \"Age of Victims of Gun-related Deaths by Race\",\n",
        "        xlab = \"Race\",\n",
        "        ylab = \"Age\")\n",
        "        # African American Victims had the most outliers for age, with the\n",
        "        # boxplot for White victims had the least outliers and the most\n",
        "        # \"normalicy\" of the data"
      ]
    },
    {
      "cell_type": "code",
      "execution_count": 11,
      "metadata": {
        "colab": {
          "base_uri": "https://localhost:8080/",
          "height": 437
        },
        "id": "MzZ4IT9qequa",
        "outputId": "c802d77f-42ec-463e-ae28-33b0a89758e9",
        "vscode": {
          "languageId": "r"
        }
      },
      "outputs": [
        {
          "data": {
            "image/png": "[encoded data removed]",
            "text/plain": [
              "Plot with title “Histogram of gunDeathsData_2006$age”"
            ]
          },
          "metadata": {
            "image/png": {
              "height": 420,
              "width": 420
            }
          },
          "output_type": "display_data"
        }
      ],
      "source": [
        "# Constructing the histogram:\n",
        "\n",
        "hist(gunDeathsData_2006$age, xlab=\"Victims of Gun Violence By Age\", col = \"red\", border = \"black\")"
      ]
    },
    {
      "cell_type": "code",
      "execution_count": 12,
      "metadata": {
        "colab": {
          "base_uri": "https://localhost:8080/",
          "height": 437
        },
        "id": "V4UYhcrUexIc",
        "outputId": "205462a3-9f97-4ae0-b2c4-5c595bd8f7d9",
        "vscode": {
          "languageId": "r"
        }
      },
      "outputs": [
        {
          "data": {
            "image/png": "[encoded data removed]",
            "text/plain": [
              "Plot with title “Age of Victims of Gun-related Deaths by Gender”"
            ]
          },
          "metadata": {
            "image/png": {
              "height": 420,
              "width": 420
            }
          },
          "output_type": "display_data"
        }
      ],
      "source": [
        "# Creating a boxplot on age and gender:\n",
        "boxplot(gunDeathsData_2006$age ~ gunDeathsData_2006$sex, data = gunDeathsData_2006,\n",
        "        main = \"Age of Victims of Gun-related Deaths by Gender\",\n",
        "        xlab = \"Gender\",\n",
        "        ylab = \"Age\")\n",
        "\n",
        "        # Females had the least amount of outliers"
      ]
    },
    {
      "cell_type": "code",
      "execution_count": 13,
      "metadata": {
        "colab": {
          "base_uri": "https://localhost:8080/",
          "height": 437
        },
        "id": "8-e11k2gfEVJ",
        "outputId": "88db0c85-2636-4920-90aa-b8625358a1f1",
        "vscode": {
          "languageId": "r"
        }
      },
      "outputs": [
        {
          "data": {
            "image/png": "[encoded data removed]",
            "text/plain": [
              "Plot with title “Histogram of gunDeathsData_2006$month”"
            ]
          },
          "metadata": {
            "image/png": {
              "height": 420,
              "width": 420
            }
          },
          "output_type": "display_data"
        }
      ],
      "source": [
        "# Constructing the histogram for number of deaths by month:\n",
        "\n",
        "hist(gunDeathsData_2006$month, xlab=\"Total Victims of Gun Violence By Month\", col = \"blue\", border = \"black\")"
      ]
    },
    {
      "cell_type": "code",
      "execution_count": 14,
      "metadata": {
        "colab": {
          "base_uri": "https://localhost:8080/",
          "height": 437
        },
        "id": "tzuIMbLMfRPP",
        "outputId": "1bf0a678-9776-4d11-b7a9-585795716a73",
        "vscode": {
          "languageId": "r"
        }
      },
      "outputs": [
        {
          "data": {
            "image/png": "[encoded data removed]",
            "text/plain": [
              "Plot with title “Age of victims of Gun-related Deaths by Intent”"
            ]
          },
          "metadata": {
            "image/png": {
              "height": 420,
              "width": 420
            }
          },
          "output_type": "display_data"
        }
      ],
      "source": [
        "# Creating a boxplot on age and intentions behind the gun:\n",
        "boxplot(gunDeathsData_2006$age ~ gunDeathsData_2006$intent, data = gunDeathsData_2006,\n",
        "  main = \"Age of victims of Gun-related Deaths by Intent\",\n",
        "  xlab = \"Intentions With the Gun\",\n",
        "  ylab = \"Age\")\n",
        "\n",
        "# Homicides have the most outliers"
      ]
    },
    {
      "cell_type": "code",
      "execution_count": 16,
      "metadata": {
        "colab": {
          "base_uri": "https://localhost:8080/",
          "height": 255
        },
        "id": "6L3WaH2cgFI_",
        "outputId": "d3c55298-a128-4d8e-bf17-27df36f40d6b",
        "vscode": {
          "languageId": "r"
        }
      },
      "outputs": [
        {
          "data": {
            "text/html": [
              "<table class=\"dataframe\">\n",
              "<caption>A data.frame: 5 × 2</caption>\n",
              "<thead>\n",
              "\t<tr><th scope=col>gunDeathsData_2006$race</th><th scope=col>n</th></tr>\n",
              "\t<tr><th scope=col>&lt;chr&gt;</th><th scope=col>&lt;int&gt;</th></tr>\n",
              "</thead>\n",
              "<tbody>\n",
              "\t<tr><td>Asian/Pacific Islander        </td><td>  462</td></tr>\n",
              "\t<tr><td>Black                         </td><td> 8335</td></tr>\n",
              "\t<tr><td>Hispanic                      </td><td> 3464</td></tr>\n",
              "\t<tr><td>Native American/Native Alaskan</td><td>  267</td></tr>\n",
              "\t<tr><td>White                         </td><td>18368</td></tr>\n",
              "</tbody>\n",
              "</table>\n"
            ],
            "text/latex": [
              "A data.frame: 5 × 2\n",
              "\\begin{tabular}{ll}\n",
              " gunDeathsData\\_2006\\$race & n\\\\\n",
              " <chr> & <int>\\\\\n",
              "\\hline\n",
              "\t Asian/Pacific Islander         &   462\\\\\n",
              "\t Black                          &  8335\\\\\n",
              "\t Hispanic                       &  3464\\\\\n",
              "\t Native American/Native Alaskan &   267\\\\\n",
              "\t White                          & 18368\\\\\n",
              "\\end{tabular}\n"
            ],
            "text/markdown": [
              "\n",
              "A data.frame: 5 × 2\n",
              "\n",
              "| gunDeathsData_2006$race &lt;chr&gt; | n &lt;int&gt; |\n",
              "|---|---|\n",
              "| Asian/Pacific Islander         |   462 |\n",
              "| Black                          |  8335 |\n",
              "| Hispanic                       |  3464 |\n",
              "| Native American/Native Alaskan |   267 |\n",
              "| White                          | 18368 |\n",
              "\n"
            ],
            "text/plain": [
              "  gunDeathsData_2006$race        n    \n",
              "1 Asian/Pacific Islander           462\n",
              "2 Black                           8335\n",
              "3 Hispanic                        3464\n",
              "4 Native American/Native Alaskan   267\n",
              "5 White                          18368"
            ]
          },
          "metadata": {},
          "output_type": "display_data"
        }
      ],
      "source": [
        "gunDeathsData_2006 %>%\n",
        "  count(gunDeathsData_2006$race)"
      ]
    },
    {
      "cell_type": "code",
      "execution_count": 17,
      "metadata": {
        "colab": {
          "base_uri": "https://localhost:8080/",
          "height": 161
        },
        "id": "oGuhoRt2gJt9",
        "outputId": "740d7923-5801-41a2-e98d-523dc28e6466",
        "vscode": {
          "languageId": "r"
        }
      },
      "outputs": [
        {
          "data": {
            "text/html": [
              "<table class=\"dataframe\">\n",
              "<caption>A data.frame: 2 × 2</caption>\n",
              "<thead>\n",
              "\t<tr><th scope=col>gunDeathsData_2006$sex</th><th scope=col>n</th></tr>\n",
              "\t<tr><th scope=col>&lt;chr&gt;</th><th scope=col>&lt;int&gt;</th></tr>\n",
              "</thead>\n",
              "<tbody>\n",
              "\t<tr><td>F</td><td> 4184</td></tr>\n",
              "\t<tr><td>M</td><td>26712</td></tr>\n",
              "</tbody>\n",
              "</table>\n"
            ],
            "text/latex": [
              "A data.frame: 2 × 2\n",
              "\\begin{tabular}{ll}\n",
              " gunDeathsData\\_2006\\$sex & n\\\\\n",
              " <chr> & <int>\\\\\n",
              "\\hline\n",
              "\t F &  4184\\\\\n",
              "\t M & 26712\\\\\n",
              "\\end{tabular}\n"
            ],
            "text/markdown": [
              "\n",
              "A data.frame: 2 × 2\n",
              "\n",
              "| gunDeathsData_2006$sex &lt;chr&gt; | n &lt;int&gt; |\n",
              "|---|---|\n",
              "| F |  4184 |\n",
              "| M | 26712 |\n",
              "\n"
            ],
            "text/plain": [
              "  gunDeathsData_2006$sex n    \n",
              "1 F                       4184\n",
              "2 M                      26712"
            ]
          },
          "metadata": {},
          "output_type": "display_data"
        }
      ],
      "source": [
        "gunDeathsData_2006 %>%\n",
        "  count(gunDeathsData_2006$sex)"
      ]
    },
    {
      "cell_type": "code",
      "execution_count": 18,
      "metadata": {
        "colab": {
          "base_uri": "https://localhost:8080/",
          "height": 223
        },
        "id": "ecOXrRPegYUu",
        "outputId": "dc60dce0-e1ea-4ad0-e784-a13beacd64d7",
        "vscode": {
          "languageId": "r"
        }
      },
      "outputs": [
        {
          "data": {
            "text/html": [
              "<table class=\"dataframe\">\n",
              "<caption>A data.frame: 4 × 2</caption>\n",
              "<thead>\n",
              "\t<tr><th scope=col>gunDeathsData_2006$intent</th><th scope=col>n</th></tr>\n",
              "\t<tr><th scope=col>&lt;chr&gt;</th><th scope=col>&lt;int&gt;</th></tr>\n",
              "</thead>\n",
              "<tbody>\n",
              "\t<tr><td>Accidental  </td><td>  642</td></tr>\n",
              "\t<tr><td>Homicide    </td><td>13151</td></tr>\n",
              "\t<tr><td>Suicide     </td><td>16883</td></tr>\n",
              "\t<tr><td>Undetermined</td><td>  220</td></tr>\n",
              "</tbody>\n",
              "</table>\n"
            ],
            "text/latex": [
              "A data.frame: 4 × 2\n",
              "\\begin{tabular}{ll}\n",
              " gunDeathsData\\_2006\\$intent & n\\\\\n",
              " <chr> & <int>\\\\\n",
              "\\hline\n",
              "\t Accidental   &   642\\\\\n",
              "\t Homicide     & 13151\\\\\n",
              "\t Suicide      & 16883\\\\\n",
              "\t Undetermined &   220\\\\\n",
              "\\end{tabular}\n"
            ],
            "text/markdown": [
              "\n",
              "A data.frame: 4 × 2\n",
              "\n",
              "| gunDeathsData_2006$intent &lt;chr&gt; | n &lt;int&gt; |\n",
              "|---|---|\n",
              "| Accidental   |   642 |\n",
              "| Homicide     | 13151 |\n",
              "| Suicide      | 16883 |\n",
              "| Undetermined |   220 |\n",
              "\n"
            ],
            "text/plain": [
              "  gunDeathsData_2006$intent n    \n",
              "1 Accidental                  642\n",
              "2 Homicide                  13151\n",
              "3 Suicide                   16883\n",
              "4 Undetermined                220"
            ]
          },
          "metadata": {},
          "output_type": "display_data"
        }
      ],
      "source": [
        "gunDeathsData_2006 %>%\n",
        "  count(gunDeathsData_2006$intent)"
      ]
    },
    {
      "cell_type": "code",
      "execution_count": 19,
      "metadata": {
        "colab": {
          "base_uri": "https://localhost:8080/",
          "height": 474
        },
        "id": "TN8De8Pngd-_",
        "outputId": "89d5eaa4-322b-44a5-f212-96d410010f94",
        "vscode": {
          "languageId": "r"
        }
      },
      "outputs": [
        {
          "data": {
            "text/html": [
              "<table class=\"dataframe\">\n",
              "<caption>A data.frame: 12 × 2</caption>\n",
              "<thead>\n",
              "\t<tr><th scope=col>gunDeathsData_2006$month</th><th scope=col>n</th></tr>\n",
              "\t<tr><th scope=col>&lt;int&gt;</th><th scope=col>&lt;int&gt;</th></tr>\n",
              "</thead>\n",
              "<tbody>\n",
              "\t<tr><td> 1</td><td>2469</td></tr>\n",
              "\t<tr><td> 2</td><td>2159</td></tr>\n",
              "\t<tr><td> 3</td><td>2443</td></tr>\n",
              "\t<tr><td> 4</td><td>2533</td></tr>\n",
              "\t<tr><td> 5</td><td>2708</td></tr>\n",
              "\t<tr><td> 6</td><td>2677</td></tr>\n",
              "\t<tr><td> 7</td><td>2922</td></tr>\n",
              "\t<tr><td> 8</td><td>2585</td></tr>\n",
              "\t<tr><td> 9</td><td>2641</td></tr>\n",
              "\t<tr><td>10</td><td>2705</td></tr>\n",
              "\t<tr><td>11</td><td>2503</td></tr>\n",
              "\t<tr><td>12</td><td>2551</td></tr>\n",
              "</tbody>\n",
              "</table>\n"
            ],
            "text/latex": [
              "A data.frame: 12 × 2\n",
              "\\begin{tabular}{ll}\n",
              " gunDeathsData\\_2006\\$month & n\\\\\n",
              " <int> & <int>\\\\\n",
              "\\hline\n",
              "\t  1 & 2469\\\\\n",
              "\t  2 & 2159\\\\\n",
              "\t  3 & 2443\\\\\n",
              "\t  4 & 2533\\\\\n",
              "\t  5 & 2708\\\\\n",
              "\t  6 & 2677\\\\\n",
              "\t  7 & 2922\\\\\n",
              "\t  8 & 2585\\\\\n",
              "\t  9 & 2641\\\\\n",
              "\t 10 & 2705\\\\\n",
              "\t 11 & 2503\\\\\n",
              "\t 12 & 2551\\\\\n",
              "\\end{tabular}\n"
            ],
            "text/markdown": [
              "\n",
              "A data.frame: 12 × 2\n",
              "\n",
              "| gunDeathsData_2006$month &lt;int&gt; | n &lt;int&gt; |\n",
              "|---|---|\n",
              "|  1 | 2469 |\n",
              "|  2 | 2159 |\n",
              "|  3 | 2443 |\n",
              "|  4 | 2533 |\n",
              "|  5 | 2708 |\n",
              "|  6 | 2677 |\n",
              "|  7 | 2922 |\n",
              "|  8 | 2585 |\n",
              "|  9 | 2641 |\n",
              "| 10 | 2705 |\n",
              "| 11 | 2503 |\n",
              "| 12 | 2551 |\n",
              "\n"
            ],
            "text/plain": [
              "   gunDeathsData_2006$month n   \n",
              "1   1                       2469\n",
              "2   2                       2159\n",
              "3   3                       2443\n",
              "4   4                       2533\n",
              "5   5                       2708\n",
              "6   6                       2677\n",
              "7   7                       2922\n",
              "8   8                       2585\n",
              "9   9                       2641\n",
              "10 10                       2705\n",
              "11 11                       2503\n",
              "12 12                       2551"
            ]
          },
          "metadata": {},
          "output_type": "display_data"
        }
      ],
      "source": [
        "gunDeathsData_2006 %>%\n",
        "  count(gunDeathsData_2006$month)"
      ]
    },
    {
      "cell_type": "code",
      "execution_count": 20,
      "metadata": {
        "colab": {
          "base_uri": "https://localhost:8080/",
          "height": 34
        },
        "id": "hrt7TawcglXT",
        "outputId": "1aec7dc2-f65b-4a60-aa45-1b105df848d4",
        "vscode": {
          "languageId": "r"
        }
      },
      "outputs": [
        {
          "data": {
            "text/html": [
              "TRUE"
            ],
            "text/latex": [
              "TRUE"
            ],
            "text/markdown": [
              "TRUE"
            ],
            "text/plain": [
              "[1] TRUE"
            ]
          },
          "metadata": {},
          "output_type": "display_data"
        }
      ],
      "source": [
        "# Making the markdown file:\n",
        "file.create(\"CaseStudy_GunDeaths_2006.Rmd\")"
      ]
    }
  ],
  "metadata": {
    "colab": {
      "provenance": []
    },
    "kernelspec": {
      "display_name": "R",
      "name": "ir"
    },
    "language_info": {
      "name": "R"
    }
  },
  "nbformat": 4,
  "nbformat_minor": 0
}
