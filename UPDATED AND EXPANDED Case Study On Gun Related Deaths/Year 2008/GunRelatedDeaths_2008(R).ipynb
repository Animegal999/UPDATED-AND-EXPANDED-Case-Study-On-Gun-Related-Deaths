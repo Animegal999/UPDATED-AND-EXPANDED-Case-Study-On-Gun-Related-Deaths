{
  "cells": [
    {
      "cell_type": "code",
      "execution_count": 1,
      "metadata": {
        "colab": {
          "base_uri": "https://localhost:8080/"
        },
        "id": "8erXwBuPbX4I",
        "outputId": "dae96247-43c3-49ec-cb99-464be0350d7f",
        "vscode": {
          "languageId": "r"
        }
      },
      "outputs": [
        {
          "name": "stderr",
          "output_type": "stream",
          "text": [
            "Installing package into ‘/usr/local/lib/R/site-library’\n",
            "(as ‘lib’ is unspecified)\n",
            "\n",
            "Installing package into ‘/usr/local/lib/R/site-library’\n",
            "(as ‘lib’ is unspecified)\n",
            "\n",
            "Installing package into ‘/usr/local/lib/R/site-library’\n",
            "(as ‘lib’ is unspecified)\n",
            "\n",
            "also installing the dependencies ‘zoo’, ‘xts’, ‘PKI’, ‘packrat’, ‘renv’, ‘V8’, ‘dygraphs’, ‘rsconnect’, ‘katex’, ‘cleanrmd’\n",
            "\n",
            "\n",
            "Installing package into ‘/usr/local/lib/R/site-library’\n",
            "(as ‘lib’ is unspecified)\n",
            "\n",
            "also installing the dependencies ‘lazyeval’, ‘crosstalk’\n",
            "\n",
            "\n",
            "Installing package into ‘/usr/local/lib/R/site-library’\n",
            "(as ‘lib’ is unspecified)\n",
            "\n",
            "also installing the dependencies ‘proxy’, ‘rootSolve’, ‘e1071’, ‘lmom’, ‘mvtnorm’, ‘expm’, ‘Exact’, ‘gld’\n",
            "\n",
            "\n",
            "Installing package into ‘/usr/local/lib/R/site-library’\n",
            "(as ‘lib’ is unspecified)\n",
            "\n",
            "\n",
            "Attaching package: ‘plotly’\n",
            "\n",
            "\n",
            "The following object is masked from ‘package:ggplot2’:\n",
            "\n",
            "    last_plot\n",
            "\n",
            "\n",
            "The following object is masked from ‘package:stats’:\n",
            "\n",
            "    filter\n",
            "\n",
            "\n",
            "The following object is masked from ‘package:graphics’:\n",
            "\n",
            "    layout\n",
            "\n",
            "\n",
            "\n",
            "Attaching package: ‘dplyr’\n",
            "\n",
            "\n",
            "The following objects are masked from ‘package:stats’:\n",
            "\n",
            "    filter, lag\n",
            "\n",
            "\n",
            "The following objects are masked from ‘package:base’:\n",
            "\n",
            "    intersect, setdiff, setequal, union\n",
            "\n",
            "\n"
          ]
        }
      ],
      "source": [
        "install.packages(\"ggplot2\")\n",
        "install.packages(\"tinytex\")\n",
        "install.packages(\"rmarkdown\", dep = TRUE)\n",
        "install.packages(\"plotly\")\n",
        "install.packages(\"DescTools\")\n",
        "install.packages(\"dplyr\")\n",
        "\n",
        "library(ggplot2)\n",
        "library(tinytex)\n",
        "library(rmarkdown)\n",
        "library(plotly)\n",
        "library(DescTools)\n",
        "library(dplyr)"
      ]
    },
    {
      "cell_type": "code",
      "execution_count": 2,
      "metadata": {
        "colab": {
          "base_uri": "https://localhost:8080/",
          "height": 1000
        },
        "id": "_OCCxzoxb6SI",
        "outputId": "631f550b-19b9-4060-fe0f-5aee0facf7d4",
        "vscode": {
          "languageId": "r"
        }
      },
      "outputs": [
        {
          "data": {
            "text/html": [
              "<table class=\"dataframe\">\n",
              "<caption>A data.frame: 31593 × 10</caption>\n",
              "<thead>\n",
              "\t<tr><th scope=col>year</th><th scope=col>month</th><th scope=col>intent</th><th scope=col>police</th><th scope=col>sex</th><th scope=col>age</th><th scope=col>race</th><th scope=col>hispanic</th><th scope=col>place</th><th scope=col>education</th></tr>\n",
              "\t<tr><th scope=col>&lt;int&gt;</th><th scope=col>&lt;int&gt;</th><th scope=col>&lt;chr&gt;</th><th scope=col>&lt;int&gt;</th><th scope=col>&lt;chr&gt;</th><th scope=col>&lt;dbl&gt;</th><th scope=col>&lt;chr&gt;</th><th scope=col>&lt;chr&gt;</th><th scope=col>&lt;chr&gt;</th><th scope=col>&lt;chr&gt;</th></tr>\n",
              "</thead>\n",
              "<tbody>\n",
              "\t<tr><td>2008</td><td>1</td><td>Suicide   </td><td>0</td><td>M</td><td>45</td><td>White                         </td><td>No</td><td>Other specified   </td><td>Less than HS</td></tr>\n",
              "\t<tr><td>2008</td><td>1</td><td>Suicide   </td><td>0</td><td>M</td><td>35</td><td>White                         </td><td>No</td><td>Other unspecified </td><td>HS/GED      </td></tr>\n",
              "\t<tr><td>2008</td><td>1</td><td>Suicide   </td><td>0</td><td>M</td><td>64</td><td>White                         </td><td>No</td><td>Home              </td><td>BA+         </td></tr>\n",
              "\t<tr><td>2008</td><td>1</td><td>Suicide   </td><td>0</td><td>M</td><td>22</td><td>White                         </td><td>No</td><td>Other specified   </td><td>Some college</td></tr>\n",
              "\t<tr><td>2008</td><td>1</td><td>Suicide   </td><td>0</td><td>F</td><td>22</td><td>White                         </td><td>No</td><td>Home              </td><td>HS/GED      </td></tr>\n",
              "\t<tr><td>2008</td><td>1</td><td>Suicide   </td><td>0</td><td>F</td><td>20</td><td>White                         </td><td>No</td><td>Home              </td><td>Some college</td></tr>\n",
              "\t<tr><td>2008</td><td>1</td><td>Suicide   </td><td>0</td><td>M</td><td>42</td><td>Native American/Native Alaskan</td><td>No</td><td>Home              </td><td>Less than HS</td></tr>\n",
              "\t<tr><td>2008</td><td>1</td><td>Homicide  </td><td>0</td><td>M</td><td>43</td><td>White                         </td><td>No</td><td>Home              </td><td>HS/GED      </td></tr>\n",
              "\t<tr><td>2008</td><td>1</td><td>Suicide   </td><td>0</td><td>M</td><td>65</td><td>White                         </td><td>No</td><td>Home              </td><td>BA+         </td></tr>\n",
              "\t<tr><td>2008</td><td>1</td><td>Homicide  </td><td>0</td><td>M</td><td>34</td><td>Black                         </td><td>No</td><td>Home              </td><td>HS/GED      </td></tr>\n",
              "\t<tr><td>2008</td><td>2</td><td>Suicide   </td><td>0</td><td>M</td><td>37</td><td>White                         </td><td>No</td><td>Home              </td><td>Some college</td></tr>\n",
              "\t<tr><td>2008</td><td>2</td><td>Accidental</td><td>0</td><td>M</td><td>22</td><td>White                         </td><td>No</td><td>Other unspecified </td><td>Some college</td></tr>\n",
              "\t<tr><td>2008</td><td>2</td><td>Suicide   </td><td>0</td><td>M</td><td>22</td><td>Native American/Native Alaskan</td><td>No</td><td>Home              </td><td>HS/GED      </td></tr>\n",
              "\t<tr><td>2008</td><td>2</td><td>Suicide   </td><td>0</td><td>M</td><td>35</td><td>Native American/Native Alaskan</td><td>No</td><td>Home              </td><td>HS/GED      </td></tr>\n",
              "\t<tr><td>2008</td><td>2</td><td>Homicide  </td><td>0</td><td>F</td><td>27</td><td>Native American/Native Alaskan</td><td>No</td><td>Street            </td><td>Less than HS</td></tr>\n",
              "\t<tr><td>2008</td><td>2</td><td>Suicide   </td><td>0</td><td>M</td><td>21</td><td>Native American/Native Alaskan</td><td>No</td><td>Home              </td><td>HS/GED      </td></tr>\n",
              "\t<tr><td>2008</td><td>2</td><td>Suicide   </td><td>0</td><td>M</td><td>64</td><td>White                         </td><td>No</td><td>Home              </td><td>HS/GED      </td></tr>\n",
              "\t<tr><td>2008</td><td>2</td><td>Homicide  </td><td>0</td><td>M</td><td>23</td><td>Native American/Native Alaskan</td><td>No</td><td>Home              </td><td>Less than HS</td></tr>\n",
              "\t<tr><td>2008</td><td>2</td><td>Suicide   </td><td>0</td><td>M</td><td>26</td><td>White                         </td><td>No</td><td>Home              </td><td>HS/GED      </td></tr>\n",
              "\t<tr><td>2008</td><td>3</td><td>Suicide   </td><td>0</td><td>M</td><td>51</td><td>White                         </td><td>No</td><td>Trade/service area</td><td>HS/GED      </td></tr>\n",
              "\t<tr><td>2008</td><td>3</td><td>Suicide   </td><td>0</td><td>M</td><td>50</td><td>Black                         </td><td>No</td><td>Other unspecified </td><td>Some college</td></tr>\n",
              "\t<tr><td>2008</td><td>3</td><td>Suicide   </td><td>0</td><td>F</td><td>20</td><td>White                         </td><td>No</td><td>Home              </td><td>Some college</td></tr>\n",
              "\t<tr><td>2008</td><td>3</td><td>Suicide   </td><td>0</td><td>F</td><td>51</td><td>White                         </td><td>No</td><td>Other specified   </td><td>BA+         </td></tr>\n",
              "\t<tr><td>2008</td><td>3</td><td>Suicide   </td><td>0</td><td>M</td><td>58</td><td>White                         </td><td>No</td><td>Home              </td><td>HS/GED      </td></tr>\n",
              "\t<tr><td>2008</td><td>2</td><td>Suicide   </td><td>0</td><td>M</td><td>59</td><td>White                         </td><td>No</td><td>Other unspecified </td><td>HS/GED      </td></tr>\n",
              "\t<tr><td>2008</td><td>2</td><td>Suicide   </td><td>0</td><td>M</td><td>23</td><td>Native American/Native Alaskan</td><td>No</td><td>Home              </td><td>Less than HS</td></tr>\n",
              "\t<tr><td>2008</td><td>3</td><td>Suicide   </td><td>0</td><td>M</td><td>49</td><td>White                         </td><td>No</td><td>Home              </td><td>HS/GED      </td></tr>\n",
              "\t<tr><td>2008</td><td>3</td><td>Homicide  </td><td>1</td><td>M</td><td>42</td><td>White                         </td><td>No</td><td>Other unspecified </td><td>Some college</td></tr>\n",
              "\t<tr><td>2008</td><td>3</td><td>Suicide   </td><td>0</td><td>M</td><td>39</td><td>White                         </td><td>No</td><td>Home              </td><td>HS/GED      </td></tr>\n",
              "\t<tr><td>2008</td><td>4</td><td>Homicide  </td><td>0</td><td>M</td><td>48</td><td>Native American/Native Alaskan</td><td>No</td><td>Other specified   </td><td>HS/GED      </td></tr>\n",
              "\t<tr><td>⋮</td><td>⋮</td><td>⋮</td><td>⋮</td><td>⋮</td><td>⋮</td><td>⋮</td><td>⋮</td><td>⋮</td><td>⋮</td></tr>\n",
              "\t<tr><td>2008</td><td>12</td><td>Homicide</td><td>0</td><td>M</td><td>33</td><td>Asian/Pacific Islander</td><td>No</td><td>Home              </td><td>BA+         </td></tr>\n",
              "\t<tr><td>2008</td><td>12</td><td>Homicide</td><td>1</td><td>M</td><td>40</td><td>Hispanic              </td><td>No</td><td>Other unspecified </td><td>HS/GED      </td></tr>\n",
              "\t<tr><td>2008</td><td>12</td><td>Suicide </td><td>0</td><td>M</td><td>53</td><td>White                 </td><td>No</td><td>Trade/service area</td><td>BA+         </td></tr>\n",
              "\t<tr><td>2008</td><td>12</td><td>Suicide </td><td>0</td><td>M</td><td>80</td><td>White                 </td><td>No</td><td>Home              </td><td>Less than HS</td></tr>\n",
              "\t<tr><td>2008</td><td>12</td><td>Suicide </td><td>0</td><td>M</td><td>61</td><td>Hispanic              </td><td>No</td><td>Home              </td><td>BA+         </td></tr>\n",
              "\t<tr><td>2008</td><td>12</td><td>Suicide </td><td>0</td><td>M</td><td>17</td><td>White                 </td><td>No</td><td>Street            </td><td>Less than HS</td></tr>\n",
              "\t<tr><td>2008</td><td>12</td><td>Homicide</td><td>0</td><td>M</td><td>24</td><td>White                 </td><td>No</td><td>Home              </td><td>HS/GED      </td></tr>\n",
              "\t<tr><td>2008</td><td>12</td><td>Homicide</td><td>0</td><td>M</td><td>32</td><td>Black                 </td><td>No</td><td>Street            </td><td>Some college</td></tr>\n",
              "\t<tr><td>2008</td><td>12</td><td>Suicide </td><td>0</td><td>M</td><td>47</td><td>White                 </td><td>No</td><td>Home              </td><td>HS/GED      </td></tr>\n",
              "\t<tr><td>2008</td><td>12</td><td>Homicide</td><td>0</td><td>M</td><td>32</td><td>Black                 </td><td>No</td><td>Street            </td><td>HS/GED      </td></tr>\n",
              "\t<tr><td>2008</td><td>12</td><td>Homicide</td><td>0</td><td>M</td><td>22</td><td>Hispanic              </td><td>No</td><td>Street            </td><td>HS/GED      </td></tr>\n",
              "\t<tr><td>2008</td><td>12</td><td>Suicide </td><td>0</td><td>M</td><td>49</td><td>Black                 </td><td>No</td><td>Home              </td><td>BA+         </td></tr>\n",
              "\t<tr><td>2008</td><td>12</td><td>Suicide </td><td>0</td><td>M</td><td>16</td><td>Black                 </td><td>No</td><td>Home              </td><td>Less than HS</td></tr>\n",
              "\t<tr><td>2008</td><td>12</td><td>Homicide</td><td>0</td><td>M</td><td>46</td><td>Black                 </td><td>No</td><td>Other specified   </td><td>HS/GED      </td></tr>\n",
              "\t<tr><td>2008</td><td>12</td><td>Homicide</td><td>0</td><td>M</td><td>39</td><td>Hispanic              </td><td>No</td><td>Home              </td><td>HS/GED      </td></tr>\n",
              "\t<tr><td>2008</td><td>12</td><td>Homicide</td><td>0</td><td>M</td><td>41</td><td>Black                 </td><td>No</td><td>Home              </td><td>HS/GED      </td></tr>\n",
              "\t<tr><td>2008</td><td>12</td><td>Homicide</td><td>0</td><td>M</td><td>17</td><td>Black                 </td><td>No</td><td>Street            </td><td>Less than HS</td></tr>\n",
              "\t<tr><td>2008</td><td>12</td><td>Suicide </td><td>0</td><td>M</td><td>28</td><td>Hispanic              </td><td>No</td><td>Home              </td><td>HS/GED      </td></tr>\n",
              "\t<tr><td>2008</td><td>12</td><td>Homicide</td><td>0</td><td>M</td><td>25</td><td>Black                 </td><td>No</td><td>Other specified   </td><td>HS/GED      </td></tr>\n",
              "\t<tr><td>2008</td><td>12</td><td>Homicide</td><td>0</td><td>M</td><td>35</td><td>White                 </td><td>No</td><td>Trade/service area</td><td>HS/GED      </td></tr>\n",
              "\t<tr><td>2008</td><td>12</td><td>Suicide </td><td>0</td><td>M</td><td>17</td><td>Hispanic              </td><td>No</td><td>Home              </td><td>Less than HS</td></tr>\n",
              "\t<tr><td>2008</td><td>12</td><td>Homicide</td><td>0</td><td>M</td><td>23</td><td>Black                 </td><td>No</td><td>Other specified   </td><td>Less than HS</td></tr>\n",
              "\t<tr><td>2008</td><td>12</td><td>Homicide</td><td>0</td><td>M</td><td>24</td><td>White                 </td><td>No</td><td>Street            </td><td>HS/GED      </td></tr>\n",
              "\t<tr><td>2008</td><td>12</td><td>Homicide</td><td>0</td><td>M</td><td>42</td><td>Black                 </td><td>No</td><td>Street            </td><td>HS/GED      </td></tr>\n",
              "\t<tr><td>2008</td><td>12</td><td>Homicide</td><td>0</td><td>M</td><td>34</td><td>Black                 </td><td>No</td><td>Street            </td><td>HS/GED      </td></tr>\n",
              "\t<tr><td>2008</td><td>12</td><td>Homicide</td><td>0</td><td>M</td><td>15</td><td>Hispanic              </td><td>No</td><td>Street            </td><td>Less than HS</td></tr>\n",
              "\t<tr><td>2008</td><td>12</td><td>Homicide</td><td>0</td><td>M</td><td>19</td><td>Black                 </td><td>No</td><td>Street            </td><td>Less than HS</td></tr>\n",
              "\t<tr><td>2008</td><td>12</td><td>Homicide</td><td>0</td><td>M</td><td>21</td><td>Black                 </td><td>No</td><td>Street            </td><td>HS/GED      </td></tr>\n",
              "\t<tr><td>2008</td><td>12</td><td>Homicide</td><td>0</td><td>M</td><td>18</td><td>Hispanic              </td><td>No</td><td>Street            </td><td>Less than HS</td></tr>\n",
              "\t<tr><td>2008</td><td>12</td><td>Suicide </td><td>0</td><td>M</td><td>79</td><td>White                 </td><td>No</td><td>Home              </td><td>BA+         </td></tr>\n",
              "</tbody>\n",
              "</table>\n"
            ],
            "text/latex": [
              "A data.frame: 31593 × 10\n",
              "\\begin{tabular}{llllllllll}\n",
              " year & month & intent & police & sex & age & race & hispanic & place & education\\\\\n",
              " <int> & <int> & <chr> & <int> & <chr> & <dbl> & <chr> & <chr> & <chr> & <chr>\\\\\n",
              "\\hline\n",
              "\t 2008 & 1 & Suicide    & 0 & M & 45 & White                          & No & Other specified    & Less than HS\\\\\n",
              "\t 2008 & 1 & Suicide    & 0 & M & 35 & White                          & No & Other unspecified  & HS/GED      \\\\\n",
              "\t 2008 & 1 & Suicide    & 0 & M & 64 & White                          & No & Home               & BA+         \\\\\n",
              "\t 2008 & 1 & Suicide    & 0 & M & 22 & White                          & No & Other specified    & Some college\\\\\n",
              "\t 2008 & 1 & Suicide    & 0 & F & 22 & White                          & No & Home               & HS/GED      \\\\\n",
              "\t 2008 & 1 & Suicide    & 0 & F & 20 & White                          & No & Home               & Some college\\\\\n",
              "\t 2008 & 1 & Suicide    & 0 & M & 42 & Native American/Native Alaskan & No & Home               & Less than HS\\\\\n",
              "\t 2008 & 1 & Homicide   & 0 & M & 43 & White                          & No & Home               & HS/GED      \\\\\n",
              "\t 2008 & 1 & Suicide    & 0 & M & 65 & White                          & No & Home               & BA+         \\\\\n",
              "\t 2008 & 1 & Homicide   & 0 & M & 34 & Black                          & No & Home               & HS/GED      \\\\\n",
              "\t 2008 & 2 & Suicide    & 0 & M & 37 & White                          & No & Home               & Some college\\\\\n",
              "\t 2008 & 2 & Accidental & 0 & M & 22 & White                          & No & Other unspecified  & Some college\\\\\n",
              "\t 2008 & 2 & Suicide    & 0 & M & 22 & Native American/Native Alaskan & No & Home               & HS/GED      \\\\\n",
              "\t 2008 & 2 & Suicide    & 0 & M & 35 & Native American/Native Alaskan & No & Home               & HS/GED      \\\\\n",
              "\t 2008 & 2 & Homicide   & 0 & F & 27 & Native American/Native Alaskan & No & Street             & Less than HS\\\\\n",
              "\t 2008 & 2 & Suicide    & 0 & M & 21 & Native American/Native Alaskan & No & Home               & HS/GED      \\\\\n",
              "\t 2008 & 2 & Suicide    & 0 & M & 64 & White                          & No & Home               & HS/GED      \\\\\n",
              "\t 2008 & 2 & Homicide   & 0 & M & 23 & Native American/Native Alaskan & No & Home               & Less than HS\\\\\n",
              "\t 2008 & 2 & Suicide    & 0 & M & 26 & White                          & No & Home               & HS/GED      \\\\\n",
              "\t 2008 & 3 & Suicide    & 0 & M & 51 & White                          & No & Trade/service area & HS/GED      \\\\\n",
              "\t 2008 & 3 & Suicide    & 0 & M & 50 & Black                          & No & Other unspecified  & Some college\\\\\n",
              "\t 2008 & 3 & Suicide    & 0 & F & 20 & White                          & No & Home               & Some college\\\\\n",
              "\t 2008 & 3 & Suicide    & 0 & F & 51 & White                          & No & Other specified    & BA+         \\\\\n",
              "\t 2008 & 3 & Suicide    & 0 & M & 58 & White                          & No & Home               & HS/GED      \\\\\n",
              "\t 2008 & 2 & Suicide    & 0 & M & 59 & White                          & No & Other unspecified  & HS/GED      \\\\\n",
              "\t 2008 & 2 & Suicide    & 0 & M & 23 & Native American/Native Alaskan & No & Home               & Less than HS\\\\\n",
              "\t 2008 & 3 & Suicide    & 0 & M & 49 & White                          & No & Home               & HS/GED      \\\\\n",
              "\t 2008 & 3 & Homicide   & 1 & M & 42 & White                          & No & Other unspecified  & Some college\\\\\n",
              "\t 2008 & 3 & Suicide    & 0 & M & 39 & White                          & No & Home               & HS/GED      \\\\\n",
              "\t 2008 & 4 & Homicide   & 0 & M & 48 & Native American/Native Alaskan & No & Other specified    & HS/GED      \\\\\n",
              "\t ⋮ & ⋮ & ⋮ & ⋮ & ⋮ & ⋮ & ⋮ & ⋮ & ⋮ & ⋮\\\\\n",
              "\t 2008 & 12 & Homicide & 0 & M & 33 & Asian/Pacific Islander & No & Home               & BA+         \\\\\n",
              "\t 2008 & 12 & Homicide & 1 & M & 40 & Hispanic               & No & Other unspecified  & HS/GED      \\\\\n",
              "\t 2008 & 12 & Suicide  & 0 & M & 53 & White                  & No & Trade/service area & BA+         \\\\\n",
              "\t 2008 & 12 & Suicide  & 0 & M & 80 & White                  & No & Home               & Less than HS\\\\\n",
              "\t 2008 & 12 & Suicide  & 0 & M & 61 & Hispanic               & No & Home               & BA+         \\\\\n",
              "\t 2008 & 12 & Suicide  & 0 & M & 17 & White                  & No & Street             & Less than HS\\\\\n",
              "\t 2008 & 12 & Homicide & 0 & M & 24 & White                  & No & Home               & HS/GED      \\\\\n",
              "\t 2008 & 12 & Homicide & 0 & M & 32 & Black                  & No & Street             & Some college\\\\\n",
              "\t 2008 & 12 & Suicide  & 0 & M & 47 & White                  & No & Home               & HS/GED      \\\\\n",
              "\t 2008 & 12 & Homicide & 0 & M & 32 & Black                  & No & Street             & HS/GED      \\\\\n",
              "\t 2008 & 12 & Homicide & 0 & M & 22 & Hispanic               & No & Street             & HS/GED      \\\\\n",
              "\t 2008 & 12 & Suicide  & 0 & M & 49 & Black                  & No & Home               & BA+         \\\\\n",
              "\t 2008 & 12 & Suicide  & 0 & M & 16 & Black                  & No & Home               & Less than HS\\\\\n",
              "\t 2008 & 12 & Homicide & 0 & M & 46 & Black                  & No & Other specified    & HS/GED      \\\\\n",
              "\t 2008 & 12 & Homicide & 0 & M & 39 & Hispanic               & No & Home               & HS/GED      \\\\\n",
              "\t 2008 & 12 & Homicide & 0 & M & 41 & Black                  & No & Home               & HS/GED      \\\\\n",
              "\t 2008 & 12 & Homicide & 0 & M & 17 & Black                  & No & Street             & Less than HS\\\\\n",
              "\t 2008 & 12 & Suicide  & 0 & M & 28 & Hispanic               & No & Home               & HS/GED      \\\\\n",
              "\t 2008 & 12 & Homicide & 0 & M & 25 & Black                  & No & Other specified    & HS/GED      \\\\\n",
              "\t 2008 & 12 & Homicide & 0 & M & 35 & White                  & No & Trade/service area & HS/GED      \\\\\n",
              "\t 2008 & 12 & Suicide  & 0 & M & 17 & Hispanic               & No & Home               & Less than HS\\\\\n",
              "\t 2008 & 12 & Homicide & 0 & M & 23 & Black                  & No & Other specified    & Less than HS\\\\\n",
              "\t 2008 & 12 & Homicide & 0 & M & 24 & White                  & No & Street             & HS/GED      \\\\\n",
              "\t 2008 & 12 & Homicide & 0 & M & 42 & Black                  & No & Street             & HS/GED      \\\\\n",
              "\t 2008 & 12 & Homicide & 0 & M & 34 & Black                  & No & Street             & HS/GED      \\\\\n",
              "\t 2008 & 12 & Homicide & 0 & M & 15 & Hispanic               & No & Street             & Less than HS\\\\\n",
              "\t 2008 & 12 & Homicide & 0 & M & 19 & Black                  & No & Street             & Less than HS\\\\\n",
              "\t 2008 & 12 & Homicide & 0 & M & 21 & Black                  & No & Street             & HS/GED      \\\\\n",
              "\t 2008 & 12 & Homicide & 0 & M & 18 & Hispanic               & No & Street             & Less than HS\\\\\n",
              "\t 2008 & 12 & Suicide  & 0 & M & 79 & White                  & No & Home               & BA+         \\\\\n",
              "\\end{tabular}\n"
            ],
            "text/markdown": [
              "\n",
              "A data.frame: 31593 × 10\n",
              "\n",
              "| year &lt;int&gt; | month &lt;int&gt; | intent &lt;chr&gt; | police &lt;int&gt; | sex &lt;chr&gt; | age &lt;dbl&gt; | race &lt;chr&gt; | hispanic &lt;chr&gt; | place &lt;chr&gt; | education &lt;chr&gt; |\n",
              "|---|---|---|---|---|---|---|---|---|---|\n",
              "| 2008 | 1 | Suicide    | 0 | M | 45 | White                          | No | Other specified    | Less than HS |\n",
              "| 2008 | 1 | Suicide    | 0 | M | 35 | White                          | No | Other unspecified  | HS/GED       |\n",
              "| 2008 | 1 | Suicide    | 0 | M | 64 | White                          | No | Home               | BA+          |\n",
              "| 2008 | 1 | Suicide    | 0 | M | 22 | White                          | No | Other specified    | Some college |\n",
              "| 2008 | 1 | Suicide    | 0 | F | 22 | White                          | No | Home               | HS/GED       |\n",
              "| 2008 | 1 | Suicide    | 0 | F | 20 | White                          | No | Home               | Some college |\n",
              "| 2008 | 1 | Suicide    | 0 | M | 42 | Native American/Native Alaskan | No | Home               | Less than HS |\n",
              "| 2008 | 1 | Homicide   | 0 | M | 43 | White                          | No | Home               | HS/GED       |\n",
              "| 2008 | 1 | Suicide    | 0 | M | 65 | White                          | No | Home               | BA+          |\n",
              "| 2008 | 1 | Homicide   | 0 | M | 34 | Black                          | No | Home               | HS/GED       |\n",
              "| 2008 | 2 | Suicide    | 0 | M | 37 | White                          | No | Home               | Some college |\n",
              "| 2008 | 2 | Accidental | 0 | M | 22 | White                          | No | Other unspecified  | Some college |\n",
              "| 2008 | 2 | Suicide    | 0 | M | 22 | Native American/Native Alaskan | No | Home               | HS/GED       |\n",
              "| 2008 | 2 | Suicide    | 0 | M | 35 | Native American/Native Alaskan | No | Home               | HS/GED       |\n",
              "| 2008 | 2 | Homicide   | 0 | F | 27 | Native American/Native Alaskan | No | Street             | Less than HS |\n",
              "| 2008 | 2 | Suicide    | 0 | M | 21 | Native American/Native Alaskan | No | Home               | HS/GED       |\n",
              "| 2008 | 2 | Suicide    | 0 | M | 64 | White                          | No | Home               | HS/GED       |\n",
              "| 2008 | 2 | Homicide   | 0 | M | 23 | Native American/Native Alaskan | No | Home               | Less than HS |\n",
              "| 2008 | 2 | Suicide    | 0 | M | 26 | White                          | No | Home               | HS/GED       |\n",
              "| 2008 | 3 | Suicide    | 0 | M | 51 | White                          | No | Trade/service area | HS/GED       |\n",
              "| 2008 | 3 | Suicide    | 0 | M | 50 | Black                          | No | Other unspecified  | Some college |\n",
              "| 2008 | 3 | Suicide    | 0 | F | 20 | White                          | No | Home               | Some college |\n",
              "| 2008 | 3 | Suicide    | 0 | F | 51 | White                          | No | Other specified    | BA+          |\n",
              "| 2008 | 3 | Suicide    | 0 | M | 58 | White                          | No | Home               | HS/GED       |\n",
              "| 2008 | 2 | Suicide    | 0 | M | 59 | White                          | No | Other unspecified  | HS/GED       |\n",
              "| 2008 | 2 | Suicide    | 0 | M | 23 | Native American/Native Alaskan | No | Home               | Less than HS |\n",
              "| 2008 | 3 | Suicide    | 0 | M | 49 | White                          | No | Home               | HS/GED       |\n",
              "| 2008 | 3 | Homicide   | 1 | M | 42 | White                          | No | Other unspecified  | Some college |\n",
              "| 2008 | 3 | Suicide    | 0 | M | 39 | White                          | No | Home               | HS/GED       |\n",
              "| 2008 | 4 | Homicide   | 0 | M | 48 | Native American/Native Alaskan | No | Other specified    | HS/GED       |\n",
              "| ⋮ | ⋮ | ⋮ | ⋮ | ⋮ | ⋮ | ⋮ | ⋮ | ⋮ | ⋮ |\n",
              "| 2008 | 12 | Homicide | 0 | M | 33 | Asian/Pacific Islander | No | Home               | BA+          |\n",
              "| 2008 | 12 | Homicide | 1 | M | 40 | Hispanic               | No | Other unspecified  | HS/GED       |\n",
              "| 2008 | 12 | Suicide  | 0 | M | 53 | White                  | No | Trade/service area | BA+          |\n",
              "| 2008 | 12 | Suicide  | 0 | M | 80 | White                  | No | Home               | Less than HS |\n",
              "| 2008 | 12 | Suicide  | 0 | M | 61 | Hispanic               | No | Home               | BA+          |\n",
              "| 2008 | 12 | Suicide  | 0 | M | 17 | White                  | No | Street             | Less than HS |\n",
              "| 2008 | 12 | Homicide | 0 | M | 24 | White                  | No | Home               | HS/GED       |\n",
              "| 2008 | 12 | Homicide | 0 | M | 32 | Black                  | No | Street             | Some college |\n",
              "| 2008 | 12 | Suicide  | 0 | M | 47 | White                  | No | Home               | HS/GED       |\n",
              "| 2008 | 12 | Homicide | 0 | M | 32 | Black                  | No | Street             | HS/GED       |\n",
              "| 2008 | 12 | Homicide | 0 | M | 22 | Hispanic               | No | Street             | HS/GED       |\n",
              "| 2008 | 12 | Suicide  | 0 | M | 49 | Black                  | No | Home               | BA+          |\n",
              "| 2008 | 12 | Suicide  | 0 | M | 16 | Black                  | No | Home               | Less than HS |\n",
              "| 2008 | 12 | Homicide | 0 | M | 46 | Black                  | No | Other specified    | HS/GED       |\n",
              "| 2008 | 12 | Homicide | 0 | M | 39 | Hispanic               | No | Home               | HS/GED       |\n",
              "| 2008 | 12 | Homicide | 0 | M | 41 | Black                  | No | Home               | HS/GED       |\n",
              "| 2008 | 12 | Homicide | 0 | M | 17 | Black                  | No | Street             | Less than HS |\n",
              "| 2008 | 12 | Suicide  | 0 | M | 28 | Hispanic               | No | Home               | HS/GED       |\n",
              "| 2008 | 12 | Homicide | 0 | M | 25 | Black                  | No | Other specified    | HS/GED       |\n",
              "| 2008 | 12 | Homicide | 0 | M | 35 | White                  | No | Trade/service area | HS/GED       |\n",
              "| 2008 | 12 | Suicide  | 0 | M | 17 | Hispanic               | No | Home               | Less than HS |\n",
              "| 2008 | 12 | Homicide | 0 | M | 23 | Black                  | No | Other specified    | Less than HS |\n",
              "| 2008 | 12 | Homicide | 0 | M | 24 | White                  | No | Street             | HS/GED       |\n",
              "| 2008 | 12 | Homicide | 0 | M | 42 | Black                  | No | Street             | HS/GED       |\n",
              "| 2008 | 12 | Homicide | 0 | M | 34 | Black                  | No | Street             | HS/GED       |\n",
              "| 2008 | 12 | Homicide | 0 | M | 15 | Hispanic               | No | Street             | Less than HS |\n",
              "| 2008 | 12 | Homicide | 0 | M | 19 | Black                  | No | Street             | Less than HS |\n",
              "| 2008 | 12 | Homicide | 0 | M | 21 | Black                  | No | Street             | HS/GED       |\n",
              "| 2008 | 12 | Homicide | 0 | M | 18 | Hispanic               | No | Street             | Less than HS |\n",
              "| 2008 | 12 | Suicide  | 0 | M | 79 | White                  | No | Home               | BA+          |\n",
              "\n"
            ],
            "text/plain": [
              "      year month intent     police sex age race                          \n",
              "1     2008 1     Suicide    0      M   45  White                         \n",
              "2     2008 1     Suicide    0      M   35  White                         \n",
              "3     2008 1     Suicide    0      M   64  White                         \n",
              "4     2008 1     Suicide    0      M   22  White                         \n",
              "5     2008 1     Suicide    0      F   22  White                         \n",
              "6     2008 1     Suicide    0      F   20  White                         \n",
              "7     2008 1     Suicide    0      M   42  Native American/Native Alaskan\n",
              "8     2008 1     Homicide   0      M   43  White                         \n",
              "9     2008 1     Suicide    0      M   65  White                         \n",
              "10    2008 1     Homicide   0      M   34  Black                         \n",
              "11    2008 2     Suicide    0      M   37  White                         \n",
              "12    2008 2     Accidental 0      M   22  White                         \n",
              "13    2008 2     Suicide    0      M   22  Native American/Native Alaskan\n",
              "14    2008 2     Suicide    0      M   35  Native American/Native Alaskan\n",
              "15    2008 2     Homicide   0      F   27  Native American/Native Alaskan\n",
              "16    2008 2     Suicide    0      M   21  Native American/Native Alaskan\n",
              "17    2008 2     Suicide    0      M   64  White                         \n",
              "18    2008 2     Homicide   0      M   23  Native American/Native Alaskan\n",
              "19    2008 2     Suicide    0      M   26  White                         \n",
              "20    2008 3     Suicide    0      M   51  White                         \n",
              "21    2008 3     Suicide    0      M   50  Black                         \n",
              "22    2008 3     Suicide    0      F   20  White                         \n",
              "23    2008 3     Suicide    0      F   51  White                         \n",
              "24    2008 3     Suicide    0      M   58  White                         \n",
              "25    2008 2     Suicide    0      M   59  White                         \n",
              "26    2008 2     Suicide    0      M   23  Native American/Native Alaskan\n",
              "27    2008 3     Suicide    0      M   49  White                         \n",
              "28    2008 3     Homicide   1      M   42  White                         \n",
              "29    2008 3     Suicide    0      M   39  White                         \n",
              "30    2008 4     Homicide   0      M   48  Native American/Native Alaskan\n",
              "⋮     ⋮    ⋮     ⋮          ⋮      ⋮   ⋮   ⋮                             \n",
              "31564 2008 12    Homicide   0      M   33  Asian/Pacific Islander        \n",
              "31565 2008 12    Homicide   1      M   40  Hispanic                      \n",
              "31566 2008 12    Suicide    0      M   53  White                         \n",
              "31567 2008 12    Suicide    0      M   80  White                         \n",
              "31568 2008 12    Suicide    0      M   61  Hispanic                      \n",
              "31569 2008 12    Suicide    0      M   17  White                         \n",
              "31570 2008 12    Homicide   0      M   24  White                         \n",
              "31571 2008 12    Homicide   0      M   32  Black                         \n",
              "31572 2008 12    Suicide    0      M   47  White                         \n",
              "31573 2008 12    Homicide   0      M   32  Black                         \n",
              "31574 2008 12    Homicide   0      M   22  Hispanic                      \n",
              "31575 2008 12    Suicide    0      M   49  Black                         \n",
              "31576 2008 12    Suicide    0      M   16  Black                         \n",
              "31577 2008 12    Homicide   0      M   46  Black                         \n",
              "31578 2008 12    Homicide   0      M   39  Hispanic                      \n",
              "31579 2008 12    Homicide   0      M   41  Black                         \n",
              "31580 2008 12    Homicide   0      M   17  Black                         \n",
              "31581 2008 12    Suicide    0      M   28  Hispanic                      \n",
              "31582 2008 12    Homicide   0      M   25  Black                         \n",
              "31583 2008 12    Homicide   0      M   35  White                         \n",
              "31584 2008 12    Suicide    0      M   17  Hispanic                      \n",
              "31585 2008 12    Homicide   0      M   23  Black                         \n",
              "31586 2008 12    Homicide   0      M   24  White                         \n",
              "31587 2008 12    Homicide   0      M   42  Black                         \n",
              "31588 2008 12    Homicide   0      M   34  Black                         \n",
              "31589 2008 12    Homicide   0      M   15  Hispanic                      \n",
              "31590 2008 12    Homicide   0      M   19  Black                         \n",
              "31591 2008 12    Homicide   0      M   21  Black                         \n",
              "31592 2008 12    Homicide   0      M   18  Hispanic                      \n",
              "31593 2008 12    Suicide    0      M   79  White                         \n",
              "      hispanic place              education   \n",
              "1     No       Other specified    Less than HS\n",
              "2     No       Other unspecified  HS/GED      \n",
              "3     No       Home               BA+         \n",
              "4     No       Other specified    Some college\n",
              "5     No       Home               HS/GED      \n",
              "6     No       Home               Some college\n",
              "7     No       Home               Less than HS\n",
              "8     No       Home               HS/GED      \n",
              "9     No       Home               BA+         \n",
              "10    No       Home               HS/GED      \n",
              "11    No       Home               Some college\n",
              "12    No       Other unspecified  Some college\n",
              "13    No       Home               HS/GED      \n",
              "14    No       Home               HS/GED      \n",
              "15    No       Street             Less than HS\n",
              "16    No       Home               HS/GED      \n",
              "17    No       Home               HS/GED      \n",
              "18    No       Home               Less than HS\n",
              "19    No       Home               HS/GED      \n",
              "20    No       Trade/service area HS/GED      \n",
              "21    No       Other unspecified  Some college\n",
              "22    No       Home               Some college\n",
              "23    No       Other specified    BA+         \n",
              "24    No       Home               HS/GED      \n",
              "25    No       Other unspecified  HS/GED      \n",
              "26    No       Home               Less than HS\n",
              "27    No       Home               HS/GED      \n",
              "28    No       Other unspecified  Some college\n",
              "29    No       Home               HS/GED      \n",
              "30    No       Other specified    HS/GED      \n",
              "⋮     ⋮        ⋮                  ⋮           \n",
              "31564 No       Home               BA+         \n",
              "31565 No       Other unspecified  HS/GED      \n",
              "31566 No       Trade/service area BA+         \n",
              "31567 No       Home               Less than HS\n",
              "31568 No       Home               BA+         \n",
              "31569 No       Street             Less than HS\n",
              "31570 No       Home               HS/GED      \n",
              "31571 No       Street             Some college\n",
              "31572 No       Home               HS/GED      \n",
              "31573 No       Street             HS/GED      \n",
              "31574 No       Street             HS/GED      \n",
              "31575 No       Home               BA+         \n",
              "31576 No       Home               Less than HS\n",
              "31577 No       Other specified    HS/GED      \n",
              "31578 No       Home               HS/GED      \n",
              "31579 No       Home               HS/GED      \n",
              "31580 No       Street             Less than HS\n",
              "31581 No       Home               HS/GED      \n",
              "31582 No       Other specified    HS/GED      \n",
              "31583 No       Trade/service area HS/GED      \n",
              "31584 No       Home               Less than HS\n",
              "31585 No       Other specified    Less than HS\n",
              "31586 No       Street             HS/GED      \n",
              "31587 No       Street             HS/GED      \n",
              "31588 No       Street             HS/GED      \n",
              "31589 No       Street             Less than HS\n",
              "31590 No       Street             Less than HS\n",
              "31591 No       Street             HS/GED      \n",
              "31592 No       Street             Less than HS\n",
              "31593 No       Home               BA+         "
            ]
          },
          "metadata": {},
          "output_type": "display_data"
        }
      ],
      "source": [
        "gunDeathsData_2008 <- read.csv(\"/content/guns_2008.csv\", header = TRUE, sep = \",\")\n",
        "View(gunDeathsData_2008)"
      ]
    },
    {
      "cell_type": "code",
      "execution_count": 3,
      "metadata": {
        "colab": {
          "base_uri": "https://localhost:8080/",
          "height": 34
        },
        "id": "ehS1kJbVdfeG",
        "outputId": "e1fe45e0-7aa0-4932-8fc2-cee8c7b67e63",
        "vscode": {
          "languageId": "r"
        }
      },
      "outputs": [
        {
          "data": {
            "text/html": [
              "0"
            ],
            "text/latex": [
              "0"
            ],
            "text/markdown": [
              "0"
            ],
            "text/plain": [
              "[1] 0"
            ]
          },
          "metadata": {},
          "output_type": "display_data"
        }
      ],
      "source": [
        "# Any null data?\n",
        "sum(is.na(gunDeathsData_2008))"
      ]
    },
    {
      "cell_type": "code",
      "execution_count": null,
      "metadata": {
        "colab": {
          "base_uri": "https://localhost:8080/",
          "height": 86
        },
        "id": "v410uFaddjAT",
        "outputId": "c6e22756-82eb-43a6-b596-772eede2e6d8",
        "vscode": {
          "languageId": "r"
        }
      },
      "outputs": [
        {
          "name": "stdout",
          "output_type": "stream",
          "text": [
            "[1] \"Mean values for each numeric column:\"\n",
            "[1] \"Mean Age: \"\n"
          ]
        },
        {
          "data": {
            "text/html": [
              "42.1444490170633"
            ],
            "text/latex": [
              "42.1444490170633"
            ],
            "text/markdown": [
              "42.1444490170633"
            ],
            "text/plain": [
              "[1] 42.14445"
            ]
          },
          "metadata": {},
          "output_type": "display_data"
        },
        {
          "name": "stdout",
          "output_type": "stream",
          "text": [
            "[1] \"-----------------------------\"\n"
          ]
        }
      ],
      "source": [
        "# Gun related deaths from 2008\n",
        "# Statistical information\n",
        "\n",
        "# Mean for each numeric column:\n",
        "# Only one numeric column was found: Age\n",
        "print(\"Mean values for each numeric column:\")\n",
        "print(\"Mean Age: \") # 42.144\n",
        "mean(gunDeathsData_2008$age)\n",
        "print(\"-----------------------------\")"
      ]
    },
    {
      "cell_type": "code",
      "execution_count": 5,
      "metadata": {
        "colab": {
          "base_uri": "https://localhost:8080/",
          "height": 52
        },
        "id": "pnFQxD5wdsve",
        "outputId": "93c52d1c-4c43-4321-fd43-6ee9beb2ac03",
        "vscode": {
          "languageId": "r"
        }
      },
      "outputs": [
        {
          "name": "stdout",
          "output_type": "stream",
          "text": [
            "[1] \"Median value for the age column:\"\n"
          ]
        },
        {
          "data": {
            "text/html": [
              "39"
            ],
            "text/latex": [
              "39"
            ],
            "text/markdown": [
              "39"
            ],
            "text/plain": [
              "[1] 39"
            ]
          },
          "metadata": {},
          "output_type": "display_data"
        }
      ],
      "source": [
        "# Median Age:\n",
        "print(\"Median value for the age column:\") # 38\n",
        "median(gunDeathsData_2008$age)"
      ]
    },
    {
      "cell_type": "code",
      "execution_count": 6,
      "metadata": {
        "colab": {
          "base_uri": "https://localhost:8080/",
          "height": 52
        },
        "id": "l2Rzv5sydyT5",
        "outputId": "a8ca1155-52d3-4490-f991-c3aa2301d601",
        "vscode": {
          "languageId": "r"
        }
      },
      "outputs": [
        {
          "name": "stdout",
          "output_type": "stream",
          "text": [
            "[1] \"Most occuring value for the age column:\"\n"
          ]
        },
        {
          "data": {
            "text/html": [
              "22"
            ],
            "text/latex": [
              "22"
            ],
            "text/markdown": [
              "22"
            ],
            "text/plain": [
              "[1] 22\n",
              "attr(,\"freq\")\n",
              "[1] 871"
            ]
          },
          "metadata": {},
          "output_type": "display_data"
        }
      ],
      "source": [
        "# Mode Age:\n",
        "print(\"Most occuring value for the age column:\") # 22\n",
        "Mode(gunDeathsData_2008$age)"
      ]
    },
    {
      "cell_type": "code",
      "execution_count": 7,
      "metadata": {
        "colab": {
          "base_uri": "https://localhost:8080/",
          "height": 52
        },
        "id": "hFeJ9l2_d311",
        "outputId": "73eaa844-5148-4676-e1e6-4ebbb512c99a",
        "vscode": {
          "languageId": "r"
        }
      },
      "outputs": [
        {
          "name": "stdout",
          "output_type": "stream",
          "text": [
            "[1] \"Standard Deviation of the age:\"\n"
          ]
        },
        {
          "data": {
            "text/html": [
              "19.2056729011428"
            ],
            "text/latex": [
              "19.2056729011428"
            ],
            "text/markdown": [
              "19.2056729011428"
            ],
            "text/plain": [
              "[1] 19.20567"
            ]
          },
          "metadata": {},
          "output_type": "display_data"
        }
      ],
      "source": [
        "# Standard Deviation Age:\n",
        "print(\"Standard Deviation of the age:\") #19.206 years\n",
        "SD(gunDeathsData_2008$age)"
      ]
    },
    {
      "cell_type": "code",
      "execution_count": 8,
      "metadata": {
        "colab": {
          "base_uri": "https://localhost:8080/",
          "height": 437
        },
        "id": "54L3i-fNeCNy",
        "outputId": "1479728d-a6e8-42a2-f183-15da6c385149",
        "vscode": {
          "languageId": "r"
        }
      },
      "outputs": [
        {
          "data": {
            "image/png": "[encoded data removed]",
            "text/plain": [
              "Plot with title “Age of Victims of Gun-related Deaths by Race”"
            ]
          },
          "metadata": {
            "image/png": {
              "height": 420,
              "width": 420
            }
          },
          "output_type": "display_data"
        }
      ],
      "source": [
        "# creating boxplot on age and race:\n",
        "boxplot(gunDeathsData_2008$age ~ gunDeathsData_2008$race, data = gunDeathsData_2008,\n",
        "        main = \"Age of Victims of Gun-related Deaths by Race\",\n",
        "        xlab = \"Race\",\n",
        "        ylab = \"Age\")\n"
      ]
    },
    {
      "cell_type": "code",
      "execution_count": 9,
      "metadata": {
        "colab": {
          "base_uri": "https://localhost:8080/",
          "height": 437
        },
        "id": "MzZ4IT9qequa",
        "outputId": "bdec9a06-bbfd-4c46-a0b2-fe4190bef295",
        "vscode": {
          "languageId": "r"
        }
      },
      "outputs": [
        {
          "data": {
            "image/png": "[encoded data removed]",
            "text/plain": [
              "Plot with title “Histogram of gunDeathsData_2008$age”"
            ]
          },
          "metadata": {
            "image/png": {
              "height": 420,
              "width": 420
            }
          },
          "output_type": "display_data"
        }
      ],
      "source": [
        "# Constructing the histogram:\n",
        "\n",
        "hist(gunDeathsData_2008$age, xlab=\"Victims of Gun Violence By Age\", col = \"red\", border = \"black\")"
      ]
    },
    {
      "cell_type": "code",
      "execution_count": 10,
      "metadata": {
        "colab": {
          "base_uri": "https://localhost:8080/",
          "height": 437
        },
        "id": "V4UYhcrUexIc",
        "outputId": "3c5f0e1a-eb3a-4538-d095-726b79795310",
        "vscode": {
          "languageId": "r"
        }
      },
      "outputs": [
        {
          "data": {
            "image/png": "[encoded data removed]",
            "text/plain": [
              "Plot with title “Age of Victims of Gun-related Deaths by Gender”"
            ]
          },
          "metadata": {
            "image/png": {
              "height": 420,
              "width": 420
            }
          },
          "output_type": "display_data"
        }
      ],
      "source": [
        "# Creating a boxplot on age and gender:\n",
        "boxplot(gunDeathsData_2008$age ~ gunDeathsData_2008$sex, data = gunDeathsData_2008,\n",
        "        main = \"Age of Victims of Gun-related Deaths by Gender\",\n",
        "        xlab = \"Gender\",\n",
        "        ylab = \"Age\")\n"
      ]
    },
    {
      "cell_type": "code",
      "execution_count": 11,
      "metadata": {
        "colab": {
          "base_uri": "https://localhost:8080/",
          "height": 437
        },
        "id": "8-e11k2gfEVJ",
        "outputId": "176f4e9b-4a75-4216-ee4e-2ccf6a6a9803",
        "vscode": {
          "languageId": "r"
        }
      },
      "outputs": [
        {
          "data": {
            "image/png": "[encoded data removed]",
            "text/plain": [
              "Plot with title “Histogram of gunDeathsData_2008$month”"
            ]
          },
          "metadata": {
            "image/png": {
              "height": 420,
              "width": 420
            }
          },
          "output_type": "display_data"
        }
      ],
      "source": [
        "# Constructing the histogram for number of deaths by month:\n",
        "\n",
        "hist(gunDeathsData_2008$month, xlab=\"Total Victims of Gun Violence By Month\", col = \"blue\", border = \"black\")"
      ]
    },
    {
      "cell_type": "code",
      "execution_count": 12,
      "metadata": {
        "colab": {
          "base_uri": "https://localhost:8080/",
          "height": 437
        },
        "id": "tzuIMbLMfRPP",
        "outputId": "b33b9c26-1d50-4dd8-8d82-0c8bacadbb6c",
        "vscode": {
          "languageId": "r"
        }
      },
      "outputs": [
        {
          "data": {
            "image/png": "[encoded data removed]",
            "text/plain": [
              "Plot with title “Age of victims of Gun-related Deaths by Intent”"
            ]
          },
          "metadata": {
            "image/png": {
              "height": 420,
              "width": 420
            }
          },
          "output_type": "display_data"
        }
      ],
      "source": [
        "# Creating a boxplot on age and intentions behind the gun:\n",
        "boxplot(gunDeathsData_2008$age ~ gunDeathsData_2008$intent, data = gunDeathsData_2008,\n",
        "  main = \"Age of victims of Gun-related Deaths by Intent\",\n",
        "  xlab = \"Intentions With the Gun\",\n",
        "  ylab = \"Age\")\n",
        "\n",
        "# Homicides have the most outliers"
      ]
    },
    {
      "cell_type": "code",
      "execution_count": 13,
      "metadata": {
        "colab": {
          "base_uri": "https://localhost:8080/",
          "height": 255
        },
        "id": "6L3WaH2cgFI_",
        "outputId": "7fa52c53-7bff-408e-ba01-27bdbc194ae4",
        "vscode": {
          "languageId": "r"
        }
      },
      "outputs": [
        {
          "data": {
            "text/html": [
              "<table class=\"dataframe\">\n",
              "<caption>A data.frame: 5 × 2</caption>\n",
              "<thead>\n",
              "\t<tr><th scope=col>gunDeathsData_2008$race</th><th scope=col>n</th></tr>\n",
              "\t<tr><th scope=col>&lt;chr&gt;</th><th scope=col>&lt;int&gt;</th></tr>\n",
              "</thead>\n",
              "<tbody>\n",
              "\t<tr><td>Asian/Pacific Islander        </td><td>  382</td></tr>\n",
              "\t<tr><td>Black                         </td><td> 7774</td></tr>\n",
              "\t<tr><td>Hispanic                      </td><td> 3256</td></tr>\n",
              "\t<tr><td>Native American/Native Alaskan</td><td>  256</td></tr>\n",
              "\t<tr><td>White                         </td><td>19925</td></tr>\n",
              "</tbody>\n",
              "</table>\n"
            ],
            "text/latex": [
              "A data.frame: 5 × 2\n",
              "\\begin{tabular}{ll}\n",
              " gunDeathsData\\_2008\\$race & n\\\\\n",
              " <chr> & <int>\\\\\n",
              "\\hline\n",
              "\t Asian/Pacific Islander         &   382\\\\\n",
              "\t Black                          &  7774\\\\\n",
              "\t Hispanic                       &  3256\\\\\n",
              "\t Native American/Native Alaskan &   256\\\\\n",
              "\t White                          & 19925\\\\\n",
              "\\end{tabular}\n"
            ],
            "text/markdown": [
              "\n",
              "A data.frame: 5 × 2\n",
              "\n",
              "| gunDeathsData_2008$race &lt;chr&gt; | n &lt;int&gt; |\n",
              "|---|---|\n",
              "| Asian/Pacific Islander         |   382 |\n",
              "| Black                          |  7774 |\n",
              "| Hispanic                       |  3256 |\n",
              "| Native American/Native Alaskan |   256 |\n",
              "| White                          | 19925 |\n",
              "\n"
            ],
            "text/plain": [
              "  gunDeathsData_2008$race        n    \n",
              "1 Asian/Pacific Islander           382\n",
              "2 Black                           7774\n",
              "3 Hispanic                        3256\n",
              "4 Native American/Native Alaskan   256\n",
              "5 White                          19925"
            ]
          },
          "metadata": {},
          "output_type": "display_data"
        }
      ],
      "source": [
        "gunDeathsData_2008 %>%\n",
        "  count(gunDeathsData_2008$race)"
      ]
    },
    {
      "cell_type": "code",
      "execution_count": 14,
      "metadata": {
        "colab": {
          "base_uri": "https://localhost:8080/",
          "height": 161
        },
        "id": "oGuhoRt2gJt9",
        "outputId": "a3437212-62b2-463d-84d5-4307837d04f4",
        "vscode": {
          "languageId": "r"
        }
      },
      "outputs": [
        {
          "data": {
            "text/html": [
              "<table class=\"dataframe\">\n",
              "<caption>A data.frame: 2 × 2</caption>\n",
              "<thead>\n",
              "\t<tr><th scope=col>gunDeathsData_2008$sex</th><th scope=col>n</th></tr>\n",
              "\t<tr><th scope=col>&lt;chr&gt;</th><th scope=col>&lt;int&gt;</th></tr>\n",
              "</thead>\n",
              "<tbody>\n",
              "\t<tr><td>F</td><td> 4257</td></tr>\n",
              "\t<tr><td>M</td><td>27336</td></tr>\n",
              "</tbody>\n",
              "</table>\n"
            ],
            "text/latex": [
              "A data.frame: 2 × 2\n",
              "\\begin{tabular}{ll}\n",
              " gunDeathsData\\_2008\\$sex & n\\\\\n",
              " <chr> & <int>\\\\\n",
              "\\hline\n",
              "\t F &  4257\\\\\n",
              "\t M & 27336\\\\\n",
              "\\end{tabular}\n"
            ],
            "text/markdown": [
              "\n",
              "A data.frame: 2 × 2\n",
              "\n",
              "| gunDeathsData_2008$sex &lt;chr&gt; | n &lt;int&gt; |\n",
              "|---|---|\n",
              "| F |  4257 |\n",
              "| M | 27336 |\n",
              "\n"
            ],
            "text/plain": [
              "  gunDeathsData_2008$sex n    \n",
              "1 F                       4257\n",
              "2 M                      27336"
            ]
          },
          "metadata": {},
          "output_type": "display_data"
        }
      ],
      "source": [
        "gunDeathsData_2008 %>%\n",
        "  count(gunDeathsData_2008$sex)"
      ]
    },
    {
      "cell_type": "code",
      "execution_count": 15,
      "metadata": {
        "colab": {
          "base_uri": "https://localhost:8080/",
          "height": 223
        },
        "id": "ecOXrRPegYUu",
        "outputId": "e27342f5-70eb-4e93-bace-0745d9a20389",
        "vscode": {
          "languageId": "r"
        }
      },
      "outputs": [
        {
          "data": {
            "text/html": [
              "<table class=\"dataframe\">\n",
              "<caption>A data.frame: 4 × 2</caption>\n",
              "<thead>\n",
              "\t<tr><th scope=col>gunDeathsData_2008$intent</th><th scope=col>n</th></tr>\n",
              "\t<tr><th scope=col>&lt;chr&gt;</th><th scope=col>&lt;int&gt;</th></tr>\n",
              "</thead>\n",
              "<tbody>\n",
              "\t<tr><td>Accidental  </td><td>  592</td></tr>\n",
              "\t<tr><td>Homicide    </td><td>12505</td></tr>\n",
              "\t<tr><td>Suicide     </td><td>18223</td></tr>\n",
              "\t<tr><td>Undetermined</td><td>  273</td></tr>\n",
              "</tbody>\n",
              "</table>\n"
            ],
            "text/latex": [
              "A data.frame: 4 × 2\n",
              "\\begin{tabular}{ll}\n",
              " gunDeathsData\\_2008\\$intent & n\\\\\n",
              " <chr> & <int>\\\\\n",
              "\\hline\n",
              "\t Accidental   &   592\\\\\n",
              "\t Homicide     & 12505\\\\\n",
              "\t Suicide      & 18223\\\\\n",
              "\t Undetermined &   273\\\\\n",
              "\\end{tabular}\n"
            ],
            "text/markdown": [
              "\n",
              "A data.frame: 4 × 2\n",
              "\n",
              "| gunDeathsData_2008$intent &lt;chr&gt; | n &lt;int&gt; |\n",
              "|---|---|\n",
              "| Accidental   |   592 |\n",
              "| Homicide     | 12505 |\n",
              "| Suicide      | 18223 |\n",
              "| Undetermined |   273 |\n",
              "\n"
            ],
            "text/plain": [
              "  gunDeathsData_2008$intent n    \n",
              "1 Accidental                  592\n",
              "2 Homicide                  12505\n",
              "3 Suicide                   18223\n",
              "4 Undetermined                273"
            ]
          },
          "metadata": {},
          "output_type": "display_data"
        }
      ],
      "source": [
        "gunDeathsData_2008 %>%\n",
        "  count(gunDeathsData_2008$intent)"
      ]
    },
    {
      "cell_type": "code",
      "execution_count": 16,
      "metadata": {
        "colab": {
          "base_uri": "https://localhost:8080/",
          "height": 474
        },
        "id": "TN8De8Pngd-_",
        "outputId": "492ba989-80fa-45eb-f295-87d958ca484e",
        "vscode": {
          "languageId": "r"
        }
      },
      "outputs": [
        {
          "data": {
            "text/html": [
              "<table class=\"dataframe\">\n",
              "<caption>A data.frame: 12 × 2</caption>\n",
              "<thead>\n",
              "\t<tr><th scope=col>gunDeathsData_2008$month</th><th scope=col>n</th></tr>\n",
              "\t<tr><th scope=col>&lt;int&gt;</th><th scope=col>&lt;int&gt;</th></tr>\n",
              "</thead>\n",
              "<tbody>\n",
              "\t<tr><td> 1</td><td>2644</td></tr>\n",
              "\t<tr><td> 2</td><td>2420</td></tr>\n",
              "\t<tr><td> 3</td><td>2669</td></tr>\n",
              "\t<tr><td> 4</td><td>2671</td></tr>\n",
              "\t<tr><td> 5</td><td>2615</td></tr>\n",
              "\t<tr><td> 6</td><td>2685</td></tr>\n",
              "\t<tr><td> 7</td><td>2781</td></tr>\n",
              "\t<tr><td> 8</td><td>2702</td></tr>\n",
              "\t<tr><td> 9</td><td>2713</td></tr>\n",
              "\t<tr><td>10</td><td>2626</td></tr>\n",
              "\t<tr><td>11</td><td>2544</td></tr>\n",
              "\t<tr><td>12</td><td>2523</td></tr>\n",
              "</tbody>\n",
              "</table>\n"
            ],
            "text/latex": [
              "A data.frame: 12 × 2\n",
              "\\begin{tabular}{ll}\n",
              " gunDeathsData\\_2008\\$month & n\\\\\n",
              " <int> & <int>\\\\\n",
              "\\hline\n",
              "\t  1 & 2644\\\\\n",
              "\t  2 & 2420\\\\\n",
              "\t  3 & 2669\\\\\n",
              "\t  4 & 2671\\\\\n",
              "\t  5 & 2615\\\\\n",
              "\t  6 & 2685\\\\\n",
              "\t  7 & 2781\\\\\n",
              "\t  8 & 2702\\\\\n",
              "\t  9 & 2713\\\\\n",
              "\t 10 & 2626\\\\\n",
              "\t 11 & 2544\\\\\n",
              "\t 12 & 2523\\\\\n",
              "\\end{tabular}\n"
            ],
            "text/markdown": [
              "\n",
              "A data.frame: 12 × 2\n",
              "\n",
              "| gunDeathsData_2008$month &lt;int&gt; | n &lt;int&gt; |\n",
              "|---|---|\n",
              "|  1 | 2644 |\n",
              "|  2 | 2420 |\n",
              "|  3 | 2669 |\n",
              "|  4 | 2671 |\n",
              "|  5 | 2615 |\n",
              "|  6 | 2685 |\n",
              "|  7 | 2781 |\n",
              "|  8 | 2702 |\n",
              "|  9 | 2713 |\n",
              "| 10 | 2626 |\n",
              "| 11 | 2544 |\n",
              "| 12 | 2523 |\n",
              "\n"
            ],
            "text/plain": [
              "   gunDeathsData_2008$month n   \n",
              "1   1                       2644\n",
              "2   2                       2420\n",
              "3   3                       2669\n",
              "4   4                       2671\n",
              "5   5                       2615\n",
              "6   6                       2685\n",
              "7   7                       2781\n",
              "8   8                       2702\n",
              "9   9                       2713\n",
              "10 10                       2626\n",
              "11 11                       2544\n",
              "12 12                       2523"
            ]
          },
          "metadata": {},
          "output_type": "display_data"
        }
      ],
      "source": [
        "gunDeathsData_2008 %>%\n",
        "  count(gunDeathsData_2008$month)"
      ]
    },
    {
      "cell_type": "code",
      "execution_count": null,
      "metadata": {
        "colab": {
          "base_uri": "https://localhost:8080/",
          "height": 34
        },
        "id": "hrt7TawcglXT",
        "outputId": "1aec7dc2-f65b-4a60-aa45-1b105df848d4",
        "vscode": {
          "languageId": "r"
        }
      },
      "outputs": [
        {
          "data": {
            "text/html": [
              "TRUE"
            ],
            "text/latex": [
              "TRUE"
            ],
            "text/markdown": [
              "TRUE"
            ],
            "text/plain": [
              "[1] TRUE"
            ]
          },
          "metadata": {},
          "output_type": "display_data"
        }
      ],
      "source": [
        "# Making the markdown file:\n",
        "file.create(\"CaseStudy_GunDeaths_2008.Rmd\")"
      ]
    }
  ],
  "metadata": {
    "colab": {
      "provenance": []
    },
    "kernelspec": {
      "display_name": "R",
      "name": "ir"
    },
    "language_info": {
      "name": "R"
    }
  },
  "nbformat": 4,
  "nbformat_minor": 0
}
