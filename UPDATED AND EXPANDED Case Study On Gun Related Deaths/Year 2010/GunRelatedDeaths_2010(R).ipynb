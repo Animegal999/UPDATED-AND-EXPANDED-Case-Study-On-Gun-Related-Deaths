{
  "cells": [
    {
      "cell_type": "code",
      "execution_count": 1,
      "metadata": {
        "colab": {
          "base_uri": "https://localhost:8080/"
        },
        "id": "8erXwBuPbX4I",
        "outputId": "dae96247-43c3-49ec-cb99-464be0350d7f",
        "vscode": {
          "languageId": "r"
        }
      },
      "outputs": [
        {
          "name": "stderr",
          "output_type": "stream",
          "text": [
            "Installing package into ‘/usr/local/lib/R/site-library’\n",
            "(as ‘lib’ is unspecified)\n",
            "\n",
            "Installing package into ‘/usr/local/lib/R/site-library’\n",
            "(as ‘lib’ is unspecified)\n",
            "\n",
            "Installing package into ‘/usr/local/lib/R/site-library’\n",
            "(as ‘lib’ is unspecified)\n",
            "\n",
            "also installing the dependencies ‘zoo’, ‘xts’, ‘PKI’, ‘packrat’, ‘renv’, ‘V8’, ‘dygraphs’, ‘rsconnect’, ‘katex’, ‘cleanrmd’\n",
            "\n",
            "\n",
            "Installing package into ‘/usr/local/lib/R/site-library’\n",
            "(as ‘lib’ is unspecified)\n",
            "\n",
            "also installing the dependencies ‘lazyeval’, ‘crosstalk’\n",
            "\n",
            "\n",
            "Installing package into ‘/usr/local/lib/R/site-library’\n",
            "(as ‘lib’ is unspecified)\n",
            "\n",
            "also installing the dependencies ‘proxy’, ‘rootSolve’, ‘e1071’, ‘lmom’, ‘mvtnorm’, ‘expm’, ‘Exact’, ‘gld’\n",
            "\n",
            "\n",
            "Installing package into ‘/usr/local/lib/R/site-library’\n",
            "(as ‘lib’ is unspecified)\n",
            "\n",
            "\n",
            "Attaching package: ‘plotly’\n",
            "\n",
            "\n",
            "The following object is masked from ‘package:ggplot2’:\n",
            "\n",
            "    last_plot\n",
            "\n",
            "\n",
            "The following object is masked from ‘package:stats’:\n",
            "\n",
            "    filter\n",
            "\n",
            "\n",
            "The following object is masked from ‘package:graphics’:\n",
            "\n",
            "    layout\n",
            "\n",
            "\n",
            "\n",
            "Attaching package: ‘dplyr’\n",
            "\n",
            "\n",
            "The following objects are masked from ‘package:stats’:\n",
            "\n",
            "    filter, lag\n",
            "\n",
            "\n",
            "The following objects are masked from ‘package:base’:\n",
            "\n",
            "    intersect, setdiff, setequal, union\n",
            "\n",
            "\n"
          ]
        }
      ],
      "source": [
        "install.packages(\"ggplot2\")\n",
        "install.packages(\"tinytex\")\n",
        "install.packages(\"rmarkdown\", dep = TRUE)\n",
        "install.packages(\"plotly\")\n",
        "install.packages(\"DescTools\")\n",
        "install.packages(\"dplyr\")\n",
        "\n",
        "library(ggplot2)\n",
        "library(tinytex)\n",
        "library(rmarkdown)\n",
        "library(plotly)\n",
        "library(DescTools)\n",
        "library(dplyr)"
      ]
    },
    {
      "cell_type": "code",
      "execution_count": 33,
      "metadata": {
        "colab": {
          "base_uri": "https://localhost:8080/",
          "height": 1000
        },
        "id": "_OCCxzoxb6SI",
        "outputId": "f979d317-e1df-41b1-81c5-7b00ce8fdf12",
        "vscode": {
          "languageId": "r"
        }
      },
      "outputs": [
        {
          "data": {
            "text/html": [
              "<table class=\"dataframe\">\n",
              "<caption>A data.frame: 31672 × 10</caption>\n",
              "<thead>\n",
              "\t<tr><th scope=col>year</th><th scope=col>month</th><th scope=col>intent</th><th scope=col>police</th><th scope=col>sex</th><th scope=col>age</th><th scope=col>race</th><th scope=col>hispanic</th><th scope=col>place</th><th scope=col>education</th></tr>\n",
              "\t<tr><th scope=col>&lt;int&gt;</th><th scope=col>&lt;int&gt;</th><th scope=col>&lt;chr&gt;</th><th scope=col>&lt;int&gt;</th><th scope=col>&lt;chr&gt;</th><th scope=col>&lt;dbl&gt;</th><th scope=col>&lt;chr&gt;</th><th scope=col>&lt;chr&gt;</th><th scope=col>&lt;chr&gt;</th><th scope=col>&lt;chr&gt;</th></tr>\n",
              "</thead>\n",
              "<tbody>\n",
              "\t<tr><td>2010</td><td>1</td><td>Suicide     </td><td>0</td><td>F</td><td>46</td><td>White                         </td><td>No </td><td>Home              </td><td>Some college</td></tr>\n",
              "\t<tr><td>2010</td><td>1</td><td>Suicide     </td><td>0</td><td>M</td><td>23</td><td>White                         </td><td>No </td><td>Home              </td><td>HS/GED      </td></tr>\n",
              "\t<tr><td>2010</td><td>1</td><td>Suicide     </td><td>0</td><td>M</td><td>68</td><td>White                         </td><td>No </td><td>Home              </td><td>HS/GED      </td></tr>\n",
              "\t<tr><td>2010</td><td>1</td><td>Suicide     </td><td>0</td><td>M</td><td>36</td><td>Hispanic                      </td><td>Yes</td><td>Other specified   </td><td>Some college</td></tr>\n",
              "\t<tr><td>2010</td><td>1</td><td>Suicide     </td><td>0</td><td>M</td><td>54</td><td>White                         </td><td>No </td><td>Home              </td><td>HS/GED      </td></tr>\n",
              "\t<tr><td>2010</td><td>1</td><td>Homicide    </td><td>0</td><td>M</td><td>44</td><td>White                         </td><td>No </td><td>Home              </td><td>Some college</td></tr>\n",
              "\t<tr><td>2010</td><td>1</td><td>Suicide     </td><td>0</td><td>M</td><td>23</td><td>Native American/Native Alaskan</td><td>No </td><td>Other specified   </td><td>Less than HS</td></tr>\n",
              "\t<tr><td>2010</td><td>1</td><td>Undetermined</td><td>0</td><td>M</td><td>40</td><td>White                         </td><td>No </td><td>Home              </td><td>HS/GED      </td></tr>\n",
              "\t<tr><td>2010</td><td>1</td><td>Suicide     </td><td>0</td><td>M</td><td>33</td><td>Native American/Native Alaskan</td><td>No </td><td>Home              </td><td>HS/GED      </td></tr>\n",
              "\t<tr><td>2010</td><td>2</td><td>Suicide     </td><td>0</td><td>M</td><td>34</td><td>Native American/Native Alaskan</td><td>No </td><td>Home              </td><td>Unknown     </td></tr>\n",
              "\t<tr><td>2010</td><td>2</td><td>Suicide     </td><td>0</td><td>F</td><td>23</td><td>White                         </td><td>No </td><td>Other specified   </td><td>Some college</td></tr>\n",
              "\t<tr><td>2010</td><td>2</td><td>Suicide     </td><td>0</td><td>M</td><td>20</td><td>White                         </td><td>No </td><td>Home              </td><td>Some college</td></tr>\n",
              "\t<tr><td>2010</td><td>2</td><td>Suicide     </td><td>0</td><td>F</td><td>55</td><td>White                         </td><td>No </td><td>Home              </td><td>BA+         </td></tr>\n",
              "\t<tr><td>2010</td><td>2</td><td>Homicide    </td><td>0</td><td>M</td><td>64</td><td>Native American/Native Alaskan</td><td>No </td><td>Home              </td><td>Some college</td></tr>\n",
              "\t<tr><td>2010</td><td>2</td><td>Suicide     </td><td>0</td><td>M</td><td>31</td><td>Black                         </td><td>No </td><td>Other specified   </td><td>Some college</td></tr>\n",
              "\t<tr><td>2010</td><td>2</td><td>Homicide    </td><td>0</td><td>M</td><td>24</td><td>Native American/Native Alaskan</td><td>No </td><td>Home              </td><td>HS/GED      </td></tr>\n",
              "\t<tr><td>2010</td><td>2</td><td>Suicide     </td><td>0</td><td>F</td><td>35</td><td>White                         </td><td>No </td><td>Home              </td><td>HS/GED      </td></tr>\n",
              "\t<tr><td>2010</td><td>2</td><td>Homicide    </td><td>0</td><td>M</td><td>29</td><td>Hispanic                      </td><td>Yes</td><td>Trade/service area</td><td>HS/GED      </td></tr>\n",
              "\t<tr><td>2010</td><td>2</td><td>Suicide     </td><td>0</td><td>F</td><td>59</td><td>White                         </td><td>No </td><td>Other specified   </td><td>Some college</td></tr>\n",
              "\t<tr><td>2010</td><td>3</td><td>Homicide    </td><td>0</td><td>M</td><td>45</td><td>Black                         </td><td>No </td><td>Home              </td><td>Less than HS</td></tr>\n",
              "\t<tr><td>2010</td><td>3</td><td>Homicide    </td><td>0</td><td>M</td><td>39</td><td>Native American/Native Alaskan</td><td>No </td><td>Home              </td><td>HS/GED      </td></tr>\n",
              "\t<tr><td>2010</td><td>3</td><td>Homicide    </td><td>0</td><td>M</td><td>26</td><td>White                         </td><td>No </td><td>Other specified   </td><td>HS/GED      </td></tr>\n",
              "\t<tr><td>2010</td><td>3</td><td>Suicide     </td><td>0</td><td>M</td><td>35</td><td>White                         </td><td>No </td><td>Other specified   </td><td>BA+         </td></tr>\n",
              "\t<tr><td>2010</td><td>3</td><td>Suicide     </td><td>0</td><td>M</td><td>41</td><td>White                         </td><td>No </td><td>Home              </td><td>Some college</td></tr>\n",
              "\t<tr><td>2010</td><td>2</td><td>Suicide     </td><td>0</td><td>M</td><td>26</td><td>Native American/Native Alaskan</td><td>No </td><td>Home              </td><td>Unknown     </td></tr>\n",
              "\t<tr><td>2010</td><td>3</td><td>Suicide     </td><td>0</td><td>M</td><td>39</td><td>White                         </td><td>No </td><td>Home              </td><td>HS/GED      </td></tr>\n",
              "\t<tr><td>2010</td><td>3</td><td>Suicide     </td><td>0</td><td>M</td><td>39</td><td>White                         </td><td>No </td><td>Other specified   </td><td>Some college</td></tr>\n",
              "\t<tr><td>2010</td><td>3</td><td>Homicide    </td><td>0</td><td>M</td><td>34</td><td>Asian/Pacific Islander        </td><td>No </td><td>Other specified   </td><td>HS/GED      </td></tr>\n",
              "\t<tr><td>2010</td><td>3</td><td>Homicide    </td><td>1</td><td>M</td><td>21</td><td>White                         </td><td>No </td><td>Other unspecified </td><td>HS/GED      </td></tr>\n",
              "\t<tr><td>2010</td><td>3</td><td>Homicide    </td><td>0</td><td>M</td><td>20</td><td>White                         </td><td>No </td><td>Other specified   </td><td>Less than HS</td></tr>\n",
              "\t<tr><td>⋮</td><td>⋮</td><td>⋮</td><td>⋮</td><td>⋮</td><td>⋮</td><td>⋮</td><td>⋮</td><td>⋮</td><td>⋮</td></tr>\n",
              "\t<tr><td>2010</td><td>11</td><td>Homicide</td><td>0</td><td>M</td><td>31</td><td>Black   </td><td>No </td><td>Other specified        </td><td>HS/GED      </td></tr>\n",
              "\t<tr><td>2010</td><td>11</td><td>Homicide</td><td>0</td><td>M</td><td>19</td><td>Hispanic</td><td>Yes</td><td>Street                 </td><td>Less than HS</td></tr>\n",
              "\t<tr><td>2010</td><td>11</td><td>Homicide</td><td>0</td><td>M</td><td>22</td><td>Black   </td><td>No </td><td>Home                   </td><td>BA+         </td></tr>\n",
              "\t<tr><td>2010</td><td>11</td><td>Homicide</td><td>0</td><td>M</td><td>30</td><td>Black   </td><td>No </td><td>Street                 </td><td>HS/GED      </td></tr>\n",
              "\t<tr><td>2010</td><td>11</td><td>Homicide</td><td>0</td><td>M</td><td>44</td><td>Hispanic</td><td>Yes</td><td>Home                   </td><td>Less than HS</td></tr>\n",
              "\t<tr><td>2010</td><td>11</td><td>Homicide</td><td>0</td><td>M</td><td>35</td><td>Black   </td><td>No </td><td>Street                 </td><td>HS/GED      </td></tr>\n",
              "\t<tr><td>2010</td><td>12</td><td>Homicide</td><td>0</td><td>M</td><td>17</td><td>Black   </td><td>No </td><td>Street                 </td><td>HS/GED      </td></tr>\n",
              "\t<tr><td>2010</td><td>11</td><td>Homicide</td><td>0</td><td>M</td><td>19</td><td>Black   </td><td>No </td><td>Home                   </td><td>HS/GED      </td></tr>\n",
              "\t<tr><td>2010</td><td>12</td><td>Homicide</td><td>0</td><td>M</td><td>53</td><td>Black   </td><td>No </td><td>Home                   </td><td>HS/GED      </td></tr>\n",
              "\t<tr><td>2010</td><td>12</td><td>Homicide</td><td>0</td><td>M</td><td>52</td><td>Hispanic</td><td>Yes</td><td>Street                 </td><td>HS/GED      </td></tr>\n",
              "\t<tr><td>2010</td><td>12</td><td>Homicide</td><td>0</td><td>M</td><td>68</td><td>Black   </td><td>No </td><td>Street                 </td><td>Some college</td></tr>\n",
              "\t<tr><td>2010</td><td>12</td><td>Homicide</td><td>0</td><td>M</td><td>23</td><td>Black   </td><td>No </td><td>Street                 </td><td>Less than HS</td></tr>\n",
              "\t<tr><td>2010</td><td>12</td><td>Homicide</td><td>0</td><td>M</td><td>29</td><td>Black   </td><td>No </td><td>Residential institution</td><td>Less than HS</td></tr>\n",
              "\t<tr><td>2010</td><td>12</td><td>Homicide</td><td>0</td><td>M</td><td>19</td><td>Black   </td><td>No </td><td>Street                 </td><td>Less than HS</td></tr>\n",
              "\t<tr><td>2010</td><td>12</td><td>Homicide</td><td>0</td><td>M</td><td>28</td><td>Black   </td><td>No </td><td>Street                 </td><td>HS/GED      </td></tr>\n",
              "\t<tr><td>2010</td><td>12</td><td>Homicide</td><td>0</td><td>M</td><td>45</td><td>Black   </td><td>No </td><td>Other unspecified      </td><td>HS/GED      </td></tr>\n",
              "\t<tr><td>2010</td><td>12</td><td>Homicide</td><td>0</td><td>M</td><td>45</td><td>White   </td><td>No </td><td>Other specified        </td><td>Some college</td></tr>\n",
              "\t<tr><td>2010</td><td>12</td><td>Homicide</td><td>0</td><td>M</td><td>19</td><td>Black   </td><td>No </td><td>Street                 </td><td>Less than HS</td></tr>\n",
              "\t<tr><td>2010</td><td>12</td><td>Homicide</td><td>0</td><td>M</td><td>21</td><td>White   </td><td>No </td><td>Home                   </td><td>HS/GED      </td></tr>\n",
              "\t<tr><td>2010</td><td>12</td><td>Homicide</td><td>0</td><td>M</td><td>36</td><td>Black   </td><td>No </td><td>Other specified        </td><td>HS/GED      </td></tr>\n",
              "\t<tr><td>2010</td><td>12</td><td>Homicide</td><td>0</td><td>M</td><td>18</td><td>Black   </td><td>No </td><td>Street                 </td><td>HS/GED      </td></tr>\n",
              "\t<tr><td>2010</td><td>12</td><td>Homicide</td><td>0</td><td>M</td><td>30</td><td>Black   </td><td>No </td><td>Street                 </td><td>Less than HS</td></tr>\n",
              "\t<tr><td>2010</td><td>12</td><td>Homicide</td><td>0</td><td>M</td><td>29</td><td>Black   </td><td>No </td><td>Street                 </td><td>Some college</td></tr>\n",
              "\t<tr><td>2010</td><td>12</td><td>Homicide</td><td>0</td><td>M</td><td>20</td><td>Black   </td><td>No </td><td>Street                 </td><td>HS/GED      </td></tr>\n",
              "\t<tr><td>2010</td><td>12</td><td>Homicide</td><td>0</td><td>M</td><td>19</td><td>Hispanic</td><td>Yes</td><td>Street                 </td><td>HS/GED      </td></tr>\n",
              "\t<tr><td>2010</td><td>12</td><td>Homicide</td><td>0</td><td>M</td><td>35</td><td>Black   </td><td>No </td><td>Industrial/construction</td><td>HS/GED      </td></tr>\n",
              "\t<tr><td>2010</td><td>12</td><td>Homicide</td><td>0</td><td>M</td><td>26</td><td>Black   </td><td>No </td><td>Street                 </td><td>Less than HS</td></tr>\n",
              "\t<tr><td>2010</td><td>12</td><td>Homicide</td><td>0</td><td>M</td><td>17</td><td>Black   </td><td>No </td><td>Industrial/construction</td><td>Less than HS</td></tr>\n",
              "\t<tr><td>2010</td><td>12</td><td>Homicide</td><td>0</td><td>M</td><td>23</td><td>Black   </td><td>No </td><td>Home                   </td><td>Less than HS</td></tr>\n",
              "\t<tr><td>2010</td><td>12</td><td>Homicide</td><td>0</td><td>M</td><td>21</td><td>Black   </td><td>No </td><td>Street                 </td><td>Less than HS</td></tr>\n",
              "</tbody>\n",
              "</table>\n"
            ],
            "text/latex": [
              "A data.frame: 31672 × 10\n",
              "\\begin{tabular}{llllllllll}\n",
              " year & month & intent & police & sex & age & race & hispanic & place & education\\\\\n",
              " <int> & <int> & <chr> & <int> & <chr> & <dbl> & <chr> & <chr> & <chr> & <chr>\\\\\n",
              "\\hline\n",
              "\t 2010 & 1 & Suicide      & 0 & F & 46 & White                          & No  & Home               & Some college\\\\\n",
              "\t 2010 & 1 & Suicide      & 0 & M & 23 & White                          & No  & Home               & HS/GED      \\\\\n",
              "\t 2010 & 1 & Suicide      & 0 & M & 68 & White                          & No  & Home               & HS/GED      \\\\\n",
              "\t 2010 & 1 & Suicide      & 0 & M & 36 & Hispanic                       & Yes & Other specified    & Some college\\\\\n",
              "\t 2010 & 1 & Suicide      & 0 & M & 54 & White                          & No  & Home               & HS/GED      \\\\\n",
              "\t 2010 & 1 & Homicide     & 0 & M & 44 & White                          & No  & Home               & Some college\\\\\n",
              "\t 2010 & 1 & Suicide      & 0 & M & 23 & Native American/Native Alaskan & No  & Other specified    & Less than HS\\\\\n",
              "\t 2010 & 1 & Undetermined & 0 & M & 40 & White                          & No  & Home               & HS/GED      \\\\\n",
              "\t 2010 & 1 & Suicide      & 0 & M & 33 & Native American/Native Alaskan & No  & Home               & HS/GED      \\\\\n",
              "\t 2010 & 2 & Suicide      & 0 & M & 34 & Native American/Native Alaskan & No  & Home               & Unknown     \\\\\n",
              "\t 2010 & 2 & Suicide      & 0 & F & 23 & White                          & No  & Other specified    & Some college\\\\\n",
              "\t 2010 & 2 & Suicide      & 0 & M & 20 & White                          & No  & Home               & Some college\\\\\n",
              "\t 2010 & 2 & Suicide      & 0 & F & 55 & White                          & No  & Home               & BA+         \\\\\n",
              "\t 2010 & 2 & Homicide     & 0 & M & 64 & Native American/Native Alaskan & No  & Home               & Some college\\\\\n",
              "\t 2010 & 2 & Suicide      & 0 & M & 31 & Black                          & No  & Other specified    & Some college\\\\\n",
              "\t 2010 & 2 & Homicide     & 0 & M & 24 & Native American/Native Alaskan & No  & Home               & HS/GED      \\\\\n",
              "\t 2010 & 2 & Suicide      & 0 & F & 35 & White                          & No  & Home               & HS/GED      \\\\\n",
              "\t 2010 & 2 & Homicide     & 0 & M & 29 & Hispanic                       & Yes & Trade/service area & HS/GED      \\\\\n",
              "\t 2010 & 2 & Suicide      & 0 & F & 59 & White                          & No  & Other specified    & Some college\\\\\n",
              "\t 2010 & 3 & Homicide     & 0 & M & 45 & Black                          & No  & Home               & Less than HS\\\\\n",
              "\t 2010 & 3 & Homicide     & 0 & M & 39 & Native American/Native Alaskan & No  & Home               & HS/GED      \\\\\n",
              "\t 2010 & 3 & Homicide     & 0 & M & 26 & White                          & No  & Other specified    & HS/GED      \\\\\n",
              "\t 2010 & 3 & Suicide      & 0 & M & 35 & White                          & No  & Other specified    & BA+         \\\\\n",
              "\t 2010 & 3 & Suicide      & 0 & M & 41 & White                          & No  & Home               & Some college\\\\\n",
              "\t 2010 & 2 & Suicide      & 0 & M & 26 & Native American/Native Alaskan & No  & Home               & Unknown     \\\\\n",
              "\t 2010 & 3 & Suicide      & 0 & M & 39 & White                          & No  & Home               & HS/GED      \\\\\n",
              "\t 2010 & 3 & Suicide      & 0 & M & 39 & White                          & No  & Other specified    & Some college\\\\\n",
              "\t 2010 & 3 & Homicide     & 0 & M & 34 & Asian/Pacific Islander         & No  & Other specified    & HS/GED      \\\\\n",
              "\t 2010 & 3 & Homicide     & 1 & M & 21 & White                          & No  & Other unspecified  & HS/GED      \\\\\n",
              "\t 2010 & 3 & Homicide     & 0 & M & 20 & White                          & No  & Other specified    & Less than HS\\\\\n",
              "\t ⋮ & ⋮ & ⋮ & ⋮ & ⋮ & ⋮ & ⋮ & ⋮ & ⋮ & ⋮\\\\\n",
              "\t 2010 & 11 & Homicide & 0 & M & 31 & Black    & No  & Other specified         & HS/GED      \\\\\n",
              "\t 2010 & 11 & Homicide & 0 & M & 19 & Hispanic & Yes & Street                  & Less than HS\\\\\n",
              "\t 2010 & 11 & Homicide & 0 & M & 22 & Black    & No  & Home                    & BA+         \\\\\n",
              "\t 2010 & 11 & Homicide & 0 & M & 30 & Black    & No  & Street                  & HS/GED      \\\\\n",
              "\t 2010 & 11 & Homicide & 0 & M & 44 & Hispanic & Yes & Home                    & Less than HS\\\\\n",
              "\t 2010 & 11 & Homicide & 0 & M & 35 & Black    & No  & Street                  & HS/GED      \\\\\n",
              "\t 2010 & 12 & Homicide & 0 & M & 17 & Black    & No  & Street                  & HS/GED      \\\\\n",
              "\t 2010 & 11 & Homicide & 0 & M & 19 & Black    & No  & Home                    & HS/GED      \\\\\n",
              "\t 2010 & 12 & Homicide & 0 & M & 53 & Black    & No  & Home                    & HS/GED      \\\\\n",
              "\t 2010 & 12 & Homicide & 0 & M & 52 & Hispanic & Yes & Street                  & HS/GED      \\\\\n",
              "\t 2010 & 12 & Homicide & 0 & M & 68 & Black    & No  & Street                  & Some college\\\\\n",
              "\t 2010 & 12 & Homicide & 0 & M & 23 & Black    & No  & Street                  & Less than HS\\\\\n",
              "\t 2010 & 12 & Homicide & 0 & M & 29 & Black    & No  & Residential institution & Less than HS\\\\\n",
              "\t 2010 & 12 & Homicide & 0 & M & 19 & Black    & No  & Street                  & Less than HS\\\\\n",
              "\t 2010 & 12 & Homicide & 0 & M & 28 & Black    & No  & Street                  & HS/GED      \\\\\n",
              "\t 2010 & 12 & Homicide & 0 & M & 45 & Black    & No  & Other unspecified       & HS/GED      \\\\\n",
              "\t 2010 & 12 & Homicide & 0 & M & 45 & White    & No  & Other specified         & Some college\\\\\n",
              "\t 2010 & 12 & Homicide & 0 & M & 19 & Black    & No  & Street                  & Less than HS\\\\\n",
              "\t 2010 & 12 & Homicide & 0 & M & 21 & White    & No  & Home                    & HS/GED      \\\\\n",
              "\t 2010 & 12 & Homicide & 0 & M & 36 & Black    & No  & Other specified         & HS/GED      \\\\\n",
              "\t 2010 & 12 & Homicide & 0 & M & 18 & Black    & No  & Street                  & HS/GED      \\\\\n",
              "\t 2010 & 12 & Homicide & 0 & M & 30 & Black    & No  & Street                  & Less than HS\\\\\n",
              "\t 2010 & 12 & Homicide & 0 & M & 29 & Black    & No  & Street                  & Some college\\\\\n",
              "\t 2010 & 12 & Homicide & 0 & M & 20 & Black    & No  & Street                  & HS/GED      \\\\\n",
              "\t 2010 & 12 & Homicide & 0 & M & 19 & Hispanic & Yes & Street                  & HS/GED      \\\\\n",
              "\t 2010 & 12 & Homicide & 0 & M & 35 & Black    & No  & Industrial/construction & HS/GED      \\\\\n",
              "\t 2010 & 12 & Homicide & 0 & M & 26 & Black    & No  & Street                  & Less than HS\\\\\n",
              "\t 2010 & 12 & Homicide & 0 & M & 17 & Black    & No  & Industrial/construction & Less than HS\\\\\n",
              "\t 2010 & 12 & Homicide & 0 & M & 23 & Black    & No  & Home                    & Less than HS\\\\\n",
              "\t 2010 & 12 & Homicide & 0 & M & 21 & Black    & No  & Street                  & Less than HS\\\\\n",
              "\\end{tabular}\n"
            ],
            "text/markdown": [
              "\n",
              "A data.frame: 31672 × 10\n",
              "\n",
              "| year &lt;int&gt; | month &lt;int&gt; | intent &lt;chr&gt; | police &lt;int&gt; | sex &lt;chr&gt; | age &lt;dbl&gt; | race &lt;chr&gt; | hispanic &lt;chr&gt; | place &lt;chr&gt; | education &lt;chr&gt; |\n",
              "|---|---|---|---|---|---|---|---|---|---|\n",
              "| 2010 | 1 | Suicide      | 0 | F | 46 | White                          | No  | Home               | Some college |\n",
              "| 2010 | 1 | Suicide      | 0 | M | 23 | White                          | No  | Home               | HS/GED       |\n",
              "| 2010 | 1 | Suicide      | 0 | M | 68 | White                          | No  | Home               | HS/GED       |\n",
              "| 2010 | 1 | Suicide      | 0 | M | 36 | Hispanic                       | Yes | Other specified    | Some college |\n",
              "| 2010 | 1 | Suicide      | 0 | M | 54 | White                          | No  | Home               | HS/GED       |\n",
              "| 2010 | 1 | Homicide     | 0 | M | 44 | White                          | No  | Home               | Some college |\n",
              "| 2010 | 1 | Suicide      | 0 | M | 23 | Native American/Native Alaskan | No  | Other specified    | Less than HS |\n",
              "| 2010 | 1 | Undetermined | 0 | M | 40 | White                          | No  | Home               | HS/GED       |\n",
              "| 2010 | 1 | Suicide      | 0 | M | 33 | Native American/Native Alaskan | No  | Home               | HS/GED       |\n",
              "| 2010 | 2 | Suicide      | 0 | M | 34 | Native American/Native Alaskan | No  | Home               | Unknown      |\n",
              "| 2010 | 2 | Suicide      | 0 | F | 23 | White                          | No  | Other specified    | Some college |\n",
              "| 2010 | 2 | Suicide      | 0 | M | 20 | White                          | No  | Home               | Some college |\n",
              "| 2010 | 2 | Suicide      | 0 | F | 55 | White                          | No  | Home               | BA+          |\n",
              "| 2010 | 2 | Homicide     | 0 | M | 64 | Native American/Native Alaskan | No  | Home               | Some college |\n",
              "| 2010 | 2 | Suicide      | 0 | M | 31 | Black                          | No  | Other specified    | Some college |\n",
              "| 2010 | 2 | Homicide     | 0 | M | 24 | Native American/Native Alaskan | No  | Home               | HS/GED       |\n",
              "| 2010 | 2 | Suicide      | 0 | F | 35 | White                          | No  | Home               | HS/GED       |\n",
              "| 2010 | 2 | Homicide     | 0 | M | 29 | Hispanic                       | Yes | Trade/service area | HS/GED       |\n",
              "| 2010 | 2 | Suicide      | 0 | F | 59 | White                          | No  | Other specified    | Some college |\n",
              "| 2010 | 3 | Homicide     | 0 | M | 45 | Black                          | No  | Home               | Less than HS |\n",
              "| 2010 | 3 | Homicide     | 0 | M | 39 | Native American/Native Alaskan | No  | Home               | HS/GED       |\n",
              "| 2010 | 3 | Homicide     | 0 | M | 26 | White                          | No  | Other specified    | HS/GED       |\n",
              "| 2010 | 3 | Suicide      | 0 | M | 35 | White                          | No  | Other specified    | BA+          |\n",
              "| 2010 | 3 | Suicide      | 0 | M | 41 | White                          | No  | Home               | Some college |\n",
              "| 2010 | 2 | Suicide      | 0 | M | 26 | Native American/Native Alaskan | No  | Home               | Unknown      |\n",
              "| 2010 | 3 | Suicide      | 0 | M | 39 | White                          | No  | Home               | HS/GED       |\n",
              "| 2010 | 3 | Suicide      | 0 | M | 39 | White                          | No  | Other specified    | Some college |\n",
              "| 2010 | 3 | Homicide     | 0 | M | 34 | Asian/Pacific Islander         | No  | Other specified    | HS/GED       |\n",
              "| 2010 | 3 | Homicide     | 1 | M | 21 | White                          | No  | Other unspecified  | HS/GED       |\n",
              "| 2010 | 3 | Homicide     | 0 | M | 20 | White                          | No  | Other specified    | Less than HS |\n",
              "| ⋮ | ⋮ | ⋮ | ⋮ | ⋮ | ⋮ | ⋮ | ⋮ | ⋮ | ⋮ |\n",
              "| 2010 | 11 | Homicide | 0 | M | 31 | Black    | No  | Other specified         | HS/GED       |\n",
              "| 2010 | 11 | Homicide | 0 | M | 19 | Hispanic | Yes | Street                  | Less than HS |\n",
              "| 2010 | 11 | Homicide | 0 | M | 22 | Black    | No  | Home                    | BA+          |\n",
              "| 2010 | 11 | Homicide | 0 | M | 30 | Black    | No  | Street                  | HS/GED       |\n",
              "| 2010 | 11 | Homicide | 0 | M | 44 | Hispanic | Yes | Home                    | Less than HS |\n",
              "| 2010 | 11 | Homicide | 0 | M | 35 | Black    | No  | Street                  | HS/GED       |\n",
              "| 2010 | 12 | Homicide | 0 | M | 17 | Black    | No  | Street                  | HS/GED       |\n",
              "| 2010 | 11 | Homicide | 0 | M | 19 | Black    | No  | Home                    | HS/GED       |\n",
              "| 2010 | 12 | Homicide | 0 | M | 53 | Black    | No  | Home                    | HS/GED       |\n",
              "| 2010 | 12 | Homicide | 0 | M | 52 | Hispanic | Yes | Street                  | HS/GED       |\n",
              "| 2010 | 12 | Homicide | 0 | M | 68 | Black    | No  | Street                  | Some college |\n",
              "| 2010 | 12 | Homicide | 0 | M | 23 | Black    | No  | Street                  | Less than HS |\n",
              "| 2010 | 12 | Homicide | 0 | M | 29 | Black    | No  | Residential institution | Less than HS |\n",
              "| 2010 | 12 | Homicide | 0 | M | 19 | Black    | No  | Street                  | Less than HS |\n",
              "| 2010 | 12 | Homicide | 0 | M | 28 | Black    | No  | Street                  | HS/GED       |\n",
              "| 2010 | 12 | Homicide | 0 | M | 45 | Black    | No  | Other unspecified       | HS/GED       |\n",
              "| 2010 | 12 | Homicide | 0 | M | 45 | White    | No  | Other specified         | Some college |\n",
              "| 2010 | 12 | Homicide | 0 | M | 19 | Black    | No  | Street                  | Less than HS |\n",
              "| 2010 | 12 | Homicide | 0 | M | 21 | White    | No  | Home                    | HS/GED       |\n",
              "| 2010 | 12 | Homicide | 0 | M | 36 | Black    | No  | Other specified         | HS/GED       |\n",
              "| 2010 | 12 | Homicide | 0 | M | 18 | Black    | No  | Street                  | HS/GED       |\n",
              "| 2010 | 12 | Homicide | 0 | M | 30 | Black    | No  | Street                  | Less than HS |\n",
              "| 2010 | 12 | Homicide | 0 | M | 29 | Black    | No  | Street                  | Some college |\n",
              "| 2010 | 12 | Homicide | 0 | M | 20 | Black    | No  | Street                  | HS/GED       |\n",
              "| 2010 | 12 | Homicide | 0 | M | 19 | Hispanic | Yes | Street                  | HS/GED       |\n",
              "| 2010 | 12 | Homicide | 0 | M | 35 | Black    | No  | Industrial/construction | HS/GED       |\n",
              "| 2010 | 12 | Homicide | 0 | M | 26 | Black    | No  | Street                  | Less than HS |\n",
              "| 2010 | 12 | Homicide | 0 | M | 17 | Black    | No  | Industrial/construction | Less than HS |\n",
              "| 2010 | 12 | Homicide | 0 | M | 23 | Black    | No  | Home                    | Less than HS |\n",
              "| 2010 | 12 | Homicide | 0 | M | 21 | Black    | No  | Street                  | Less than HS |\n",
              "\n"
            ],
            "text/plain": [
              "      year month intent       police sex age race                          \n",
              "1     2010 1     Suicide      0      F   46  White                         \n",
              "2     2010 1     Suicide      0      M   23  White                         \n",
              "3     2010 1     Suicide      0      M   68  White                         \n",
              "4     2010 1     Suicide      0      M   36  Hispanic                      \n",
              "5     2010 1     Suicide      0      M   54  White                         \n",
              "6     2010 1     Homicide     0      M   44  White                         \n",
              "7     2010 1     Suicide      0      M   23  Native American/Native Alaskan\n",
              "8     2010 1     Undetermined 0      M   40  White                         \n",
              "9     2010 1     Suicide      0      M   33  Native American/Native Alaskan\n",
              "10    2010 2     Suicide      0      M   34  Native American/Native Alaskan\n",
              "11    2010 2     Suicide      0      F   23  White                         \n",
              "12    2010 2     Suicide      0      M   20  White                         \n",
              "13    2010 2     Suicide      0      F   55  White                         \n",
              "14    2010 2     Homicide     0      M   64  Native American/Native Alaskan\n",
              "15    2010 2     Suicide      0      M   31  Black                         \n",
              "16    2010 2     Homicide     0      M   24  Native American/Native Alaskan\n",
              "17    2010 2     Suicide      0      F   35  White                         \n",
              "18    2010 2     Homicide     0      M   29  Hispanic                      \n",
              "19    2010 2     Suicide      0      F   59  White                         \n",
              "20    2010 3     Homicide     0      M   45  Black                         \n",
              "21    2010 3     Homicide     0      M   39  Native American/Native Alaskan\n",
              "22    2010 3     Homicide     0      M   26  White                         \n",
              "23    2010 3     Suicide      0      M   35  White                         \n",
              "24    2010 3     Suicide      0      M   41  White                         \n",
              "25    2010 2     Suicide      0      M   26  Native American/Native Alaskan\n",
              "26    2010 3     Suicide      0      M   39  White                         \n",
              "27    2010 3     Suicide      0      M   39  White                         \n",
              "28    2010 3     Homicide     0      M   34  Asian/Pacific Islander        \n",
              "29    2010 3     Homicide     1      M   21  White                         \n",
              "30    2010 3     Homicide     0      M   20  White                         \n",
              "⋮     ⋮    ⋮     ⋮            ⋮      ⋮   ⋮   ⋮                             \n",
              "31643 2010 11    Homicide     0      M   31  Black                         \n",
              "31644 2010 11    Homicide     0      M   19  Hispanic                      \n",
              "31645 2010 11    Homicide     0      M   22  Black                         \n",
              "31646 2010 11    Homicide     0      M   30  Black                         \n",
              "31647 2010 11    Homicide     0      M   44  Hispanic                      \n",
              "31648 2010 11    Homicide     0      M   35  Black                         \n",
              "31649 2010 12    Homicide     0      M   17  Black                         \n",
              "31650 2010 11    Homicide     0      M   19  Black                         \n",
              "31651 2010 12    Homicide     0      M   53  Black                         \n",
              "31652 2010 12    Homicide     0      M   52  Hispanic                      \n",
              "31653 2010 12    Homicide     0      M   68  Black                         \n",
              "31654 2010 12    Homicide     0      M   23  Black                         \n",
              "31655 2010 12    Homicide     0      M   29  Black                         \n",
              "31656 2010 12    Homicide     0      M   19  Black                         \n",
              "31657 2010 12    Homicide     0      M   28  Black                         \n",
              "31658 2010 12    Homicide     0      M   45  Black                         \n",
              "31659 2010 12    Homicide     0      M   45  White                         \n",
              "31660 2010 12    Homicide     0      M   19  Black                         \n",
              "31661 2010 12    Homicide     0      M   21  White                         \n",
              "31662 2010 12    Homicide     0      M   36  Black                         \n",
              "31663 2010 12    Homicide     0      M   18  Black                         \n",
              "31664 2010 12    Homicide     0      M   30  Black                         \n",
              "31665 2010 12    Homicide     0      M   29  Black                         \n",
              "31666 2010 12    Homicide     0      M   20  Black                         \n",
              "31667 2010 12    Homicide     0      M   19  Hispanic                      \n",
              "31668 2010 12    Homicide     0      M   35  Black                         \n",
              "31669 2010 12    Homicide     0      M   26  Black                         \n",
              "31670 2010 12    Homicide     0      M   17  Black                         \n",
              "31671 2010 12    Homicide     0      M   23  Black                         \n",
              "31672 2010 12    Homicide     0      M   21  Black                         \n",
              "      hispanic place                   education   \n",
              "1     No       Home                    Some college\n",
              "2     No       Home                    HS/GED      \n",
              "3     No       Home                    HS/GED      \n",
              "4     Yes      Other specified         Some college\n",
              "5     No       Home                    HS/GED      \n",
              "6     No       Home                    Some college\n",
              "7     No       Other specified         Less than HS\n",
              "8     No       Home                    HS/GED      \n",
              "9     No       Home                    HS/GED      \n",
              "10    No       Home                    Unknown     \n",
              "11    No       Other specified         Some college\n",
              "12    No       Home                    Some college\n",
              "13    No       Home                    BA+         \n",
              "14    No       Home                    Some college\n",
              "15    No       Other specified         Some college\n",
              "16    No       Home                    HS/GED      \n",
              "17    No       Home                    HS/GED      \n",
              "18    Yes      Trade/service area      HS/GED      \n",
              "19    No       Other specified         Some college\n",
              "20    No       Home                    Less than HS\n",
              "21    No       Home                    HS/GED      \n",
              "22    No       Other specified         HS/GED      \n",
              "23    No       Other specified         BA+         \n",
              "24    No       Home                    Some college\n",
              "25    No       Home                    Unknown     \n",
              "26    No       Home                    HS/GED      \n",
              "27    No       Other specified         Some college\n",
              "28    No       Other specified         HS/GED      \n",
              "29    No       Other unspecified       HS/GED      \n",
              "30    No       Other specified         Less than HS\n",
              "⋮     ⋮        ⋮                       ⋮           \n",
              "31643 No       Other specified         HS/GED      \n",
              "31644 Yes      Street                  Less than HS\n",
              "31645 No       Home                    BA+         \n",
              "31646 No       Street                  HS/GED      \n",
              "31647 Yes      Home                    Less than HS\n",
              "31648 No       Street                  HS/GED      \n",
              "31649 No       Street                  HS/GED      \n",
              "31650 No       Home                    HS/GED      \n",
              "31651 No       Home                    HS/GED      \n",
              "31652 Yes      Street                  HS/GED      \n",
              "31653 No       Street                  Some college\n",
              "31654 No       Street                  Less than HS\n",
              "31655 No       Residential institution Less than HS\n",
              "31656 No       Street                  Less than HS\n",
              "31657 No       Street                  HS/GED      \n",
              "31658 No       Other unspecified       HS/GED      \n",
              "31659 No       Other specified         Some college\n",
              "31660 No       Street                  Less than HS\n",
              "31661 No       Home                    HS/GED      \n",
              "31662 No       Other specified         HS/GED      \n",
              "31663 No       Street                  HS/GED      \n",
              "31664 No       Street                  Less than HS\n",
              "31665 No       Street                  Some college\n",
              "31666 No       Street                  HS/GED      \n",
              "31667 Yes      Street                  HS/GED      \n",
              "31668 No       Industrial/construction HS/GED      \n",
              "31669 No       Street                  Less than HS\n",
              "31670 No       Industrial/construction Less than HS\n",
              "31671 No       Home                    Less than HS\n",
              "31672 No       Street                  Less than HS"
            ]
          },
          "metadata": {},
          "output_type": "display_data"
        }
      ],
      "source": [
        "gunDeathsData_2010 <- read.csv(\"/content/guns_2010.csv\", header = TRUE, sep = \",\")\n",
        "View(gunDeathsData_2010)"
      ]
    },
    {
      "cell_type": "code",
      "execution_count": 34,
      "metadata": {
        "colab": {
          "base_uri": "https://localhost:8080/",
          "height": 34
        },
        "id": "ehS1kJbVdfeG",
        "outputId": "e0864a81-47af-4e32-aa01-1751b98b4a61",
        "vscode": {
          "languageId": "r"
        }
      },
      "outputs": [
        {
          "data": {
            "text/html": [
              "0"
            ],
            "text/latex": [
              "0"
            ],
            "text/markdown": [
              "0"
            ],
            "text/plain": [
              "[1] 0"
            ]
          },
          "metadata": {},
          "output_type": "display_data"
        }
      ],
      "source": [
        "# Any null data?\n",
        "sum(is.na(gunDeathsData_2010))"
      ]
    },
    {
      "cell_type": "code",
      "execution_count": null,
      "metadata": {
        "colab": {
          "base_uri": "https://localhost:8080/",
          "height": 86
        },
        "id": "v410uFaddjAT",
        "outputId": "09b2753f-8cc0-45d9-ee24-49b54fe86693",
        "vscode": {
          "languageId": "r"
        }
      },
      "outputs": [
        {
          "name": "stdout",
          "output_type": "stream",
          "text": [
            "[1] \"Mean values for each numeric column:\"\n",
            "[1] \"Mean Age: \"\n"
          ]
        },
        {
          "data": {
            "text/html": [
              "42.9293857571457"
            ],
            "text/latex": [
              "42.9293857571457"
            ],
            "text/markdown": [
              "42.9293857571457"
            ],
            "text/plain": [
              "[1] 42.92939"
            ]
          },
          "metadata": {},
          "output_type": "display_data"
        },
        {
          "name": "stdout",
          "output_type": "stream",
          "text": [
            "[1] \"-----------------------------\"\n"
          ]
        }
      ],
      "source": [
        "# Gun related deaths from 2010\n",
        "# Statistical information\n",
        "\n",
        "# Mean for each numeric column:\n",
        "# Only one numeric column was found: Age\n",
        "print(\"Mean values for each numeric column:\")\n",
        "print(\"Mean Age: \") # 42.929\n",
        "mean(gunDeathsData_2010$age)\n",
        "print(\"-----------------------------\")"
      ]
    },
    {
      "cell_type": "code",
      "execution_count": 36,
      "metadata": {
        "colab": {
          "base_uri": "https://localhost:8080/",
          "height": 52
        },
        "id": "pnFQxD5wdsve",
        "outputId": "13e9a24e-2aae-46d0-cbc7-836902a861c8",
        "vscode": {
          "languageId": "r"
        }
      },
      "outputs": [
        {
          "name": "stdout",
          "output_type": "stream",
          "text": [
            "[1] \"Median value for the age column:\"\n"
          ]
        },
        {
          "data": {
            "text/html": [
              "41"
            ],
            "text/latex": [
              "41"
            ],
            "text/markdown": [
              "41"
            ],
            "text/plain": [
              "[1] 41"
            ]
          },
          "metadata": {},
          "output_type": "display_data"
        }
      ],
      "source": [
        "# Median Age:\n",
        "print(\"Median value for the age column:\") # 41\n",
        "median(gunDeathsData_2010$age)"
      ]
    },
    {
      "cell_type": "code",
      "execution_count": 38,
      "metadata": {
        "colab": {
          "base_uri": "https://localhost:8080/",
          "height": 52
        },
        "id": "l2Rzv5sydyT5",
        "outputId": "af61a245-a2da-470f-b04f-5a0fa4e087e8",
        "vscode": {
          "languageId": "r"
        }
      },
      "outputs": [
        {
          "name": "stdout",
          "output_type": "stream",
          "text": [
            "[1] \"Most occuring value for the age column:\"\n"
          ]
        },
        {
          "data": {
            "text/html": [
              "21"
            ],
            "text/latex": [
              "21"
            ],
            "text/markdown": [
              "21"
            ],
            "text/plain": [
              "[1] 21\n",
              "attr(,\"freq\")\n",
              "[1] 819"
            ]
          },
          "metadata": {},
          "output_type": "display_data"
        }
      ],
      "source": [
        "# Mode Age:\n",
        "print(\"Most occuring value for the age column:\") # 21\n",
        "Mode(gunDeathsData_2010$age)"
      ]
    },
    {
      "cell_type": "code",
      "execution_count": 39,
      "metadata": {
        "colab": {
          "base_uri": "https://localhost:8080/",
          "height": 52
        },
        "id": "hFeJ9l2_d311",
        "outputId": "befa5d7f-59ac-4283-e16c-1ff28242075e",
        "vscode": {
          "languageId": "r"
        }
      },
      "outputs": [
        {
          "name": "stdout",
          "output_type": "stream",
          "text": [
            "[1] \"Standard Deviation of the age:\"\n"
          ]
        },
        {
          "data": {
            "text/html": [
              "19.154014263402"
            ],
            "text/latex": [
              "19.154014263402"
            ],
            "text/markdown": [
              "19.154014263402"
            ],
            "text/plain": [
              "[1] 19.15401"
            ]
          },
          "metadata": {},
          "output_type": "display_data"
        }
      ],
      "source": [
        "# Standard Deviation Age:\n",
        "print(\"Standard Deviation of the age:\") #19.154 years\n",
        "SD(gunDeathsData_2010$age)"
      ]
    },
    {
      "cell_type": "code",
      "execution_count": 40,
      "metadata": {
        "colab": {
          "base_uri": "https://localhost:8080/",
          "height": 437
        },
        "id": "54L3i-fNeCNy",
        "outputId": "b6ca7d3f-e4bb-4d25-c945-6f83a3bf59b0",
        "vscode": {
          "languageId": "r"
        }
      },
      "outputs": [
        {
          "data": {
            "image/png": "[encoded data removed]",
            "text/plain": [
              "Plot with title “Age of Victims of Gun-related Deaths by Race”"
            ]
          },
          "metadata": {
            "image/png": {
              "height": 420,
              "width": 420
            }
          },
          "output_type": "display_data"
        }
      ],
      "source": [
        "# creating boxplot on age and race:\n",
        "boxplot(gunDeathsData_2010$age ~ gunDeathsData_2010$race, data = gunDeathsData_2010,\n",
        "        main = \"Age of Victims of Gun-related Deaths by Race\",\n",
        "        xlab = \"Race\",\n",
        "        ylab = \"Age\")\n"
      ]
    },
    {
      "cell_type": "code",
      "execution_count": 41,
      "metadata": {
        "colab": {
          "base_uri": "https://localhost:8080/",
          "height": 437
        },
        "id": "MzZ4IT9qequa",
        "outputId": "652d7302-a48a-46fe-8eaa-40d03a76b2c2",
        "vscode": {
          "languageId": "r"
        }
      },
      "outputs": [
        {
          "data": {
            "image/png": "[encoded data removed]",
            "text/plain": [
              "Plot with title “Histogram of gunDeathsData_2010$age”"
            ]
          },
          "metadata": {
            "image/png": {
              "height": 420,
              "width": 420
            }
          },
          "output_type": "display_data"
        }
      ],
      "source": [
        "# Constructing the histogram:\n",
        "\n",
        "hist(gunDeathsData_2010$age, xlab=\"Victims of Gun Violence By Age\", col = \"red\", border = \"black\")"
      ]
    },
    {
      "cell_type": "code",
      "execution_count": 42,
      "metadata": {
        "colab": {
          "base_uri": "https://localhost:8080/",
          "height": 437
        },
        "id": "V4UYhcrUexIc",
        "outputId": "f11f2b98-7fca-4189-d93e-83896f14809d",
        "vscode": {
          "languageId": "r"
        }
      },
      "outputs": [
        {
          "data": {
            "image/png": "[encoded data removed]",
            "text/plain": [
              "Plot with title “Age of Victims of Gun-related Deaths by Gender”"
            ]
          },
          "metadata": {
            "image/png": {
              "height": 420,
              "width": 420
            }
          },
          "output_type": "display_data"
        }
      ],
      "source": [
        "# Creating a boxplot on age and gender:\n",
        "boxplot(gunDeathsData_2010$age ~ gunDeathsData_2010$sex, data = gunDeathsData_2010,\n",
        "        main = \"Age of Victims of Gun-related Deaths by Gender\",\n",
        "        xlab = \"Gender\",\n",
        "        ylab = \"Age\")\n"
      ]
    },
    {
      "cell_type": "code",
      "execution_count": 43,
      "metadata": {
        "colab": {
          "base_uri": "https://localhost:8080/",
          "height": 437
        },
        "id": "8-e11k2gfEVJ",
        "outputId": "46a76e01-69cb-4a1e-fb3d-653d0a048cc6",
        "vscode": {
          "languageId": "r"
        }
      },
      "outputs": [
        {
          "data": {
            "image/png": "[encoded data removed]",
            "text/plain": [
              "Plot with title “Histogram of gunDeathsData_2010$month”"
            ]
          },
          "metadata": {
            "image/png": {
              "height": 420,
              "width": 420
            }
          },
          "output_type": "display_data"
        }
      ],
      "source": [
        "# Constructing the histogram for number of deaths by month:\n",
        "\n",
        "hist(gunDeathsData_2010$month, xlab=\"Total Victims of Gun Violence By Month\", col = \"blue\", border = \"black\")"
      ]
    },
    {
      "cell_type": "code",
      "execution_count": 44,
      "metadata": {
        "colab": {
          "base_uri": "https://localhost:8080/",
          "height": 437
        },
        "id": "tzuIMbLMfRPP",
        "outputId": "0b4d4df7-3017-4887-9ed4-36ac8e10f53f",
        "vscode": {
          "languageId": "r"
        }
      },
      "outputs": [
        {
          "data": {
            "image/png": "[encoded data removed]",
            "text/plain": [
              "Plot with title “Age of victims of Gun-related Deaths by Intent”"
            ]
          },
          "metadata": {
            "image/png": {
              "height": 420,
              "width": 420
            }
          },
          "output_type": "display_data"
        }
      ],
      "source": [
        "# Creating a boxplot on age and intentions behind the gun:\n",
        "boxplot(gunDeathsData_2010$age ~ gunDeathsData_2010$intent, data = gunDeathsData_2010,\n",
        "  main = \"Age of victims of Gun-related Deaths by Intent\",\n",
        "  xlab = \"Intentions With the Gun\",\n",
        "  ylab = \"Age\")\n",
        "\n",
        "# Homicides have the most outliers"
      ]
    },
    {
      "cell_type": "code",
      "execution_count": 45,
      "metadata": {
        "colab": {
          "base_uri": "https://localhost:8080/",
          "height": 255
        },
        "id": "6L3WaH2cgFI_",
        "outputId": "ca1651da-3f42-46f1-9ad7-d143d6533c42",
        "vscode": {
          "languageId": "r"
        }
      },
      "outputs": [
        {
          "data": {
            "text/html": [
              "<table class=\"dataframe\">\n",
              "<caption>A data.frame: 5 × 2</caption>\n",
              "<thead>\n",
              "\t<tr><th scope=col>gunDeathsData_2010$race</th><th scope=col>n</th></tr>\n",
              "\t<tr><th scope=col>&lt;chr&gt;</th><th scope=col>&lt;int&gt;</th></tr>\n",
              "</thead>\n",
              "<tbody>\n",
              "\t<tr><td>Asian/Pacific Islander        </td><td>  388</td></tr>\n",
              "\t<tr><td>Black                         </td><td> 7370</td></tr>\n",
              "\t<tr><td>Hispanic                      </td><td> 3008</td></tr>\n",
              "\t<tr><td>Native American/Native Alaskan</td><td>  293</td></tr>\n",
              "\t<tr><td>White                         </td><td>20613</td></tr>\n",
              "</tbody>\n",
              "</table>\n"
            ],
            "text/latex": [
              "A data.frame: 5 × 2\n",
              "\\begin{tabular}{ll}\n",
              " gunDeathsData\\_2010\\$race & n\\\\\n",
              " <chr> & <int>\\\\\n",
              "\\hline\n",
              "\t Asian/Pacific Islander         &   388\\\\\n",
              "\t Black                          &  7370\\\\\n",
              "\t Hispanic                       &  3008\\\\\n",
              "\t Native American/Native Alaskan &   293\\\\\n",
              "\t White                          & 20613\\\\\n",
              "\\end{tabular}\n"
            ],
            "text/markdown": [
              "\n",
              "A data.frame: 5 × 2\n",
              "\n",
              "| gunDeathsData_2010$race &lt;chr&gt; | n &lt;int&gt; |\n",
              "|---|---|\n",
              "| Asian/Pacific Islander         |   388 |\n",
              "| Black                          |  7370 |\n",
              "| Hispanic                       |  3008 |\n",
              "| Native American/Native Alaskan |   293 |\n",
              "| White                          | 20613 |\n",
              "\n"
            ],
            "text/plain": [
              "  gunDeathsData_2010$race        n    \n",
              "1 Asian/Pacific Islander           388\n",
              "2 Black                           7370\n",
              "3 Hispanic                        3008\n",
              "4 Native American/Native Alaskan   293\n",
              "5 White                          20613"
            ]
          },
          "metadata": {},
          "output_type": "display_data"
        }
      ],
      "source": [
        "gunDeathsData_2010 %>%\n",
        "  count(gunDeathsData_2010$race)"
      ]
    },
    {
      "cell_type": "code",
      "execution_count": 46,
      "metadata": {
        "colab": {
          "base_uri": "https://localhost:8080/",
          "height": 161
        },
        "id": "oGuhoRt2gJt9",
        "outputId": "044c6901-1111-4cfd-d40b-fffa4343f49c",
        "vscode": {
          "languageId": "r"
        }
      },
      "outputs": [
        {
          "data": {
            "text/html": [
              "<table class=\"dataframe\">\n",
              "<caption>A data.frame: 2 × 2</caption>\n",
              "<thead>\n",
              "\t<tr><th scope=col>gunDeathsData_2010$sex</th><th scope=col>n</th></tr>\n",
              "\t<tr><th scope=col>&lt;chr&gt;</th><th scope=col>&lt;int&gt;</th></tr>\n",
              "</thead>\n",
              "<tbody>\n",
              "\t<tr><td>F</td><td> 4316</td></tr>\n",
              "\t<tr><td>M</td><td>27356</td></tr>\n",
              "</tbody>\n",
              "</table>\n"
            ],
            "text/latex": [
              "A data.frame: 2 × 2\n",
              "\\begin{tabular}{ll}\n",
              " gunDeathsData\\_2010\\$sex & n\\\\\n",
              " <chr> & <int>\\\\\n",
              "\\hline\n",
              "\t F &  4316\\\\\n",
              "\t M & 27356\\\\\n",
              "\\end{tabular}\n"
            ],
            "text/markdown": [
              "\n",
              "A data.frame: 2 × 2\n",
              "\n",
              "| gunDeathsData_2010$sex &lt;chr&gt; | n &lt;int&gt; |\n",
              "|---|---|\n",
              "| F |  4316 |\n",
              "| M | 27356 |\n",
              "\n"
            ],
            "text/plain": [
              "  gunDeathsData_2010$sex n    \n",
              "1 F                       4316\n",
              "2 M                      27356"
            ]
          },
          "metadata": {},
          "output_type": "display_data"
        }
      ],
      "source": [
        "gunDeathsData_2010 %>%\n",
        "  count(gunDeathsData_2010$sex)"
      ]
    },
    {
      "cell_type": "code",
      "execution_count": 47,
      "metadata": {
        "colab": {
          "base_uri": "https://localhost:8080/",
          "height": 223
        },
        "id": "ecOXrRPegYUu",
        "outputId": "2d0a09d9-a2b6-46df-e2a3-08b6a918f682",
        "vscode": {
          "languageId": "r"
        }
      },
      "outputs": [
        {
          "data": {
            "text/html": [
              "<table class=\"dataframe\">\n",
              "<caption>A data.frame: 4 × 2</caption>\n",
              "<thead>\n",
              "\t<tr><th scope=col>gunDeathsData_2010$intent</th><th scope=col>n</th></tr>\n",
              "\t<tr><th scope=col>&lt;chr&gt;</th><th scope=col>&lt;int&gt;</th></tr>\n",
              "</thead>\n",
              "<tbody>\n",
              "\t<tr><td>Accidental  </td><td>  606</td></tr>\n",
              "\t<tr><td>Homicide    </td><td>11422</td></tr>\n",
              "\t<tr><td>Suicide     </td><td>19392</td></tr>\n",
              "\t<tr><td>Undetermined</td><td>  252</td></tr>\n",
              "</tbody>\n",
              "</table>\n"
            ],
            "text/latex": [
              "A data.frame: 4 × 2\n",
              "\\begin{tabular}{ll}\n",
              " gunDeathsData\\_2010\\$intent & n\\\\\n",
              " <chr> & <int>\\\\\n",
              "\\hline\n",
              "\t Accidental   &   606\\\\\n",
              "\t Homicide     & 11422\\\\\n",
              "\t Suicide      & 19392\\\\\n",
              "\t Undetermined &   252\\\\\n",
              "\\end{tabular}\n"
            ],
            "text/markdown": [
              "\n",
              "A data.frame: 4 × 2\n",
              "\n",
              "| gunDeathsData_2010$intent &lt;chr&gt; | n &lt;int&gt; |\n",
              "|---|---|\n",
              "| Accidental   |   606 |\n",
              "| Homicide     | 11422 |\n",
              "| Suicide      | 19392 |\n",
              "| Undetermined |   252 |\n",
              "\n"
            ],
            "text/plain": [
              "  gunDeathsData_2010$intent n    \n",
              "1 Accidental                  606\n",
              "2 Homicide                  11422\n",
              "3 Suicide                   19392\n",
              "4 Undetermined                252"
            ]
          },
          "metadata": {},
          "output_type": "display_data"
        }
      ],
      "source": [
        "gunDeathsData_2010 %>%\n",
        "  count(gunDeathsData_2010$intent)"
      ]
    },
    {
      "cell_type": "code",
      "execution_count": 48,
      "metadata": {
        "colab": {
          "base_uri": "https://localhost:8080/",
          "height": 474
        },
        "id": "TN8De8Pngd-_",
        "outputId": "fe3a96c9-d71d-45f1-de8b-357448377739",
        "vscode": {
          "languageId": "r"
        }
      },
      "outputs": [
        {
          "data": {
            "text/html": [
              "<table class=\"dataframe\">\n",
              "<caption>A data.frame: 12 × 2</caption>\n",
              "<thead>\n",
              "\t<tr><th scope=col>gunDeathsData_2010$month</th><th scope=col>n</th></tr>\n",
              "\t<tr><th scope=col>&lt;int&gt;</th><th scope=col>&lt;int&gt;</th></tr>\n",
              "</thead>\n",
              "<tbody>\n",
              "\t<tr><td> 1</td><td>2568</td></tr>\n",
              "\t<tr><td> 2</td><td>2183</td></tr>\n",
              "\t<tr><td> 3</td><td>2651</td></tr>\n",
              "\t<tr><td> 4</td><td>2671</td></tr>\n",
              "\t<tr><td> 5</td><td>2761</td></tr>\n",
              "\t<tr><td> 6</td><td>2719</td></tr>\n",
              "\t<tr><td> 7</td><td>2933</td></tr>\n",
              "\t<tr><td> 8</td><td>2774</td></tr>\n",
              "\t<tr><td> 9</td><td>2588</td></tr>\n",
              "\t<tr><td>10</td><td>2725</td></tr>\n",
              "\t<tr><td>11</td><td>2517</td></tr>\n",
              "\t<tr><td>12</td><td>2582</td></tr>\n",
              "</tbody>\n",
              "</table>\n"
            ],
            "text/latex": [
              "A data.frame: 12 × 2\n",
              "\\begin{tabular}{ll}\n",
              " gunDeathsData\\_2010\\$month & n\\\\\n",
              " <int> & <int>\\\\\n",
              "\\hline\n",
              "\t  1 & 2568\\\\\n",
              "\t  2 & 2183\\\\\n",
              "\t  3 & 2651\\\\\n",
              "\t  4 & 2671\\\\\n",
              "\t  5 & 2761\\\\\n",
              "\t  6 & 2719\\\\\n",
              "\t  7 & 2933\\\\\n",
              "\t  8 & 2774\\\\\n",
              "\t  9 & 2588\\\\\n",
              "\t 10 & 2725\\\\\n",
              "\t 11 & 2517\\\\\n",
              "\t 12 & 2582\\\\\n",
              "\\end{tabular}\n"
            ],
            "text/markdown": [
              "\n",
              "A data.frame: 12 × 2\n",
              "\n",
              "| gunDeathsData_2010$month &lt;int&gt; | n &lt;int&gt; |\n",
              "|---|---|\n",
              "|  1 | 2568 |\n",
              "|  2 | 2183 |\n",
              "|  3 | 2651 |\n",
              "|  4 | 2671 |\n",
              "|  5 | 2761 |\n",
              "|  6 | 2719 |\n",
              "|  7 | 2933 |\n",
              "|  8 | 2774 |\n",
              "|  9 | 2588 |\n",
              "| 10 | 2725 |\n",
              "| 11 | 2517 |\n",
              "| 12 | 2582 |\n",
              "\n"
            ],
            "text/plain": [
              "   gunDeathsData_2010$month n   \n",
              "1   1                       2568\n",
              "2   2                       2183\n",
              "3   3                       2651\n",
              "4   4                       2671\n",
              "5   5                       2761\n",
              "6   6                       2719\n",
              "7   7                       2933\n",
              "8   8                       2774\n",
              "9   9                       2588\n",
              "10 10                       2725\n",
              "11 11                       2517\n",
              "12 12                       2582"
            ]
          },
          "metadata": {},
          "output_type": "display_data"
        }
      ],
      "source": [
        "gunDeathsData_2010 %>%\n",
        "  count(gunDeathsData_2010$month)"
      ]
    },
    {
      "cell_type": "code",
      "execution_count": null,
      "metadata": {
        "colab": {
          "base_uri": "https://localhost:8080/",
          "height": 34
        },
        "id": "hrt7TawcglXT",
        "outputId": "1aec7dc2-f65b-4a60-aa45-1b105df848d4",
        "vscode": {
          "languageId": "r"
        }
      },
      "outputs": [
        {
          "data": {
            "text/html": [
              "TRUE"
            ],
            "text/latex": [
              "TRUE"
            ],
            "text/markdown": [
              "TRUE"
            ],
            "text/plain": [
              "[1] TRUE"
            ]
          },
          "metadata": {},
          "output_type": "display_data"
        }
      ],
      "source": [
        "# Making the markdown file:\n",
        "file.create(\"CaseStudy_GunDeaths_2010.Rmd\")"
      ]
    }
  ],
  "metadata": {
    "colab": {
      "provenance": []
    },
    "kernelspec": {
      "display_name": "R",
      "name": "ir"
    },
    "language_info": {
      "name": "R"
    }
  },
  "nbformat": 4,
  "nbformat_minor": 0
}
